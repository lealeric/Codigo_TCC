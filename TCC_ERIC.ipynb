{
 "cells": [
  {
   "cell_type": "markdown",
   "metadata": {},
   "source": [
    "# METODOLOGIA BASEADA EM CIÊNCIA DE REDES PARA ANÁLISE DE COMUNIDADES EM REDES SOCIAIS COM GEOLOCALIZAÇÃO\n",
    "\n",
    "## Autor: ERIC LEAL\n",
    "\n",
    "### Detalhes do Projeto\n",
    "Em desenvolvimento...\n",
    "\n"
   ]
  },
  {
   "cell_type": "markdown",
   "metadata": {},
   "source": [
    "## Importando as bibliotecas"
   ]
  },
  {
   "cell_type": "code",
   "execution_count": 1,
   "metadata": {},
   "outputs": [
    {
     "name": "stdout",
     "output_type": "stream",
     "text": [
      "COMMUNITY LAYOUT: Datashader not found, edge bundling not available\n"
     ]
    }
   ],
   "source": [
    "import pandas as pd\n",
    "import numpy as np\n",
    "import json\n",
    "import random\n",
    "from community_layout.layout_class import CommunityLayout\n",
    "from community import community_louvain\n",
    "from matplotlib.colors import CSS4_COLORS\n",
    "import graphviz as gv\n",
    "import pygraphviz as pgv\n",
    "\n",
    "from pandas import json_normalize\n",
    "import networkx as nx\n",
    "from networkx.drawing.nx_agraph import to_agraph\n",
    "from networkx.drawing.nx_pydot import to_pydot\n",
    "\n",
    "\n",
    "import matplotlib.pyplot as plt\n",
    "import utm\n",
    "import math\n",
    "import csv\n",
    "import geopandas as gpd\n",
    "from libpysal.weights import Rook\n",
    "\n",
    "from tqdm.contrib.concurrent import thread_map\n",
    "\n",
    "import tweepy\n",
    "import os\n",
    "from dotenv import load_dotenv\n",
    "from shapely import geometry\n",
    "\n",
    "# Required Libraries\n",
    "from tqdm import tqdm as tqdmBasic\n",
    "\n",
    "from sklearn.cluster import KMeans\n",
    "import seaborn as sns; sns.set_theme()"
   ]
  },
  {
   "cell_type": "markdown",
   "metadata": {},
   "source": [
    "## Configurando a API"
   ]
  },
  {
   "cell_type": "code",
   "execution_count": 18,
   "metadata": {},
   "outputs": [],
   "source": [
    "# Load the .env file\n",
    "# load_dotenv()\n",
    "\n",
    "# # Get the keys from the .env file\n",
    "# consumer_key = os.environ.get('TWITTER_API_KEY')\n",
    "# consumer_secret = os.environ.get('TWITTER_API_KEY_SECRET')\n",
    "# access_token = os.environ.get('TWITTER_ACCESS_TOKEN')\n",
    "# access_token_secret = os.environ.get('TWITTER_ACCESS_TOKEN_SECRET')\n",
    "# bearer_token = os.environ.get('TWITTER_BEARER_TOKEN')\n",
    "\n",
    "# # Authenticate with the twitter API\n",
    "# auth = tweepy.OAuthHandler(consumer_key, consumer_secret)\n",
    "# auth.set_access_token(access_token, access_token_secret)\n",
    "\n",
    "# # Create the API object\n",
    "# api = tweepy.API(auth, wait_on_rate_limit=True)"
   ]
  },
  {
   "cell_type": "markdown",
   "metadata": {},
   "source": [
    "## Carregando dados existententes caso existam"
   ]
  },
  {
   "cell_type": "code",
   "execution_count": 4,
   "metadata": {},
   "outputs": [
    {
     "name": "stdout",
     "output_type": "stream",
     "text": [
      "Foram carregadas 181528 chaves do arquivo JSON\n"
     ]
    }
   ],
   "source": [
    "# Dicionario a ser preenchido com chaves sendo o author_id e os valores sendo o username\n",
    "if os.path.exists(r'E://Dict_Author_Id_to_Username.json'):\n",
    "    with open(r'E://Dict_Author_Id_to_Username.json', 'r') as fp:\n",
    "        author_id_to_username = json.load(fp)\n",
    "        print(f\"Foram carregadas {len(author_id_to_username)} chaves do arquivo JSON\")\n",
    "else:\n",
    "    author_id_to_username = {}"
   ]
  },
  {
   "cell_type": "code",
   "execution_count": 2,
   "metadata": {},
   "outputs": [
    {
     "name": "stderr",
     "output_type": "stream",
     "text": [
      "C:\\Users\\Cliente\\AppData\\Local\\Temp\\ipykernel_12948\\2368035411.py:1: DtypeWarning: Columns (1,2,3,4,5,6,7,8) have mixed types. Specify dtype option on import or set low_memory=False.\n",
      "  df_mean = pd.read_csv(r\"E:/DataFrameUsernameMeansMedians.csv\", sep=\";\", header=None)\n"
     ]
    },
    {
     "data": {
      "text/html": [
       "<div>\n",
       "<style scoped>\n",
       "    .dataframe tbody tr th:only-of-type {\n",
       "        vertical-align: middle;\n",
       "    }\n",
       "\n",
       "    .dataframe tbody tr th {\n",
       "        vertical-align: top;\n",
       "    }\n",
       "\n",
       "    .dataframe thead th {\n",
       "        text-align: right;\n",
       "    }\n",
       "</style>\n",
       "<table border=\"1\" class=\"dataframe\">\n",
       "  <thead>\n",
       "    <tr style=\"text-align: right;\">\n",
       "      <th></th>\n",
       "      <th>username</th>\n",
       "      <th>mean_lat</th>\n",
       "      <th>mean_lon</th>\n",
       "      <th>median_lat</th>\n",
       "      <th>median_lon</th>\n",
       "      <th>mean_X</th>\n",
       "      <th>mean_Y</th>\n",
       "      <th>median_X</th>\n",
       "      <th>median_Y</th>\n",
       "    </tr>\n",
       "  </thead>\n",
       "  <tbody>\n",
       "    <tr>\n",
       "      <th>0</th>\n",
       "      <td>username</td>\n",
       "      <td>mean_lat</td>\n",
       "      <td>mean_lon</td>\n",
       "      <td>median_lat</td>\n",
       "      <td>median_lon</td>\n",
       "      <td>mean_X</td>\n",
       "      <td>mean_Y</td>\n",
       "      <td>median_X</td>\n",
       "      <td>median_Y</td>\n",
       "    </tr>\n",
       "    <tr>\n",
       "      <th>1</th>\n",
       "      <td>Manuela_Lagoa</td>\n",
       "      <td>38.7</td>\n",
       "      <td>-9.18333333</td>\n",
       "      <td>38.7</td>\n",
       "      <td>-9.18333333</td>\n",
       "      <td>484058.0201695964</td>\n",
       "      <td>4283502.065548434</td>\n",
       "      <td>484058.0201695964</td>\n",
       "      <td>4283502.065548434</td>\n",
       "    </tr>\n",
       "    <tr>\n",
       "      <th>2</th>\n",
       "      <td>oblogdoedinho</td>\n",
       "      <td>38.72556305044776</td>\n",
       "      <td>-9.150001534925371</td>\n",
       "      <td>38.72556305</td>\n",
       "      <td>-9.15000153</td>\n",
       "      <td>486961.0744357934</td>\n",
       "      <td>4286333.415443861</td>\n",
       "      <td>486961.0748638524</td>\n",
       "      <td>4286333.415393474</td>\n",
       "    </tr>\n",
       "    <tr>\n",
       "      <th>3</th>\n",
       "      <td>noventaradio</td>\n",
       "      <td>38.86226743322353</td>\n",
       "      <td>-9.065096915696257</td>\n",
       "      <td>38.86485962</td>\n",
       "      <td>-9.06072863</td>\n",
       "      <td>494352.23164528405</td>\n",
       "      <td>4301494.446264396</td>\n",
       "      <td>494731.4127623029</td>\n",
       "      <td>4301781.836199852</td>\n",
       "    </tr>\n",
       "    <tr>\n",
       "      <th>4</th>\n",
       "      <td>object82</td>\n",
       "      <td>38.75138141069397</td>\n",
       "      <td>-9.188555476450512</td>\n",
       "      <td>38.7167</td>\n",
       "      <td>-9.1569</td>\n",
       "      <td>483615.65982184716</td>\n",
       "      <td>4289204.575585471</td>\n",
       "      <td>486359.7383995273</td>\n",
       "      <td>4285350.924191058</td>\n",
       "    </tr>\n",
       "  </tbody>\n",
       "</table>\n",
       "</div>"
      ],
      "text/plain": [
       "        username           mean_lat            mean_lon   median_lat  \\\n",
       "0       username           mean_lat            mean_lon   median_lat   \n",
       "1  Manuela_Lagoa               38.7         -9.18333333         38.7   \n",
       "2  oblogdoedinho  38.72556305044776  -9.150001534925371  38.72556305   \n",
       "3   noventaradio  38.86226743322353  -9.065096915696257  38.86485962   \n",
       "4       object82  38.75138141069397  -9.188555476450512      38.7167   \n",
       "\n",
       "    median_lon              mean_X             mean_Y           median_X  \\\n",
       "0   median_lon              mean_X             mean_Y           median_X   \n",
       "1  -9.18333333   484058.0201695964  4283502.065548434  484058.0201695964   \n",
       "2  -9.15000153   486961.0744357934  4286333.415443861  486961.0748638524   \n",
       "3  -9.06072863  494352.23164528405  4301494.446264396  494731.4127623029   \n",
       "4      -9.1569  483615.65982184716  4289204.575585471  486359.7383995273   \n",
       "\n",
       "            median_Y  \n",
       "0           median_Y  \n",
       "1  4283502.065548434  \n",
       "2  4286333.415393474  \n",
       "3  4301781.836199852  \n",
       "4  4285350.924191058  "
      ]
     },
     "execution_count": 2,
     "metadata": {},
     "output_type": "execute_result"
    }
   ],
   "source": [
    "df_mean = pd.read_csv(r\"E:/DataFrameUsernameMeansMedians.csv\", sep=\";\", header=None)\n",
    "df_mean.columns = [\"username\", \"mean_lat\", \"mean_lon\", \"median_lat\", \"median_lon\", \"mean_X\", \"mean_Y\", \"median_X\", \"median_Y\"]\n",
    "df_mean.head()"
   ]
  },
  {
   "cell_type": "code",
   "execution_count": 3,
   "metadata": {},
   "outputs": [
    {
     "data": {
      "text/html": [
       "<div>\n",
       "<style scoped>\n",
       "    .dataframe tbody tr th:only-of-type {\n",
       "        vertical-align: middle;\n",
       "    }\n",
       "\n",
       "    .dataframe tbody tr th {\n",
       "        vertical-align: top;\n",
       "    }\n",
       "\n",
       "    .dataframe thead th {\n",
       "        text-align: right;\n",
       "    }\n",
       "</style>\n",
       "<table border=\"1\" class=\"dataframe\">\n",
       "  <thead>\n",
       "    <tr style=\"text-align: right;\">\n",
       "      <th></th>\n",
       "      <th>username</th>\n",
       "      <th>mean_lat</th>\n",
       "      <th>mean_lon</th>\n",
       "      <th>median_lat</th>\n",
       "      <th>median_lon</th>\n",
       "      <th>mean_X</th>\n",
       "      <th>mean_Y</th>\n",
       "      <th>median_X</th>\n",
       "      <th>median_Y</th>\n",
       "    </tr>\n",
       "  </thead>\n",
       "  <tbody>\n",
       "    <tr>\n",
       "      <th>1</th>\n",
       "      <td>Manuela_Lagoa</td>\n",
       "      <td>38.7</td>\n",
       "      <td>-9.18333333</td>\n",
       "      <td>38.7</td>\n",
       "      <td>-9.18333333</td>\n",
       "      <td>484058.0201695964</td>\n",
       "      <td>4283502.065548434</td>\n",
       "      <td>484058.0201695964</td>\n",
       "      <td>4283502.065548434</td>\n",
       "    </tr>\n",
       "    <tr>\n",
       "      <th>2</th>\n",
       "      <td>oblogdoedinho</td>\n",
       "      <td>38.72556305044776</td>\n",
       "      <td>-9.150001534925371</td>\n",
       "      <td>38.72556305</td>\n",
       "      <td>-9.15000153</td>\n",
       "      <td>486961.0744357934</td>\n",
       "      <td>4286333.415443861</td>\n",
       "      <td>486961.0748638524</td>\n",
       "      <td>4286333.415393474</td>\n",
       "    </tr>\n",
       "    <tr>\n",
       "      <th>3</th>\n",
       "      <td>noventaradio</td>\n",
       "      <td>38.86226743322353</td>\n",
       "      <td>-9.065096915696257</td>\n",
       "      <td>38.86485962</td>\n",
       "      <td>-9.06072863</td>\n",
       "      <td>494352.23164528405</td>\n",
       "      <td>4301494.446264396</td>\n",
       "      <td>494731.4127623029</td>\n",
       "      <td>4301781.836199852</td>\n",
       "    </tr>\n",
       "    <tr>\n",
       "      <th>4</th>\n",
       "      <td>object82</td>\n",
       "      <td>38.75138141069397</td>\n",
       "      <td>-9.188555476450512</td>\n",
       "      <td>38.7167</td>\n",
       "      <td>-9.1569</td>\n",
       "      <td>483615.65982184716</td>\n",
       "      <td>4289204.575585471</td>\n",
       "      <td>486359.7383995273</td>\n",
       "      <td>4285350.924191058</td>\n",
       "    </tr>\n",
       "    <tr>\n",
       "      <th>5</th>\n",
       "      <td>Itsmarsousa</td>\n",
       "      <td>38.650378758920446</td>\n",
       "      <td>-9.074262791420454</td>\n",
       "      <td>38.66137</td>\n",
       "      <td>-9.07744</td>\n",
       "      <td>493537.9279843213</td>\n",
       "      <td>4277982.518656515</td>\n",
       "      <td>493262.48875507596</td>\n",
       "      <td>4279202.385287764</td>\n",
       "    </tr>\n",
       "  </tbody>\n",
       "</table>\n",
       "</div>"
      ],
      "text/plain": [
       "        username            mean_lat            mean_lon   median_lat  \\\n",
       "1  Manuela_Lagoa                38.7         -9.18333333         38.7   \n",
       "2  oblogdoedinho   38.72556305044776  -9.150001534925371  38.72556305   \n",
       "3   noventaradio   38.86226743322353  -9.065096915696257  38.86485962   \n",
       "4       object82   38.75138141069397  -9.188555476450512      38.7167   \n",
       "5    Itsmarsousa  38.650378758920446  -9.074262791420454     38.66137   \n",
       "\n",
       "    median_lon              mean_X             mean_Y            median_X  \\\n",
       "1  -9.18333333   484058.0201695964  4283502.065548434   484058.0201695964   \n",
       "2  -9.15000153   486961.0744357934  4286333.415443861   486961.0748638524   \n",
       "3  -9.06072863  494352.23164528405  4301494.446264396   494731.4127623029   \n",
       "4      -9.1569  483615.65982184716  4289204.575585471   486359.7383995273   \n",
       "5     -9.07744   493537.9279843213  4277982.518656515  493262.48875507596   \n",
       "\n",
       "            median_Y  \n",
       "1  4283502.065548434  \n",
       "2  4286333.415393474  \n",
       "3  4301781.836199852  \n",
       "4  4285350.924191058  \n",
       "5  4279202.385287764  "
      ]
     },
     "execution_count": 3,
     "metadata": {},
     "output_type": "execute_result"
    }
   ],
   "source": [
    "df_mean = df_mean.drop(0)\n",
    "df_mean.head()"
   ]
  },
  {
   "cell_type": "code",
   "execution_count": 4,
   "metadata": {},
   "outputs": [],
   "source": [
    "username_to_find = \"\"\n",
    "is_equal = df_mean['username'] == username_to_find"
   ]
  },
  {
   "cell_type": "code",
   "execution_count": 7,
   "metadata": {},
   "outputs": [
    {
     "name": "stdout",
     "output_type": "stream",
     "text": [
      "Empty DataFrame\n",
      "Columns: [username, mean_lat, mean_lon, median_lat, median_lon, mean_X, mean_Y, median_X, median_Y]\n",
      "Index: []\n"
     ]
    }
   ],
   "source": [
    "print(df_mean[df_mean['username'] == username_to_find])"
   ]
  },
  {
   "cell_type": "code",
   "execution_count": 21,
   "metadata": {},
   "outputs": [],
   "source": [
    "dfTopAuthorsProjected = pd.read_csv(\"E://TopAuthorsProjected.csv\")"
   ]
  },
  {
   "cell_type": "code",
   "execution_count": 5,
   "metadata": {},
   "outputs": [],
   "source": [
    "with open(r'E:/dictMentions_locations.json', 'r') as f:\n",
    "    dictMentions = json.load(f)"
   ]
  },
  {
   "cell_type": "code",
   "execution_count": 7,
   "metadata": {},
   "outputs": [],
   "source": [
    "for k, v in dictMentions.items():\n",
    "    if \"\" in v:\n",
    "        print(k, v)"
   ]
  },
  {
   "cell_type": "code",
   "execution_count": 18,
   "metadata": {},
   "outputs": [],
   "source": [
    "grafo_twitter = nx.read_graphml(\"D:\\\\Documentos\\\\data_and_code\\\\all_data_lisbon\\\\grafo_twitter.graphml\")\n",
    "grafo_twitter_conexo = nx.read_graphml(\"D:\\\\Documentos\\\\data_and_code\\\\all_data_lisbon\\\\grafo_twitter_conexo.graphml\")\n",
    "\n",
    "grafo_fluxo_secao = nx.read_graphml(\"D:\\\\Documentos\\\\data_and_code\\\\all_data_lisbon\\\\grafo_fluxo_secao.graphml\")\n",
    "grafo_fluxo_freguesia = nx.read_graphml(\"D:\\\\Documentos\\\\data_and_code\\\\all_data_lisbon\\\\grafo_fluxo_freguesia.graphml\")\n",
    "grafo_fluxo_municipio = nx.read_graphml(\"D:\\\\Documentos\\\\data_and_code\\\\all_data_lisbon\\\\grafo_fluxo_municipio.graphml\")\n",
    "\n",
    "grafo_regioes_secao = nx.read_graphml(\"D:\\\\Documentos\\\\data_and_code\\\\all_data_lisbon\\\\grafo_regioes_secao.graphml\")  \n",
    "grafo_regioes_freguesia = nx.read_graphml(\"D:\\\\Documentos\\\\data_and_code\\\\all_data_lisbon\\\\grafo_regioes_freguesia.graphml\")\n",
    "grafo_regioes_municipio = nx.read_graphml(\"D:\\\\Documentos\\\\data_and_code\\\\all_data_lisbon\\\\grafo_regioes_municipio.graphml\")"
   ]
  },
  {
   "cell_type": "code",
   "execution_count": 5,
   "metadata": {},
   "outputs": [
    {
     "data": {
      "text/plain": [
       "(196916, 142355)"
      ]
     },
     "execution_count": 5,
     "metadata": {},
     "output_type": "execute_result"
    }
   ],
   "source": [
    "grafo_twitter.number_of_nodes(), grafo_twitter.number_of_edges()"
   ]
  },
  {
   "cell_type": "code",
   "execution_count": 10,
   "metadata": {},
   "outputs": [],
   "source": [
    "grafo_twitter_copy = grafo_twitter.copy()\n",
    "\n",
    "for node in grafo_twitter.nodes():\n",
    "    if node == \"\" or node == \" \" or node is None:\n",
    "        grafo_twitter_copy.remove_node(node)"
   ]
  },
  {
   "cell_type": "code",
   "execution_count": 17,
   "metadata": {},
   "outputs": [],
   "source": [
    "nx.write_graphml_lxml(grafo_twitter_copy, \"D:\\\\Documentos\\\\data_and_code\\\\all_data_lisbon\\\\grafo_twitter.graphml\")"
   ]
  },
  {
   "cell_type": "code",
   "execution_count": 6,
   "metadata": {},
   "outputs": [],
   "source": [
    "gdf_wgs84_secao = gpd.read_file(r\"C:\\Users\\Cliente\\OneDrive\\UNIRIO\\TCC\\GPK\\Seccao_Area_de_Interesse.shp\")\n",
    "gdf_wgs84_freguesia = gpd.read_file(r\"C:\\Users\\Cliente\\OneDrive\\UNIRIO\\TCC\\GPK\\Freguesia_Area_de_Interesse.shp\")\n",
    "gdf_wgs84_municipio = gpd.read_file(r\"C:\\Users\\Cliente\\OneDrive\\UNIRIO\\TCC\\GPK\\Municipio_Area_de_Interesse.shp\")\n",
    "\n",
    "crs = \"EPSG:4326\"\n",
    "\n",
    "gdf_wgs84_secao = gdf_wgs84_secao.to_crs(crs)\n",
    "gdf_wgs84_freguesia = gdf_wgs84_freguesia.to_crs(crs)\n",
    "gdf_wgs84_municipio = gdf_wgs84_municipio.to_crs(crs)"
   ]
  },
  {
   "cell_type": "code",
   "execution_count": 32,
   "metadata": {},
   "outputs": [],
   "source": [
    "gdf_users = gpd.read_file(r\"E:\\Usernames_Com_Coordenadas_Localidade.csv\")\n",
    "gdf_users['geometry'] = gdf_users.apply(lambda x: geometry.Point(x['median_lon'], x['median_lat']), axis=1)"
   ]
  },
  {
   "cell_type": "markdown",
   "metadata": {},
   "source": [
    "## Carregando métodos"
   ]
  },
  {
   "cell_type": "code",
   "execution_count": 5,
   "metadata": {},
   "outputs": [],
   "source": [
    "def community_layout(g, partition):\n",
    "    \"\"\"\n",
    "    Compute the layout for a modular graph.\n",
    "\n",
    "\n",
    "    Arguments:\n",
    "    ----------\n",
    "    g -- networkx.Graph or networkx.DiGraph instance\n",
    "        graph to plot\n",
    "\n",
    "    partition -- dict mapping int node -> int community\n",
    "        graph partitions\n",
    "\n",
    "\n",
    "    Returns:\n",
    "    --------\n",
    "    pos -- dict mapping int node -> (float x, float y)\n",
    "        node positions\n",
    "\n",
    "    \"\"\"\n",
    "\n",
    "    pos_communities = _position_communities(g, partition, scale=3.)\n",
    "\n",
    "    pos_nodes = _position_nodes(g, partition, scale=1.)\n",
    "\n",
    "    # combine positions\n",
    "    pos = dict()\n",
    "    for node in g.nodes():\n",
    "        pos[node] = pos_communities[node] + pos_nodes[node]\n",
    "\n",
    "    return pos\n",
    "\n",
    "def _position_communities(g, partition, **kwargs):\n",
    "\n",
    "    # create a weighted graph, in which each node corresponds to a community,\n",
    "    # and each edge weight to the number of edges between communities\n",
    "    between_community_edges = _find_between_community_edges(g, partition)\n",
    "\n",
    "    communities = set(partition.values())\n",
    "    hypergraph = nx.DiGraph()\n",
    "    hypergraph.add_nodes_from(communities)\n",
    "    for (ci, cj), edges in between_community_edges.items():\n",
    "        hypergraph.add_edge(ci, cj, weight=len(edges))\n",
    "\n",
    "    # find layout for communities\n",
    "    pos_communities = nx.spring_layout(hypergraph, **kwargs)\n",
    "\n",
    "    # set node positions to position of community\n",
    "    pos = dict()\n",
    "    for node, community in partition.items():\n",
    "        pos[node] = pos_communities[community]\n",
    "\n",
    "    return pos\n",
    "\n",
    "def _find_between_community_edges(g, partition):\n",
    "\n",
    "    edges = dict()\n",
    "\n",
    "    for (ni, nj) in g.edges():\n",
    "        ci = partition[ni]\n",
    "        cj = partition[nj]\n",
    "\n",
    "        if ci != cj:\n",
    "            try:\n",
    "                edges[(ci, cj)] += [(ni, nj)]\n",
    "            except KeyError:\n",
    "                edges[(ci, cj)] = [(ni, nj)]\n",
    "\n",
    "    return edges\n",
    "\n",
    "def _position_nodes(g, partition, **kwargs):\n",
    "    \"\"\"\n",
    "    Positions nodes within communities.\n",
    "    \"\"\"\n",
    "\n",
    "    communities = dict()\n",
    "    for node, community in partition.items():\n",
    "        try:\n",
    "            communities[community] += [node]\n",
    "        except KeyError:\n",
    "            communities[community] = [node]\n",
    "\n",
    "    pos = dict()\n",
    "    for ci, nodes in communities.items():\n",
    "        subgraph = g.subgraph(nodes)\n",
    "        pos_subgraph = nx.spring_layout(subgraph, **kwargs)\n",
    "        pos.update(pos_subgraph)\n",
    "\n",
    "    return pos"
   ]
  },
  {
   "cell_type": "code",
   "execution_count": 25,
   "metadata": {},
   "outputs": [],
   "source": [
    "def load_jsonl(input_path) -> list:\n",
    "    \"\"\"\n",
    "    Read list of objects from a JSON lines file.\n",
    "    \"\"\"\n",
    "    data = []\n",
    "    with open(input_path, 'r', encoding='utf-8') as f:\n",
    "        for line in f:\n",
    "            data.append(json.loads(line.rstrip('\\n|\\r')))\n",
    "    print('Loaded {} records from {}'.format(len(data), input_path))\n",
    "    return data"
   ]
  },
  {
   "cell_type": "code",
   "execution_count": 26,
   "metadata": {},
   "outputs": [],
   "source": [
    "def dataframe_standartization(data_frame: pd.DataFrame, columns: list = []) -> pd.DataFrame:\n",
    "    data_frame.drop(columns=columns, inplace=True)\n",
    "    data_frame = data_frame.fillna(0)\n",
    "    \n",
    "    dictCoordByUser = {}\n",
    "\n",
    "    for index, row in tqdmBasic(data_frame.iterrows(), total=data_frame.shape[0]):\n",
    "        if row['username'] not in dictCoordByUser:\n",
    "            dictCoordByUser[row['username']] = {\n",
    "                'lat': [],\n",
    "                'lon': []\n",
    "            }        \n",
    "            \n",
    "        dictCoordByUser[row['username']]['lat'].append(row['lat'])\n",
    "        dictCoordByUser[row['username']]['lon'].append(row['lon'])\n",
    "        \n",
    "    df_mean = pd.DataFrame(columns=[\"username\", \"mean_lat\", \"mean_lon\", \"median_lat\", \"median_lon\"])\n",
    "\n",
    "    for key in tqdmBasic(dictCoordByUser.keys()):\n",
    "        df_mean = df_mean._append({\n",
    "            \"username\": key,\n",
    "            \"mean_lat\": np.mean(dictCoordByUser[key]['lat']),\n",
    "            \"mean_lon\": np.mean(dictCoordByUser[key]['lon']),\n",
    "            \"median_lat\": np.median(dictCoordByUser[key]['lat']),\n",
    "            \"median_lon\": np.median(dictCoordByUser[key]['lon'])\n",
    "        }, ignore_index=True)\n",
    "        \n",
    "    return df_mean"
   ]
  },
  {
   "cell_type": "code",
   "execution_count": 27,
   "metadata": {},
   "outputs": [],
   "source": [
    "def gera_dict_mentions_by_user(data_frame: pd.DataFrame, data_frame2:pd.DataFrame = None,  mentions_unicas = True) -> dict:\n",
    "    if data_frame2 is not None:\n",
    "        mentions_usuario = {}\n",
    "        \n",
    "        for index, row in tqdmBasic(data_frame2.iterrows(), total=data_frame2.shape[0]):\n",
    "            if row['username'] not in mentions_usuario:\n",
    "                mentions_usuario[row['username']] = [row_base[0]['username'] for row_base in data_frame[data_frame['username'] == row['username']]['entities_mentions'].tolist() \n",
    "                                                     if row_base is not None]    \n",
    "    else:\n",
    "        data_editado = data_frame['entities_mentions']\n",
    "        data_editado.dropna(inplace=True)\n",
    "        # dataEditado.reset_index(drop=True, inplace=True)\n",
    "        data_editado = data_editado.to_frame()\n",
    "        \n",
    "        mentions_usuario = {}\n",
    "\n",
    "        # Percorrendo teste1 e adicionando os usernames no dicionário usando o id do usuário como chave\n",
    "            \n",
    "        for mention in tqdmBasic(data_editado.itertuples(), total=data_editado.shape[0]):\n",
    "            usuarios_mencionados = []\n",
    "            \n",
    "            coluna = 'author_id' #'username' if data_frame['username'].at[mention.Index] != '' else 'author_id'\n",
    "            \n",
    "            if data_frame[coluna].at[mention.Index] not in mentions_usuario:\n",
    "                mentions_usuario[data_frame[coluna].at[mention.Index]] = []\n",
    "                \n",
    "            for usuario in mention[1]:\n",
    "                usuarios_mencionados.append(usuario['username'])\n",
    "                mentions_usuario[data_frame[coluna].at[mention.Index]].extend(usuarios_mencionados)\n",
    "        \n",
    "    if mentions_unicas:\n",
    "        mentions_usuario = {k: list(dict.fromkeys(v)) for k, target in mentions_usuario.items()}\n",
    "        \n",
    "    return mentions_usuario"
   ]
  },
  {
   "cell_type": "code",
   "execution_count": 28,
   "metadata": {},
   "outputs": [],
   "source": [
    "def geraDictLinkTweets(data_frame) -> list:\n",
    "    dataEditado = data_frame['entities_urls']\n",
    "    dataEditado.dropna(inplace=True)\n",
    "    # dataEditado.reset_index(drop=True, inplace=True)\n",
    "    dataEditado = dataEditado.to_frame()\n",
    "    \n",
    "    linksTweets = {}\n",
    "\n",
    "    # Percorrendo teste1 e adicionando os usernames no dicionário usando o id do usuário como chave\n",
    "        \n",
    "    contador = 1\n",
    "    for link in dataEditado.itertuples():\n",
    "        print(f\"Link {contador} de {dataEditado.shape[0]}\")\n",
    "        \n",
    "        linksTweet = []\n",
    "        if data_frame['author_id'].at[link.Index] not in linksTweets:\n",
    "            linksTweets[data_frame['author_id'].at[link.Index]] = []\n",
    "            \n",
    "        for linkTweet in link[1]:\n",
    "            linksTweet.append(linkTweet['expanded_url'])\n",
    "            linksTweets[data_frame['author_id'].at[link.Index]].extend(linksTweet)\n",
    "        contador += 1\n",
    "        \n",
    "    return linksTweets"
   ]
  },
  {
   "cell_type": "code",
   "execution_count": 29,
   "metadata": {},
   "outputs": [],
   "source": [
    "def returnMediaDictListas(dict : dict) -> float:\n",
    "    soma = 0\n",
    "    for key in dict:\n",
    "        soma += len(dict[key])\n",
    "    return soma/len(dict)"
   ]
  },
  {
   "cell_type": "code",
   "execution_count": 30,
   "metadata": {},
   "outputs": [],
   "source": [
    "def get_username(author_id: str):\n",
    "    \"\"\"Recupera o username do usuário a partir do author_id e atualiza o dicionário author_id_to_username\n",
    "\n",
    "    Args:\n",
    "        author_id: O id do usuário \n",
    "    \"\"\"\n",
    "    if author_id in author_id_to_username.keys():\n",
    "        return\n",
    "    \n",
    "    author_id_to_username[author_id] = ''\n",
    "    try:\n",
    "        user = api.get_user(user_id=author_id)  \n",
    "        author_id_to_username[author_id] = user.screen_name\n",
    "    except:\n",
    "        pass"
   ]
  },
  {
   "cell_type": "code",
   "execution_count": 31,
   "metadata": {},
   "outputs": [],
   "source": [
    "def returnDataFrameWithUsernames(dataFrame : pd.DataFrame) -> pd.DataFrame:      \n",
    "    dataFrame['username'] = ''\n",
    "    \n",
    "    thread_map(get_username, [id for id in dataFrame['author_id']], max_workers=16, total=dataFrame.shape[0])\n",
    "        \n",
    "    for index, row in dataFrame.iterrows():\n",
    "        dataFrame['username'].at[index] = author_id_to_username[row['author_id']]\n",
    "    \n",
    "    return dataFrame"
   ]
  },
  {
   "cell_type": "code",
   "execution_count": 6,
   "metadata": {},
   "outputs": [],
   "source": [
    "def degree_histogram_directed(G, in_degree=False, out_degree=False):\n",
    "    \"\"\"Return a list of the frequency of each degree value.\n",
    "\n",
    "    Parameters\n",
    "    ----------\n",
    "    G : Networkx graph\n",
    "       A graph\n",
    "    in_degree : bool\n",
    "    out_degree : bool\n",
    "\n",
    "    Returns\n",
    "    -------\n",
    "    hist : list\n",
    "       A list of frequencies of degrees.\n",
    "       The degree values are the index in the list.\n",
    "\n",
    "    Notes\n",
    "    -----\n",
    "    Note: the bins are width one, hence len(list) can be large\n",
    "    (Order(number_of_edges))\n",
    "    \"\"\"\n",
    "    nodes = G.nodes()\n",
    "    if in_degree:\n",
    "        in_degree = dict(G.in_degree())\n",
    "        degseq=[in_degree.get(k,0) for k in nodes]\n",
    "    elif out_degree:\n",
    "        out_degree = dict(G.out_degree())\n",
    "        degseq=[out_degree.get(k,0) for k in nodes]\n",
    "    else:\n",
    "        degseq=[target for k, target in G.degree()]\n",
    "    dmax=max(degseq)+1\n",
    "    freq= [ 0 for d in range(dmax) ]\n",
    "    for d in degseq:\n",
    "        freq[d] += 1\n",
    "    return freq"
   ]
  },
  {
   "cell_type": "code",
   "execution_count": 34,
   "metadata": {},
   "outputs": [],
   "source": [
    "def processRawData(data : dict | list[dict]) -> pd.DataFrame:\n",
    "    data_frame = json_normalize(data,record_path = ['data'], sep = '_', errors ='ignore')\n",
    "        \n",
    "    data_frame['lat'] = data_frame['geo_coordinates_coordinates'].str.get(1)\n",
    "    data_frame['lon'] = data_frame['geo_coordinates_coordinates'].str.get(0)\n",
    "\n",
    "    #cleaning fields that will not be used\n",
    "    try:\n",
    "        # del data_frame['entities_mentions']\n",
    "        del data_frame['context_annotations']\n",
    "        # del data_frame['entities_urls']\n",
    "        # del data_frame['entities_cashtags']\n",
    "        del data_frame['withheld_copyright']\n",
    "        del data_frame['withheld_country_codes']\n",
    "        del data_frame['withheld_scope']\n",
    "    except:\n",
    "        pass\n",
    "    \n",
    "    return data_frame"
   ]
  },
  {
   "cell_type": "code",
   "execution_count": 35,
   "metadata": {},
   "outputs": [],
   "source": [
    "def process_file(file: str) -> pd.DataFrame:\n",
    "    \"\"\"Processa um arquivo JSONL e retorna um dataframe\n",
    "\n",
    "    Args:\n",
    "        file (str): Caminho do arquivo JSONL\n",
    "\n",
    "    Returns:\n",
    "        pd.DataFrame: Dataframe com os dados do arquivo JSONL\n",
    "    \"\"\"\n",
    "    print(f\"Processando arquivo {file}\")\n",
    "    df = json_normalize(load_jsonl(file), sep='_', errors='ignore')\n",
    "    return df"
   ]
  },
  {
   "cell_type": "code",
   "execution_count": 36,
   "metadata": {},
   "outputs": [],
   "source": [
    "def convert_to_utm(df: pd.DataFrame, columnLat: str = \"latitude\", columnLon: str = \"longitude\", outColumnX: str = \"x\", outColumnY: str = \"y\") -> pd.DataFrame:\n",
    "  \"\"\"Converte as coordenadas de latitude e longitude para UTM zona 29.\n",
    "\n",
    "  Args:\n",
    "      df (pd.DataFrame): Dataframe com as coordenadas de latitude e longitude.\n",
    "      columnLat (str, optional): Coluna que contém a latitude. Defaults to \"latitude\".\n",
    "      columnLon (str, optional): Coluna que contém a longitude. Defaults to \"longitude\".\n",
    "      outColumnX (str, optional): Coluna saída em UTM para o eixo X. Defaults to \"x\".\n",
    "      outColumnY (str, optional): Coluna saída em UTM para o eixo Y. Defaults to \"y\".\n",
    "\n",
    "  Returns:\n",
    "      pd.DataFrame: Dataframe atualizado com as coordendas em UTM.\n",
    "  \"\"\"\n",
    "  # Obtém as coordenadas de latitude e longitude.\n",
    "\n",
    "  lat = df[columnLat].values\n",
    "  lon = df[columnLon].values\n",
    "\n",
    "  # Converte para UTM.\n",
    "\n",
    "  easting, northing, zone_number, zone_letter = utm.from_latlon(lat, lon)\n",
    "\n",
    "  # Adiciona as colunas `mean_X` e `mean_Y` ao dataframe.\n",
    "\n",
    "  df[outColumnX] = easting\n",
    "  df[outColumnY] = northing\n",
    "\n",
    "  return df"
   ]
  },
  {
   "cell_type": "code",
   "execution_count": 37,
   "metadata": {},
   "outputs": [],
   "source": [
    "def get_expanded_urls(row):\n",
    "    \"\"\"\n",
    "    Retorna uma lista com as URLs expandidas do tweet.\n",
    "\n",
    "    Args:\n",
    "        row: Uma linha do dataframe.\n",
    "\n",
    "    Returns:\n",
    "        Uma lista com as URLs expandidas do tweet.\n",
    "    \"\"\"\n",
    "\n",
    "    if row['entities_urls']:\n",
    "        expanded_urls = [url['expanded_url'] for url in row['entities_urls']]\n",
    "    else:\n",
    "        expanded_urls = []\n",
    "    return expanded_urls"
   ]
  },
  {
   "cell_type": "code",
   "execution_count": 38,
   "metadata": {},
   "outputs": [],
   "source": [
    "def associateNodes(row):\n",
    "    G = nx.DiGraph()\n",
    "    vertex = row['username'] if row['username'] != '' else row['author_id']\n",
    "    \n",
    "    if vertex not in G.nodes():\n",
    "        G.add_node(vertex)\n",
    "        \n",
    "    if row['entities_mentions']:\n",
    "        for mention in row['entities_mentions']:\n",
    "            mention_username = mention['username']\n",
    "            if mention_username not in G.nodes():\n",
    "                G.add_node(mention_username)\n",
    "            G.add_edge(vertex, mention_username)\n",
    "    \n",
    "    return G"
   ]
  },
  {
   "cell_type": "code",
   "execution_count": 39,
   "metadata": {},
   "outputs": [],
   "source": [
    "def calculateDistance(xP1: float, yP1: float, xP2: float, yP2: float):\n",
    "    P1 = [xP1, yP1]\n",
    "    P2 = [xP2, yP2]\n",
    "    \n",
    "    return math.dist(P1, P2)"
   ]
  },
  {
   "cell_type": "code",
   "execution_count": 40,
   "metadata": {},
   "outputs": [],
   "source": [
    "def calculateDistances(graph, generalizationLimit = None):\n",
    "  nodes_with_median = [node for node in graph.nodes if \"median_X\" in graph.nodes[node]]\n",
    "  \n",
    "  print(f\"Existem {len(nodes_with_median)} nós com mediana.\")\n",
    "  \n",
    "  distances = {}\n",
    "  \n",
    "  for node in tqdmBasic(nodes_with_median):\n",
    "    for other_node in nodes_with_median:\n",
    "        if node == other_node:\n",
    "            continue\n",
    "        \n",
    "        # print(f\"Calculando distância entre {node} e {other_node}\")\n",
    "        \n",
    "        distance = calculateDistance(\n",
    "            graph.nodes[node][\"median_X\"], graph.nodes[node][\"median_Y\"], graph.nodes[other_node][\"median_X\"], graph.nodes[other_node][\"median_Y\"]\n",
    "        )\n",
    "        if generalizationLimit is not None:\n",
    "            generaralized_distance = int(distance//generalizationLimit)\n",
    "            if generaralized_distance not in distances.keys():\n",
    "                distances[generaralized_distance] = 1\n",
    "            else:\n",
    "                distances[generaralized_distance] += 1\n",
    "        else:\n",
    "            if distance not in distances.keys():\n",
    "                distances[distance] = 1\n",
    "            else:\n",
    "                distances[distance] += 1\n",
    "            \n",
    "        # distancesFromNode[node].append(distance)\n",
    "  \n",
    "  \n",
    "  return distances"
   ]
  },
  {
   "cell_type": "code",
   "execution_count": 42,
   "metadata": {},
   "outputs": [],
   "source": [
    "def plotScatterEmpyricalComplementarDistribution(distances, output_path: str = 'E://', output_file_name: str = 'empyrical_complementar_distribution.png', show: bool = False, log: bool = False):\n",
    "    \"\"\"Plota o gráfico de dispersão da distribuição empírica complementar.\n",
    "\n",
    "    Args:\n",
    "        distances (list): Lista com as distâncias.\n",
    "        output_path (str): Caminho de saída do arquivo.\n",
    "        output_file_name (str): Nome do arquivo de saída.\n",
    "        show (bool): Se o gráfico deve ser exibido.\n",
    "    \"\"\"    \n",
    "    # sort the distances\n",
    "\n",
    "    # calculate the probability of each distance\n",
    "    if isinstance(distances, dict):\n",
    "        keys_in_order = sorted(distances.keys())\n",
    "        length_distances = sum(distances.values())\n",
    "        dist = 1\n",
    "        prob = []\n",
    "        print(f\"keys_in_order: {keys_in_order}\")\n",
    "        print(f\"length_distances: {length_distances}\")\n",
    "        \n",
    "        distances_list = [key for key, value in distances.items() for _ in tqdmBasic(range(value))]\n",
    "        n = len(distances_list)\n",
    "        prob = [1 - (i+1)/n for i in tqdmBasic(range(0,n))]\n",
    "                    \n",
    "        distances = list(distances.keys())\n",
    "        \n",
    "    else:\n",
    "        distances.sort()\n",
    "        if log == True:\n",
    "            prob = [np.log10(1 - (i/len(distances))) for i in tqdmBasic(range(len(distances)), desc=\"Calculando probabilidade\")]\n",
    "        else:\n",
    "            prob = [1 - (i/len(distances)) for i in tqdmBasic(range(len(distances)))]\n",
    "            \n",
    "    print(type(prob))\n",
    "\n",
    "    # plot the scatter graph\n",
    "    plt.figure(figsize=(180, 120))\n",
    "    plt.scatter(distances, prob)\n",
    "    plt.yticks(np.arange(0, 1.1, 0.1))\n",
    "    plt.xlabel(\"Distância\")\n",
    "    plt.ylabel(\"Probabilidade\")\n",
    "    plt.savefig(f\"{output_path}{output_file_name}\", dpi=300, bbox_inches='tight')\n",
    "    \n",
    "    if show:\n",
    "        plt.show()\n",
    "       "
   ]
  },
  {
   "cell_type": "markdown",
   "metadata": {},
   "source": [
    "### Métodos de geração de grafos"
   ]
  },
  {
   "cell_type": "code",
   "execution_count": 161,
   "metadata": {},
   "outputs": [],
   "source": [
    "def generate_flow_graph(graph: nx.Graph, gdf: gpd.GeoDataFrame, column: str = 'geometry'):\n",
    "    \"\"\"Gera um grafo de fluxo a partir de um grafo existente e um GeoDataFrame com as regiões de interesse.\n",
    "\n",
    "    Args:\n",
    "        graph (nx.graph): Grafo base de onde será gerado o grafo de fluxo.\n",
    "        gdf (gpd.GeoDataFrame): GeoDataFrame com os dados geográficos das regiões de interesse.\n",
    "        column (str, optional): coluna alvo com o código de interesse. Defaults to 'geometry'.\n",
    "        \n",
    "    \"\"\"\n",
    "    \n",
    "    grafo_fluxo = nx.DiGraph()\n",
    "    no_sem_regiao = []\n",
    "    \n",
    "    for source, target in tqdmBasic(graph.edges(), total=graph.number_of_edges()):\n",
    "        if source in no_sem_regiao and target in no_sem_regiao:\n",
    "            continue\n",
    "        \n",
    "        u = graph.nodes[source]\n",
    "        v = graph.nodes[target]\n",
    "        \n",
    "        try:\n",
    "            u['median_lat']\n",
    "        except:\n",
    "            no_sem_regiao.append(source)\n",
    "            continue\n",
    "        \n",
    "        try:\n",
    "            v['median_lat']\n",
    "        except:\n",
    "            no_sem_regiao.append(target)\n",
    "            continue\n",
    "        \n",
    "        u_region = gdf[gdf.contains(geometry.Point(float(u['median_lon']), float(u['median_lat'])))][column]\n",
    "        v_region = gdf[gdf.contains(geometry.Point(float(v['median_lon']), float(v['median_lat'])))][column]\n",
    "                \n",
    "        if u_region.empty:\n",
    "            no_sem_regiao.append(source)\n",
    "            continue\n",
    "        \n",
    "        if v_region.empty:\n",
    "            no_sem_regiao.append(target)\n",
    "            continue\n",
    "        \n",
    "        if u_region.index[0] == v_region.index[0]:\n",
    "            continue        \n",
    "        \n",
    "        if grafo_fluxo.has_edge(u_region.values[0], v_region.values[0]):\n",
    "            grafo_fluxo[u_region.values[0]][v_region.values[0]]['weight'] += 1\n",
    "        else:\n",
    "            grafo_fluxo.add_edge(u_region.values[0], v_region.values[0], weight=1)\n",
    "        \n",
    "        # if (u_region.index[0], v_region.index[0]) not in grafo_fluxo.edges():\n",
    "        #     grafo_fluxo.add_edge(u_region.index[0], v_region.index[0], weight=1)\n",
    "        # else:\n",
    "        #     grafo_fluxo[u_region.index[0]][v_region.index[0]]['weight'] += 1        \n",
    "    \n",
    "    return grafo_fluxo, no_sem_regiao"
   ]
  },
  {
   "cell_type": "code",
   "execution_count": 170,
   "metadata": {},
   "outputs": [],
   "source": [
    "def generate_graph_from_gdf(gdf: gpd.GeoDataFrame, column: str = 'geometry') -> nx.Graph:\n",
    "    \"\"\"Gera um grafo a partir de um GeoDataFrame.\n",
    "\n",
    "    Args:\n",
    "        gdf (gpd.GeoDataFrame): GeoDataFrame com os dados.\n",
    "        column (str, optional): Nome da coluna de referência. Defaults to 'geometry'.\n",
    "\n",
    "    Returns:\n",
    "        nx.Graph: Grafo gerado.\n",
    "    \"\"\"\n",
    "    G = nx.Graph()\n",
    "\n",
    "    for index, row in tqdmBasic(gdf.iterrows(), total=gdf.shape[0]):\n",
    "        vertex = row[column]\n",
    "        adjacent_regions = gdf[gdf.geometry.touches(row['geometry'])][column]\n",
    "        \n",
    "        for adjacent_region in adjacent_regions:\n",
    "            G.add_edge(vertex, adjacent_region)\n",
    "            \n",
    "    return G"
   ]
  },
  {
   "cell_type": "code",
   "execution_count": 11,
   "metadata": {},
   "outputs": [
    {
     "name": "stdout",
     "output_type": "stream",
     "text": [
      "{'median_lat': '38.59663575', 'median_lon': '-8.6511916'}\n"
     ]
    }
   ],
   "source": [
    "for node in grafo_twitter.nodes():\n",
    "    print(grafo_twitter.nodes[node])\n",
    "    break"
   ]
  },
  {
   "cell_type": "markdown",
   "metadata": {},
   "source": [
    "### Métodos de cálculos com a rede"
   ]
  },
  {
   "cell_type": "code",
   "execution_count": 21,
   "metadata": {},
   "outputs": [
    {
     "name": "stderr",
     "output_type": "stream",
     "text": [
      "100%|██████████| 72800/72800 [03:30<00:00, 345.15it/s]\n"
     ]
    }
   ],
   "source": [
    "for node in tqdmBasic(grafo_twitter_conexo.nodes(), total=grafo_twitter_conexo.number_of_nodes()):\n",
    "    if 'median_lat' not in grafo_twitter_conexo.nodes[node]:\n",
    "        continue\n",
    "    \n",
    "    x_median = df_mean.loc[df_mean['username'] == node, 'median_X'].values[0]\n",
    "    y_median = df_mean.loc[df_mean['username'] == node, 'median_Y'].values[0]\n",
    "\n",
    "    grafo_twitter_conexo.nodes[node]['median_X'] = x_median\n",
    "    grafo_twitter_conexo.nodes[node]['median_Y'] = y_median"
   ]
  },
  {
   "cell_type": "code",
   "execution_count": 22,
   "metadata": {},
   "outputs": [
    {
     "name": "stdout",
     "output_type": "stream",
     "text": [
      "Node: wellbeingworld\n",
      "Attributes: {'median_lat': '38.7176484', 'median_lon': '-9.1507038', 'comunidade': 15, 'median_X': '486898.584786837', 'median_Y': '4285455.2597039575'}\n",
      "--------------------\n",
      "Node: xxmaff\n",
      "Attributes: {'comunidade': 46}\n",
      "--------------------\n",
      "Node: jinxpt\n",
      "Attributes: {'median_lat': '38.769231', 'median_lon': '-9.17216241', 'comunidade': 142, 'median_X': 485043.8460879055, 'median_Y': 4291182.477387767}\n",
      "--------------------\n",
      "Node: _Noellaa\n",
      "Attributes: {'comunidade': 88}\n",
      "--------------------\n",
      "Node: Rubenjpg\n",
      "Attributes: {'median_lat': '38.725736', 'median_lon': '-9.243447', 'comunidade': 83, 'median_X': '478838.34346469044', 'median_Y': '4286370.054438557'}\n",
      "--------------------\n",
      "Node: MiguelBalm\n",
      "Attributes: {'median_lat': '38.69668356', 'median_lon': '-9.31807359', 'comunidade': 46, 'median_X': 472340.2134730324, 'median_Y': 4283166.108894321}\n",
      "--------------------\n",
      "Node: rubicon765\n",
      "Attributes: {'comunidade': 74}\n",
      "--------------------\n",
      "Node: hltsbIunt\n",
      "Attributes: {'comunidade': 3}\n",
      "--------------------\n",
      "Node: tiranodoas\n",
      "Attributes: {'comunidade': 125}\n",
      "--------------------\n",
      "Node: ryot\n",
      "Attributes: {'comunidade': 117}\n",
      "--------------------\n"
     ]
    }
   ],
   "source": [
    "# import networkx as nx\n",
    "\n",
    "# Assuming you have a graph object named 'graph'\n",
    "# You can replace 'graph' with your actual graph object\n",
    "\n",
    "# Get the first ten nodes\n",
    "nodes = list(grafo_twitter_conexo.nodes())[:10]\n",
    "\n",
    "# Print the nodes and their attributes\n",
    "for node in nodes:\n",
    "    attributes = grafo_twitter_conexo.nodes[node]\n",
    "    print(f\"Node: {node}\")\n",
    "    print(f\"Attributes: {attributes}\")\n",
    "    print(\"--------------------\")\n"
   ]
  },
  {
   "cell_type": "code",
   "execution_count": 32,
   "metadata": {},
   "outputs": [],
   "source": [
    "def calculate_geostatistcs(graph: nx.graph) -> dict:\n",
    "    \"\"\"Calcula as estatísticas geográficas de um grafo.\n",
    "\n",
    "    Args:\n",
    "        graph (nx.graph): Grafo a ser analisado.\n",
    "\n",
    "    Returns:\n",
    "        dict: Dicionário com as estatísticas calculadas.\n",
    "    \"\"\"\n",
    "    stats = {}\n",
    "    \n",
    "    for node in tqdmBasic(graph.nodes(), total=graph.number_of_nodes()):\n",
    "        community = graph.nodes[node]['comunidade']\n",
    "        if community not in stats.keys():\n",
    "            stats[community] = {\n",
    "                'x_points': [],\n",
    "                'y_points': [],\n",
    "                'x_mean': 0.0,\n",
    "                'y_mean': 0.0,\n",
    "                'mean_distance_to_center': 0.0,\n",
    "            }\n",
    "            \n",
    "        if 'median_X' not in graph.nodes[node]:\n",
    "            continue\n",
    "        \n",
    "        x = float(graph.nodes[node]['median_X'])\n",
    "        y = float(graph.nodes[node]['median_Y'])\n",
    "        \n",
    "        stats[community]['x_points'].append(x)\n",
    "        stats[community]['y_points'].append(y)\n",
    "        \n",
    "    for community in stats.keys():\n",
    "        x_mean = np.mean(stats[community]['x_points'])\n",
    "        y_mean = np.mean(stats[community]['y_points'])\n",
    "        \n",
    "        stats[community]['x_mean'] = x_mean\n",
    "        stats[community]['y_mean'] = y_mean\n",
    "        \n",
    "        distances = [math.dist([x_mean, y_mean], [x, y]) for x, y in zip(stats[community]['x_points'], stats[community]['y_points'])]\n",
    "        mean_distance_to_center = np.mean(distances)\n",
    "        \n",
    "        stats[community]['mean_distance_to_center'] = mean_distance_to_center\n",
    "    \n",
    "    return stats"
   ]
  },
  {
   "cell_type": "markdown",
   "metadata": {},
   "source": [
    "### Métodos de exportação de arquivos"
   ]
  },
  {
   "cell_type": "code",
   "execution_count": 33,
   "metadata": {},
   "outputs": [],
   "source": [
    "def _export_dictionary(dict : dict, path : str = 'E://', file_name : str = 'dict.json'):\n",
    "    \"\"\"Exporta um dicionário para um arquivo JSON\n",
    "\n",
    "    Args:\n",
    "        dict (dict): dicionário a ser exportado\n",
    "        path (str, optional): Caminho do arquivo de saída. Defaults to ''.\n",
    "        file_name (str, optional): Nome do arquivo de saída. Defaults to 'dict.json'.\n",
    "    \"\"\"                \n",
    "    with open(f\"{path}{file_name}\", 'w') as f:\n",
    "        json.dump(dict, f)"
   ]
  },
  {
   "cell_type": "code",
   "execution_count": 164,
   "metadata": {},
   "outputs": [],
   "source": [
    "def _export_list_to_csv(list : list, path : str = 'E://', file_name : str = 'list.csv'):\n",
    "    \"\"\"Exporta uma lista para um arquivo CSV\n",
    "\n",
    "    Args:\n",
    "        list (list): Lista a ser exportada\n",
    "        path (str, optional): Caminho do arquivo de saída. Defaults to ''.\n",
    "        file_name (str, optional): Nome do arquivo de saída. Defaults to 'list.csv'.\n",
    "    \"\"\"                \n",
    "    with open(f\"{path}{file_name}\", 'w', newline='') as f:\n",
    "        writer = csv.writer(f)\n",
    "        writer.writerows(list)"
   ]
  },
  {
   "cell_type": "markdown",
   "metadata": {},
   "source": [
    "## Criando os grafos"
   ]
  },
  {
   "cell_type": "markdown",
   "metadata": {},
   "source": [
    "### Dataframes e dicionários base para os grafos"
   ]
  },
  {
   "cell_type": "code",
   "execution_count": 29,
   "metadata": {},
   "outputs": [
    {
     "name": "stdout",
     "output_type": "stream",
     "text": [
      "Loaded 3454314 records from D:\\\\Documentos\\\\data_and_code\\\\all_data_lisbon\\\\dataWithUserNames.jsonl\n"
     ]
    }
   ],
   "source": [
    "dataFrameComUsernames = json_normalize(load_jsonl(r'D:\\\\Documentos\\\\data_and_code\\\\all_data_lisbon\\\\dataWithUserNames.jsonl'), sep = '_', errors ='ignore') "
   ]
  },
  {
   "cell_type": "code",
   "execution_count": 32,
   "metadata": {},
   "outputs": [
    {
     "name": "stderr",
     "output_type": "stream",
     "text": [
      "100%|██████████| 3454314/3454314 [02:26<00:00, 23641.75it/s]\n",
      "  0%|          | 0/57922 [00:00<?, ?it/s]C:\\Users\\Cliente\\AppData\\Local\\Temp\\ipykernel_8100\\486796682.py:20: FutureWarning: The behavior of DataFrame concatenation with empty or all-NA entries is deprecated. In a future version, this will no longer exclude empty or all-NA columns when determining the result dtypes. To retain the old behavior, exclude the relevant entries before the concat operation.\n",
      "  df_mean = df_mean._append({\n",
      "100%|██████████| 57922/57922 [01:09<00:00, 830.28it/s] \n"
     ]
    }
   ],
   "source": [
    "dataFrameComUsernames2 = dataframe_standartization(dataFrameComUsernames)"
   ]
  },
  {
   "cell_type": "code",
   "execution_count": 44,
   "metadata": {},
   "outputs": [
    {
     "name": "stderr",
     "output_type": "stream",
     "text": [
      "100%|██████████| 57922/57922 [7:25:59<00:00,  2.16it/s]  \n"
     ]
    }
   ],
   "source": [
    "dictMentions = gera_dict_mentions_by_user(dataFrameComUsernames, data_frame2=dataFrameComUsernames2)"
   ]
  },
  {
   "cell_type": "code",
   "execution_count": 45,
   "metadata": {},
   "outputs": [],
   "source": [
    "_export_dictionary(dictMentions, 'E://', 'dictMentions_locations.json')"
   ]
  },
  {
   "cell_type": "markdown",
   "metadata": {},
   "source": [
    "### Grafo de menções do twitter"
   ]
  },
  {
   "cell_type": "markdown",
   "metadata": {},
   "source": [
    "#### Geração"
   ]
  },
  {
   "cell_type": "code",
   "execution_count": 49,
   "metadata": {},
   "outputs": [
    {
     "name": "stderr",
     "output_type": "stream",
     "text": [
      "100%|██████████| 116088/116088 [2:19:11<00:00, 13.90it/s]    \n"
     ]
    }
   ],
   "source": [
    "grafo_twitter = nx.DiGraph()\n",
    "arestas_fluxo_inexistentes = []\n",
    "\n",
    "for index, row in tqdmBasic(gdf_users.iterrows(), total=gdf_users.shape[0]):\n",
    "    vertex = row['username']\n",
    "    \n",
    "    if vertex not in grafo_twitter.nodes():\n",
    "        grafo_twitter.add_node(vertex)\n",
    "        \n",
    "    nx.set_node_attributes(grafo_twitter, {vertex: {\"median_lat\": row['median_lat'], \"median_lon\": row['median_lon']}})\n",
    "        \n",
    "    try:\n",
    "        for mention in dictMentions[row['username']]:\n",
    "            if mention not in grafo_twitter.nodes():\n",
    "                grafo_twitter.add_node(mention)\n",
    "            grafo_twitter.add_edge(vertex, mention)\n",
    "                \n",
    "            mentioned_person = gdf_users[gdf_users['username'] == mention]\n",
    "    except KeyError:\n",
    "        arestas_fluxo_inexistentes.append((vertex, mention))\n",
    "        continue"
   ]
  },
  {
   "cell_type": "markdown",
   "metadata": {},
   "source": [
    "#### Exportação"
   ]
  },
  {
   "cell_type": "code",
   "execution_count": 50,
   "metadata": {},
   "outputs": [],
   "source": [
    "nx.write_graphml_lxml(grafo_twitter, \"D:\\\\Documentos\\\\data_and_code\\\\all_data_lisbon\\\\grafo_twitter.graphml\")"
   ]
  },
  {
   "cell_type": "markdown",
   "metadata": {},
   "source": [
    "### Grafos de fluxo"
   ]
  },
  {
   "cell_type": "markdown",
   "metadata": {},
   "source": [
    "#### Geração"
   ]
  },
  {
   "cell_type": "code",
   "execution_count": 173,
   "metadata": {},
   "outputs": [
    {
     "name": "stderr",
     "output_type": "stream",
     "text": [
      "100%|██████████| 149877/149877 [04:01<00:00, 620.52it/s]\n",
      "100%|██████████| 149877/149877 [04:07<00:00, 606.67it/s]\n",
      "100%|██████████| 149877/149877 [04:22<00:00, 570.16it/s]\n"
     ]
    }
   ],
   "source": [
    "grafo_fluxo_secao, no_sem_regiao_secao = generate_flow_graph(grafo_twitter, gdf_wgs84_secao, 'DTMNFRSEC2')\n",
    "grafo_fluxo_freguesia, no_sem_regiao_freguesia = generate_flow_graph(grafo_twitter, gdf_wgs84_freguesia, 'DTMNFR21')\n",
    "grafo_fluxo_municipio, no_sem_regiao_municipio = generate_flow_graph(grafo_twitter, gdf_wgs84_municipio, 'DTMN21')"
   ]
  },
  {
   "cell_type": "markdown",
   "metadata": {},
   "source": [
    "#### Exportação"
   ]
  },
  {
   "cell_type": "code",
   "execution_count": 174,
   "metadata": {},
   "outputs": [],
   "source": [
    "### Exportando os grafos de fluxo\n",
    "nx.write_graphml_lxml(grafo_fluxo_secao, \"D:\\\\Documentos\\\\data_and_code\\\\all_data_lisbon\\\\grafo_fluxo_secao.graphml\")\n",
    "nx.write_graphml_lxml(grafo_fluxo_freguesia, \"D:\\\\Documentos\\\\data_and_code\\\\all_data_lisbon\\\\grafo_fluxo_freguesia.graphml\")\n",
    "nx.write_graphml_lxml(grafo_fluxo_municipio, \"D:\\\\Documentos\\\\data_and_code\\\\all_data_lisbon\\\\grafo_fluxo_municipio.graphml\")\n",
    "\n",
    "### Exportando as listas de nós sem região\n",
    "_export_list_to_csv(no_sem_regiao_secao, 'E://', 'no_sem_regiao_secao.csv')\n",
    "_export_list_to_csv(no_sem_regiao_freguesia, 'E://', 'no_sem_regiao_freguesia.csv')\n",
    "_export_list_to_csv(no_sem_regiao_municipio, 'E://', 'no_sem_regiao_municipio.csv')"
   ]
  },
  {
   "cell_type": "markdown",
   "metadata": {},
   "source": [
    "### Grafos de regiões adjacentes"
   ]
  },
  {
   "cell_type": "markdown",
   "metadata": {},
   "source": [
    "#### Geração"
   ]
  },
  {
   "cell_type": "code",
   "execution_count": 175,
   "metadata": {},
   "outputs": [
    {
     "name": "stderr",
     "output_type": "stream",
     "text": [
      "100%|██████████| 2612/2612 [00:07<00:00, 337.17it/s]\n",
      "100%|██████████| 166/166 [00:01<00:00, 96.21it/s] \n",
      "100%|██████████| 26/26 [00:00<00:00, 36.46it/s]\n"
     ]
    }
   ],
   "source": [
    "grafo_regioes_secao = generate_graph_from_gdf(gdf_wgs84_secao, 'DTMNFRSEC2')\n",
    "grafo_regioes_freguesia = generate_graph_from_gdf(gdf_wgs84_freguesia, 'DTMNFR21')\n",
    "grafo_regioes_municipio = generate_graph_from_gdf(gdf_wgs84_municipio, 'DTMN21')   "
   ]
  },
  {
   "cell_type": "markdown",
   "metadata": {},
   "source": [
    "#### Exportação"
   ]
  },
  {
   "cell_type": "code",
   "execution_count": 176,
   "metadata": {},
   "outputs": [],
   "source": [
    "nx.write_graphml_lxml(grafo_regioes_secao, \"D:\\\\Documentos\\\\data_and_code\\\\all_data_lisbon\\\\grafo_regioes_secao.graphml\")\n",
    "nx.write_graphml_lxml(grafo_regioes_freguesia, \"D:\\\\Documentos\\\\data_and_code\\\\all_data_lisbon\\\\grafo_regioes_freguesia.graphml\")\n",
    "nx.write_graphml_lxml(grafo_regioes_municipio, \"D:\\\\Documentos\\\\data_and_code\\\\all_data_lisbon\\\\grafo_regioes_municipio.graphml\")"
   ]
  },
  {
   "cell_type": "markdown",
   "metadata": {},
   "source": [
    "### Métricas básicas dos grafos gerados"
   ]
  },
  {
   "cell_type": "markdown",
   "metadata": {},
   "source": [
    "#### Grafo das menções no twitter"
   ]
  },
  {
   "cell_type": "code",
   "execution_count": 18,
   "metadata": {},
   "outputs": [
    {
     "name": "stdout",
     "output_type": "stream",
     "text": [
      "Nº de nós: 196916\n",
      "Nº de links: 142355\n",
      "Grau médio: 1.445844928802129\n",
      "Densidade: 3.6712412177897286e-06\n",
      "Cluster global: 0.002635688121402407\n",
      "Cluster médio: 0.006678865242159692\n"
     ]
    }
   ],
   "source": [
    "degrees = []\n",
    "\n",
    "for node in grafo_twitter.nodes():\n",
    "    degrees.append(nx.degree(grafo_twitter, node))\n",
    "\n",
    "print(f\"Nº de nós: {grafo_twitter.number_of_nodes()}\")\n",
    "print(f\"Nº de links: {grafo_twitter.number_of_edges()}\")\n",
    "print(f\"Grau médio: {np.mean(degrees)}\")\n",
    "print(f\"Densidade: {nx.density(grafo_twitter)}\")\n",
    "# print(f\"Distância média: {nx.average_shortest_path_length(grafo_twitter)}\")\n",
    "print(f\"Cluster global: {nx.transitivity(grafo_twitter)}\")\n",
    "print(f\"Cluster médio: {nx.average_clustering(grafo_twitter)}\")"
   ]
  },
  {
   "cell_type": "markdown",
   "metadata": {},
   "source": [
    "#### Grafos dos fluxos"
   ]
  },
  {
   "cell_type": "code",
   "execution_count": 6,
   "metadata": {},
   "outputs": [
    {
     "name": "stdout",
     "output_type": "stream",
     "text": [
      "Nº de nós: 2252\n",
      "Nº de links: 16960\n",
      "Grau médio: 15.062166962699822\n",
      "Densidade: 0.0033456612533762377\n",
      "Cluster global: 0.036869346915372254\n",
      "Cluster médio: 0.0761945011748806\n"
     ]
    }
   ],
   "source": [
    "degrees = []\n",
    "\n",
    "for node in grafo_fluxo_secao.nodes():\n",
    "    degrees.append(nx.degree(grafo_fluxo_secao, node))\n",
    "\n",
    "print(f\"Nº de nós: {grafo_fluxo_secao.number_of_nodes()}\")\n",
    "print(f\"Nº de links: {grafo_fluxo_secao.number_of_edges()}\")\n",
    "print(f\"Grau médio: {np.mean(degrees)}\")\n",
    "print(f\"Densidade: {nx.density(grafo_fluxo_secao)}\")\n",
    "# print(f\"Distância média: {nx.average_shortest_path_length(grafo_fluxo)}\")\n",
    "print(f\"Cluster global: {nx.transitivity(grafo_fluxo_secao)}\")\n",
    "print(f\"Cluster médio: {nx.average_clustering(grafo_fluxo_secao)}\")"
   ]
  },
  {
   "cell_type": "code",
   "execution_count": 7,
   "metadata": {},
   "outputs": [
    {
     "name": "stdout",
     "output_type": "stream",
     "text": [
      "Nº de nós: 140\n",
      "Nº de links: 5006\n",
      "Grau médio: 71.51428571428572\n",
      "Densidade: 0.25724563206577594\n",
      "Cluster global: 0.5770783452273026\n",
      "Cluster médio: 0.5580869116105109\n"
     ]
    }
   ],
   "source": [
    "degrees = []\n",
    "\n",
    "for node in grafo_fluxo_freguesia.nodes():\n",
    "    degrees.append(nx.degree(grafo_fluxo_freguesia, node))\n",
    "\n",
    "print(f\"Nº de nós: {grafo_fluxo_freguesia.number_of_nodes()}\")\n",
    "print(f\"Nº de links: {grafo_fluxo_freguesia.number_of_edges()}\")\n",
    "print(f\"Grau médio: {np.mean(degrees)}\")\n",
    "print(f\"Densidade: {nx.density(grafo_fluxo_freguesia)}\")\n",
    "# print(f\"Distância média: {nx.average_shortest_path_length(grafo_fluxo)}\")\n",
    "print(f\"Cluster global: {nx.transitivity(grafo_fluxo_freguesia)}\")\n",
    "print(f\"Cluster médio: {nx.average_clustering(grafo_fluxo_freguesia)}\")"
   ]
  },
  {
   "cell_type": "code",
   "execution_count": 8,
   "metadata": {},
   "outputs": [
    {
     "name": "stdout",
     "output_type": "stream",
     "text": [
      "Nº de nós: 25\n",
      "Nº de links: 402\n",
      "Grau médio: 32.16\n",
      "Densidade: 0.67\n",
      "Cluster global: 0.8518572682070781\n",
      "Cluster médio: 0.8724369097105309\n"
     ]
    }
   ],
   "source": [
    "degrees = []\n",
    "\n",
    "for node in grafo_fluxo_municipio.nodes():\n",
    "    degrees.append(nx.degree(grafo_fluxo_municipio, node))\n",
    "\n",
    "print(f\"Nº de nós: {grafo_fluxo_municipio.number_of_nodes()}\")\n",
    "print(f\"Nº de links: {grafo_fluxo_municipio.number_of_edges()}\")\n",
    "print(f\"Grau médio: {np.mean(degrees)}\")\n",
    "print(f\"Densidade: {nx.density(grafo_fluxo_municipio)}\")\n",
    "# print(f\"Distância média: {nx.average_shortest_path_length(grafo_fluxo)}\")\n",
    "print(f\"Cluster global: {nx.transitivity(grafo_fluxo_municipio)}\")\n",
    "print(f\"Cluster médio: {nx.average_clustering(grafo_fluxo_municipio)}\")"
   ]
  },
  {
   "cell_type": "markdown",
   "metadata": {},
   "source": [
    "#### Grafos das regiões adjacentes"
   ]
  },
  {
   "cell_type": "code",
   "execution_count": 11,
   "metadata": {},
   "outputs": [
    {
     "name": "stdout",
     "output_type": "stream",
     "text": [
      "Nº de nós: 2611\n",
      "Nº de links: 7797\n",
      "Grau médio: 5.97242435848334\n",
      "Densidade: 0.002288285194821203\n",
      "Cluster global: 0.3685254240941521\n",
      "Cluster médio: 0.5176350273973392\n"
     ]
    }
   ],
   "source": [
    "degrees = []\n",
    "\n",
    "for node in grafo_regioes_secao.nodes():\n",
    "    degrees.append(nx.degree(grafo_regioes_secao, node))\n",
    "    \n",
    "print(f\"Nº de nós: {grafo_regioes_secao.number_of_nodes()}\")\n",
    "print(f\"Nº de links: {grafo_regioes_secao.number_of_edges()}\")\n",
    "print(f\"Grau médio: {np.mean(degrees)}\")\n",
    "print(f\"Densidade: {nx.density(grafo_regioes_secao)}\")\n",
    "print(f\"Cluster global: {nx.transitivity(grafo_regioes_secao)}\")\n",
    "print(f\"Cluster médio: {nx.average_clustering(grafo_regioes_secao)}\")"
   ]
  },
  {
   "cell_type": "code",
   "execution_count": 12,
   "metadata": {},
   "outputs": [
    {
     "name": "stdout",
     "output_type": "stream",
     "text": [
      "Nº de nós: 165\n",
      "Nº de links: 432\n",
      "Grau médio: 5.236363636363636\n",
      "Densidade: 0.031929046563192905\n",
      "Cluster global: 0.3964440172993753\n",
      "Cluster médio: 0.4863990554899646\n"
     ]
    }
   ],
   "source": [
    "degrees = []\n",
    "\n",
    "for node in grafo_regioes_freguesia.nodes():\n",
    "    degrees.append(nx.degree(grafo_regioes_freguesia, node))\n",
    "    \n",
    "print(f\"Nº de nós: {grafo_regioes_freguesia.number_of_nodes()}\")\n",
    "print(f\"Nº de links: {grafo_regioes_freguesia.number_of_edges()}\")\n",
    "print(f\"Grau médio: {np.mean(degrees)}\")\n",
    "print(f\"Densidade: {nx.density(grafo_regioes_freguesia)}\")\n",
    "print(f\"Cluster global: {nx.transitivity(grafo_regioes_freguesia)}\")\n",
    "print(f\"Cluster médio: {nx.average_clustering(grafo_regioes_freguesia)}\")"
   ]
  },
  {
   "cell_type": "code",
   "execution_count": 13,
   "metadata": {},
   "outputs": [
    {
     "name": "stdout",
     "output_type": "stream",
     "text": [
      "Nº de nós: 26\n",
      "Nº de links: 52\n",
      "Grau médio: 4.0\n",
      "Densidade: 0.16\n",
      "Cluster global: 0.4540540540540541\n",
      "Cluster médio: 0.5684981684981685\n"
     ]
    }
   ],
   "source": [
    "degrees = []\n",
    "\n",
    "for node in grafo_regioes_municipio.nodes():\n",
    "    degrees.append(nx.degree(grafo_regioes_municipio, node))\n",
    "    \n",
    "print(f\"Nº de nós: {grafo_regioes_municipio.number_of_nodes()}\")\n",
    "print(f\"Nº de links: {grafo_regioes_municipio.number_of_edges()}\")\n",
    "print(f\"Grau médio: {np.mean(degrees)}\")\n",
    "print(f\"Densidade: {nx.density(grafo_regioes_municipio)}\")\n",
    "print(f\"Cluster global: {nx.transitivity(grafo_regioes_municipio)}\")\n",
    "print(f\"Cluster médio: {nx.average_clustering(grafo_regioes_municipio)}\")"
   ]
  },
  {
   "cell_type": "markdown",
   "metadata": {},
   "source": [
    "## Criando as comunidades"
   ]
  },
  {
   "cell_type": "markdown",
   "metadata": {},
   "source": [
    "### Metodologia de Girvan-Newman"
   ]
  },
  {
   "cell_type": "markdown",
   "metadata": {},
   "source": [
    "#### Geração"
   ]
  },
  {
   "cell_type": "code",
   "execution_count": 10,
   "metadata": {},
   "outputs": [],
   "source": [
    "# Gerando um subgrafo com o maior componente conexo\n",
    "componentes = nx.weakly_connected_components(grafo_twitter)\n",
    "maior_componente = max(componentes, key=len)\n",
    "grafo_twitter_conexo = grafo_twitter.subgraph(maior_componente)"
   ]
  },
  {
   "cell_type": "code",
   "execution_count": 23,
   "metadata": {},
   "outputs": [],
   "source": [
    "grafo_twitter_conexo = nx.read_graphml(\"D:\\\\Documentos\\\\data_and_code\\\\all_data_lisbon\\\\grafo_twitter_conexo.graphml\")"
   ]
  },
  {
   "cell_type": "code",
   "execution_count": 20,
   "metadata": {},
   "outputs": [
    {
     "name": "stdout",
     "output_type": "stream",
     "text": [
      "Nº de nós: 72800\n",
      "Nº de links: 120259\n",
      "Grau médio: 3.303818681318681\n",
      "Densidade: 2.2691374066392953e-05\n",
      "Cluster global: 0.002661862925637558\n",
      "Cluster médio: 0.017752671752988572\n"
     ]
    }
   ],
   "source": [
    "degrees = []\n",
    "\n",
    "for node in grafo_twitter_conexo.nodes():\n",
    "    degrees.append(nx.degree(grafo_twitter_conexo, node))\n",
    "    \n",
    "print(f\"Nº de nós: {grafo_twitter_conexo.number_of_nodes()}\")\n",
    "print(f\"Nº de links: {grafo_twitter_conexo.number_of_edges()}\")\n",
    "print(f\"Grau médio: {np.mean(degrees)}\")\n",
    "print(f\"Densidade: {nx.density(grafo_twitter_conexo)}\")\n",
    "print(f\"Cluster global: {nx.transitivity(grafo_twitter_conexo)}\")\n",
    "print(f\"Cluster médio: {nx.average_clustering(grafo_twitter_conexo)}\")"
   ]
  },
  {
   "cell_type": "code",
   "execution_count": 21,
   "metadata": {},
   "outputs": [],
   "source": [
    "grafo2 = grafo_twitter_conexo.copy()\n",
    "\n",
    "for u,v in grafo_twitter_conexo.edges():\n",
    "    if u == v and grafo2.has_edge(u,v):\n",
    "        grafo2.remove_edge(u,v)"
   ]
  },
  {
   "cell_type": "code",
   "execution_count": 22,
   "metadata": {},
   "outputs": [
    {
     "name": "stdout",
     "output_type": "stream",
     "text": [
      "Nº de nós: 72800\n",
      "Nº de links: 118997\n",
      "Grau médio: 3.2691483516483517\n",
      "Densidade: 2.2453250399376032e-05\n",
      "Cluster global: 0.002661862925637558\n",
      "Cluster médio: 0.017752671752988572\n"
     ]
    }
   ],
   "source": [
    "degrees = []\n",
    "\n",
    "for node in grafo2.nodes():\n",
    "    degrees.append(nx.degree(grafo2, node))\n",
    "    \n",
    "print(f\"Nº de nós: {grafo2.number_of_nodes()}\")\n",
    "print(f\"Nº de links: {grafo2.number_of_edges()}\")\n",
    "print(f\"Grau médio: {np.mean(degrees)}\")\n",
    "print(f\"Densidade: {nx.density(grafo2)}\")\n",
    "print(f\"Cluster global: {nx.transitivity(grafo2)}\")\n",
    "print(f\"Cluster médio: {nx.average_clustering(grafo2)}\")"
   ]
  },
  {
   "cell_type": "code",
   "execution_count": 23,
   "metadata": {},
   "outputs": [
    {
     "name": "stdout",
     "output_type": "stream",
     "text": [
      "Modularidade: 0.7643037035783908\n"
     ]
    }
   ],
   "source": [
    "comunidades = list(nx.community.louvain_communities(grafo_twitter_conexo, resolution=0.5))\n",
    "print(f\"Modularidade: {nx.community.modularity(grafo_twitter_conexo, comunidades)}\")"
   ]
  },
  {
   "cell_type": "code",
   "execution_count": 14,
   "metadata": {},
   "outputs": [],
   "source": [
    "with open(\"E://comunidades_greedy_sem_autoloop.txt\", \"w\") as f:\n",
    "    for comunidade in comunidades:\n",
    "        f.write(f\"{comunidade}\\n\")"
   ]
  },
  {
   "cell_type": "code",
   "execution_count": 7,
   "metadata": {},
   "outputs": [],
   "source": [
    "with open(\"E://comunidades_greedy_sem_autoloop.txt\", \"r\") as f:\n",
    "    comunidades = f.readlines()"
   ]
  },
  {
   "cell_type": "markdown",
   "metadata": {},
   "source": [
    "#### Estatísticas das comunidades"
   ]
  },
  {
   "cell_type": "code",
   "execution_count": 33,
   "metadata": {},
   "outputs": [
    {
     "name": "stderr",
     "output_type": "stream",
     "text": [
      "100%|██████████| 72800/72800 [00:00<00:00, 782611.66it/s]\n"
     ]
    }
   ],
   "source": [
    "estatisticas = calculate_geostatistcs(grafo_twitter_conexo)"
   ]
  },
  {
   "cell_type": "code",
   "execution_count": 53,
   "metadata": {},
   "outputs": [
    {
     "data": {
      "image/png": "[encoded data removed]",
      "text/plain": [
       "<Figure size 1000x500 with 1 Axes>"
      ]
     },
     "metadata": {},
     "output_type": "display_data"
    }
   ],
   "source": [
    "import matplotlib.pyplot as plt\n",
    "\n",
    "# Extract the keys and values from the 'estatisticas' dictionary\n",
    "keys = list(estatisticas.keys())\n",
    "values = [estatisticas[key]['mean_distance_to_center'] for key in keys]\n",
    "\n",
    "# Plot the values in bars, y-axis in log\n",
    "plt.figure(figsize=(10, 5))\n",
    "plt.bar(keys, values)\n",
    "# plt.yscale('log')\n",
    "plt.xlabel('Comunidade')\n",
    "plt.ylabel('Distância média ao centro em metros')\n",
    "plt.title('Distância média ao centro por comunidade')\n",
    "plt.show()"
   ]
  },
  {
   "cell_type": "markdown",
   "metadata": {},
   "source": [
    "#### Visualização"
   ]
  },
  {
   "cell_type": "code",
   "execution_count": 25,
   "metadata": {},
   "outputs": [],
   "source": [
    "colors = ['#' + ''.join(random.choices('0123456789ABCDEF', k=6)) for _ in range(len(comunidades))]\n",
    "\n",
    "for i, comunidade in enumerate(comunidades):\n",
    "    for node in comunidade:\n",
    "        grafo_twitter_conexo.nodes[node]['comunidade'] = i"
   ]
  },
  {
   "cell_type": "code",
   "execution_count": 26,
   "metadata": {},
   "outputs": [],
   "source": [
    "nx.write_graphml_lxml(grafo_twitter_conexo, \"D:\\\\Documentos\\\\data_and_code\\\\all_data_lisbon\\\\grafo_twitter_conexo.graphml\")"
   ]
  },
  {
   "cell_type": "code",
   "execution_count": 32,
   "metadata": {},
   "outputs": [
    {
     "name": "stdout",
     "output_type": "stream",
     "text": [
      "\n"
     ]
    }
   ],
   "source": [
    "for node in grafo_twitter_conexo.nodes():\n",
    "    if node is None or node == '':\n",
    "        print(node)"
   ]
  },
  {
   "cell_type": "code",
   "execution_count": 28,
   "metadata": {},
   "outputs": [],
   "source": [
    "pos = nx.nx_agraph.graphviz_layout(grafo_twitter_conexo, prog=\"dot\")"
   ]
  },
  {
   "cell_type": "code",
   "execution_count": null,
   "metadata": {},
   "outputs": [],
   "source": [
    "nx.sub"
   ]
  },
  {
   "cell_type": "code",
   "execution_count": 27,
   "metadata": {},
   "outputs": [],
   "source": [
    "agraph = to_agraph(grafo_twitter_conexo)"
   ]
  },
  {
   "cell_type": "code",
   "execution_count": 37,
   "metadata": {},
   "outputs": [
    {
     "name": "stderr",
     "output_type": "stream",
     "text": [
      "C:\\Users\\Cliente\\AppData\\Local\\Temp\\ipykernel_14860\\1227247907.py:1: DeprecationWarning: nx.nx_pydot.to_pydot depends on the pydot package, which has known issues and is not actively maintained.\n",
      "\n",
      "See https://github.com/networkx/networkx/issues/5723\n",
      "  dot_graph = to_pydot(grafo_twitter_conexo)\n"
     ]
    }
   ],
   "source": [
    "dot_graph = to_pydot(grafo_twitter_conexo)"
   ]
  },
  {
   "cell_type": "code",
   "execution_count": 38,
   "metadata": {},
   "outputs": [
    {
     "name": "stderr",
     "output_type": "stream",
     "text": [
      "100%|██████████| 126973/126973 [00:00<00:00, 194998.51it/s]\n",
      "100%|██████████| 76768/76768 [00:00<00:00, 362029.52it/s]\n"
     ]
    }
   ],
   "source": [
    "digraph = gv.Digraph()\n",
    "\n",
    "for edge in tqdmBasic(dot_graph.get_edges(), total=len(dot_graph.get_edges())):\n",
    "    source, target = edge.get_source(), edge.get_destination()\n",
    "    digraph.edge(source, target)\n",
    "    \n",
    "for node in tqdmBasic(dot_graph.get_nodes(), total=len(dot_graph.get_nodes())):\n",
    "    node_name = node.get_name()\n",
    "    label = node.get_label()\n",
    "    if label is not None:\n",
    "        label = label.strip('\"')  # Remover aspas do rótulo\n",
    "        node_number = int(label.split()[0])  # Extrair o número do nó do rótulo\n",
    "        color = grafo2.nodes[node_number]['color']\n",
    "        digraph.node(node_name, label=label, style='filled', fillcolor=color)"
   ]
  },
  {
   "cell_type": "code",
   "execution_count": 39,
   "metadata": {},
   "outputs": [],
   "source": [
    "digraph.render('graph', format='png', cleanup=True)\n",
    "plt.imshow(plt.imread('graph.png'))\n",
    "plt.axis('off')\n",
    "plt.show()"
   ]
  },
  {
   "cell_type": "markdown",
   "metadata": {},
   "source": [
    "### Metodologia K-Means"
   ]
  },
  {
   "cell_type": "markdown",
   "metadata": {},
   "source": [
    "#### Geração"
   ]
  },
  {
   "cell_type": "code",
   "execution_count": null,
   "metadata": {},
   "outputs": [],
   "source": []
  },
  {
   "cell_type": "markdown",
   "metadata": {},
   "source": [
    "#### Visualização"
   ]
  },
  {
   "cell_type": "code",
   "execution_count": null,
   "metadata": {},
   "outputs": [],
   "source": []
  },
  {
   "cell_type": "markdown",
   "metadata": {},
   "source": [
    "# Fim"
   ]
  },
  {
   "cell_type": "code",
   "execution_count": 19,
   "metadata": {},
   "outputs": [
    {
     "name": "stdout",
     "output_type": "stream",
     "text": [
      "Fluxo máximo entre seções: 110657001 -> 110639025 com 19 tweets\n",
      "Fluxo máximo entre freguesias: 111102 -> 111108 com 79 tweets\n",
      "Fluxo máximo entre municípios: 1111 -> 1106 com 713 tweets\n"
     ]
    }
   ],
   "source": [
    "max_edge_secao = max(grafo_fluxo_secao.edges(data=True), key=lambda x: x[2].get('weight', 0))\n",
    "max_edge_freguesia = max(grafo_fluxo_freguesia.edges(data=True), key=lambda x: x[2].get('weight', 0))\n",
    "max_edge_municipio = max(grafo_fluxo_municipio.edges(data=True), key=lambda x: x[2].get('weight', 0))\n",
    "\n",
    "print(f\"Fluxo máximo entre seções: {max_edge_secao[0]} -> {max_edge_secao[1]} com {max_edge_secao[2]['weight']} tweets\")\n",
    "print(f\"Fluxo máximo entre freguesias: {max_edge_freguesia[0]} -> {max_edge_freguesia[1]} com {max_edge_freguesia[2]['weight']} tweets\")\n",
    "print(f\"Fluxo máximo entre municípios: {max_edge_municipio[0]} -> {max_edge_municipio[1]} com {max_edge_municipio[2]['weight']} tweets\")\n",
    "\n"
   ]
  }
 ],
 "metadata": {
  "kernelspec": {
   "display_name": "Python 3",
   "language": "python",
   "name": "python3"
  },
  "language_info": {
   "codemirror_mode": {
    "name": "ipython",
    "version": 3
   },
   "file_extension": ".py",
   "mimetype": "text/x-python",
   "name": "python",
   "nbconvert_exporter": "python",
   "pygments_lexer": "ipython3",
   "version": "3.12.0"
  }
 },
 "nbformat": 4,
 "nbformat_minor": 2
}
