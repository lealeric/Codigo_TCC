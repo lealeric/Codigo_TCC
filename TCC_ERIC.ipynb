{
 "cells": [
  {
   "cell_type": "markdown",
   "metadata": {},
   "source": [
    "# METODOLOGIA BASEADA EM CIÊNCIA DE REDES PARA ANÁLISE DE COMUNIDADES EM REDES SOCIAIS COM GEOLOCALIZAÇÃO\n",
    "\n",
    "## Autor: ERIC LEAL\n",
    "\n",
    "### Detalhes do Projeto\n",
    "Em desenvolvimento...\n",
    "\n"
   ]
  },
  {
   "cell_type": "markdown",
   "metadata": {},
   "source": [
    "## Importando as bibliotecas"
   ]
  },
  {
   "cell_type": "code",
   "execution_count": 2,
   "metadata": {},
   "outputs": [],
   "source": [
    "import pandas as pd\n",
    "import numpy as np\n",
    "import json\n",
    "import random\n",
    "import time\n",
    "# from community_layout.layout_class import CommunityLayout\n",
    "# from community import community_louvain\n",
    "# from matplotlib.colors import CSS4_COLORS\n",
    "# import graphviz as gv\n",
    "# import pygraphviz as pgv\n",
    "\n",
    "from pandas import json_normalize\n",
    "import networkx as nx\n",
    "# from networkx.drawing.nx_agraph import to_agraph\n",
    "# from networkx.drawing.nx_pydot import to_pydot\n",
    "\n",
    "\n",
    "import matplotlib.pyplot as plt\n",
    "import utm\n",
    "import math\n",
    "import csv\n",
    "import geopandas as gpd\n",
    "# from libpysal.weights import Rook\n",
    "\n",
    "from tqdm.contrib.concurrent import thread_map\n",
    "\n",
    "import os\n",
    "# import tweepy\n",
    "# from dotenv import load_dotenv\n",
    "from shapely import geometry\n",
    "\n",
    "# Required Libraries\n",
    "from tqdm import tqdm as tqdmBasic\n",
    "\n",
    "from sklearn.cluster import KMeans\n",
    "from sklearn.cluster import AgglomerativeClustering\n",
    "# from sklearn.cluster import DBSCAN\n",
    "from sklearn.cluster import AffinityPropagation\n",
    "\n",
    "import seaborn as sns; sns.set_theme()\n",
    "\n",
    "import GeosocialAlgorithms as ga\n",
    "from scipy.cluster.hierarchy import ward, fcluster\n"
   ]
  },
  {
   "cell_type": "markdown",
   "metadata": {},
   "source": [
    "## Configurando a API"
   ]
  },
  {
   "cell_type": "code",
   "execution_count": null,
   "metadata": {},
   "outputs": [],
   "source": [
    "# Load the .env file\n",
    "# load_dotenv()\n",
    "\n",
    "# # Get the keys from the .env file\n",
    "# consumer_key = os.environ.get('TWITTER_API_KEY')\n",
    "# consumer_secret = os.environ.get('TWITTER_API_KEY_SECRET')\n",
    "# access_token = os.environ.get('TWITTER_ACCESS_TOKEN')\n",
    "# access_token_secret = os.environ.get('TWITTER_ACCESS_TOKEN_SECRET')\n",
    "# bearer_token = os.environ.get('TWITTER_BEARER_TOKEN')\n",
    "\n",
    "# # Authenticate with the twitter API\n",
    "# auth = tweepy.OAuthHandler(consumer_key, consumer_secret)\n",
    "# auth.set_access_token(access_token, access_token_secret)\n",
    "\n",
    "# # Create the API object\n",
    "# api = tweepy.API(auth, wait_on_rate_limit=True)"
   ]
  },
  {
   "cell_type": "markdown",
   "metadata": {},
   "source": [
    "## Carregando dados existententes caso existam"
   ]
  },
  {
   "cell_type": "code",
   "execution_count": null,
   "metadata": {},
   "outputs": [],
   "source": [
    "# Dicionario a ser preenchido com chaves sendo o author_id e os valores sendo o username\n",
    "if os.path.exists(r'E://Dict_Author_Id_to_Username.json'):\n",
    "    with open(r'E://Dict_Author_Id_to_Username.json', 'r') as fp:\n",
    "        author_id_to_username = json.load(fp)\n",
    "        print(f\"Foram carregadas {len(author_id_to_username)} chaves do arquivo JSON\")\n",
    "else:\n",
    "    author_id_to_username = {}"
   ]
  },
  {
   "cell_type": "code",
   "execution_count": null,
   "metadata": {},
   "outputs": [],
   "source": [
    "df_mean = pd.read_csv(r\"E:/DataFrameUsernameMeansMedians.csv\", sep=\";\", header=0)\n",
    "# df_mean.columns = [\"username\", \"mean_lat\", \"mean_lon\", \"median_lat\", \"median_lon\", \"mean_X\", \"mean_Y\", \"median_X\", \"median_Y\"]\n",
    "df_mean.head()"
   ]
  },
  {
   "cell_type": "code",
   "execution_count": null,
   "metadata": {},
   "outputs": [],
   "source": [
    "df_mean = df_mean.drop(0)\n",
    "df_mean.head()"
   ]
  },
  {
   "cell_type": "code",
   "execution_count": null,
   "metadata": {},
   "outputs": [],
   "source": [
    "username_to_find = \"\"\n",
    "is_equal = df_mean['username'] == username_to_find"
   ]
  },
  {
   "cell_type": "code",
   "execution_count": null,
   "metadata": {},
   "outputs": [],
   "source": [
    "print(df_mean[df_mean['username'] == username_to_find])"
   ]
  },
  {
   "cell_type": "code",
   "execution_count": null,
   "metadata": {},
   "outputs": [],
   "source": [
    "dfTopAuthorsProjected = pd.read_csv(\"E://TopAuthorsProjected.csv\")"
   ]
  },
  {
   "cell_type": "code",
   "execution_count": null,
   "metadata": {},
   "outputs": [],
   "source": [
    "with open(r'E:/dictMentions_locations.json', 'r') as f:\n",
    "    dictMentions = json.load(f)"
   ]
  },
  {
   "cell_type": "code",
   "execution_count": null,
   "metadata": {},
   "outputs": [],
   "source": [
    "for k, v in dictMentions.items():\n",
    "    if \"\" in v:\n",
    "        print(k, v)"
   ]
  },
  {
   "cell_type": "code",
   "execution_count": 3,
   "metadata": {},
   "outputs": [],
   "source": [
    "grafo_twitter = nx.read_graphml(\"D:\\\\Documentos\\\\data_and_code\\\\all_data_lisbon\\\\grafo_twitter.graphml\")\n",
    "grafo_twitter_conexo = nx.read_graphml(\"D:\\\\Documentos\\\\data_and_code\\\\all_data_lisbon\\\\grafo_twitter_conexo.graphml\")\n",
    "\n",
    "grafo_fluxo_secao = nx.read_graphml(\"D:\\\\Documentos\\\\data_and_code\\\\all_data_lisbon\\\\grafo_fluxo_secao.graphml\")\n",
    "grafo_fluxo_freguesia = nx.read_graphml(\"D:\\\\Documentos\\\\data_and_code\\\\all_data_lisbon\\\\grafo_fluxo_freguesia.graphml\")\n",
    "grafo_fluxo_municipio = nx.read_graphml(\"D:\\\\Documentos\\\\data_and_code\\\\all_data_lisbon\\\\grafo_fluxo_municipio.graphml\")\n",
    "\n",
    "grafo_regioes_secao = nx.read_graphml(\"D:\\\\Documentos\\\\data_and_code\\\\all_data_lisbon\\\\grafo_regioes_secao.graphml\")  \n",
    "grafo_regioes_freguesia = nx.read_graphml(\"D:\\\\Documentos\\\\data_and_code\\\\all_data_lisbon\\\\grafo_regioes_freguesia.graphml\")\n",
    "grafo_regioes_municipio = nx.read_graphml(\"D:\\\\Documentos\\\\data_and_code\\\\all_data_lisbon\\\\grafo_regioes_municipio.graphml\")"
   ]
  },
  {
   "cell_type": "code",
   "execution_count": null,
   "metadata": {},
   "outputs": [],
   "source": [
    "grafo_twitter.number_of_nodes(), grafo_twitter.number_of_edges()"
   ]
  },
  {
   "cell_type": "code",
   "execution_count": null,
   "metadata": {},
   "outputs": [],
   "source": [
    "grafo_twitter_copy = grafo_twitter.copy()\n",
    "\n",
    "for node in grafo_twitter.nodes():\n",
    "    if node == \"\" or node == \" \" or node is None:\n",
    "        grafo_twitter_copy.remove_node(node)"
   ]
  },
  {
   "cell_type": "code",
   "execution_count": null,
   "metadata": {},
   "outputs": [],
   "source": [
    "nx.write_graphml_lxml(grafo_twitter_copy, \"D:\\\\Documentos\\\\data_and_code\\\\all_data_lisbon\\\\grafo_twitter.graphml\")"
   ]
  },
  {
   "cell_type": "code",
   "execution_count": null,
   "metadata": {},
   "outputs": [],
   "source": [
    "gdf_wgs84_secao = gpd.read_file(r\"C:\\Users\\Cliente\\OneDrive\\UNIRIO\\TCC\\GPK\\Seccao_Area_de_Interesse.shp\")\n",
    "gdf_wgs84_freguesia = gpd.read_file(r\"C:\\Users\\Cliente\\OneDrive\\UNIRIO\\TCC\\GPK\\Freguesia_Area_de_Interesse.shp\")\n",
    "gdf_wgs84_municipio = gpd.read_file(r\"C:\\Users\\Cliente\\OneDrive\\UNIRIO\\TCC\\GPK\\Municipio_Area_de_Interesse.shp\")\n",
    "\n",
    "crs = \"EPSG:4326\"\n",
    "\n",
    "gdf_wgs84_secao = gdf_wgs84_secao.to_crs(crs)\n",
    "gdf_wgs84_freguesia = gdf_wgs84_freguesia.to_crs(crs)\n",
    "gdf_wgs84_municipio = gdf_wgs84_municipio.to_crs(crs)"
   ]
  },
  {
   "cell_type": "code",
   "execution_count": null,
   "metadata": {},
   "outputs": [],
   "source": [
    "gdf_users = gpd.read_file(r\"E:\\Usernames_Com_Coordenadas_Localidade.csv\")\n",
    "gdf_users['geometry'] = gdf_users.apply(lambda x: geometry.Point(x['median_lon'], x['median_lat']), axis=1)"
   ]
  },
  {
   "cell_type": "markdown",
   "metadata": {},
   "source": [
    "## Carregando métodos"
   ]
  },
  {
   "cell_type": "code",
   "execution_count": null,
   "metadata": {},
   "outputs": [],
   "source": [
    "def community_layout(g, partition):\n",
    "    \"\"\"\n",
    "    Compute the layout for a modular graph.\n",
    "\n",
    "\n",
    "    Arguments:\n",
    "    ----------\n",
    "    g -- networkx.Graph or networkx.DiGraph instance\n",
    "        graph to plot\n",
    "\n",
    "    partition -- dict mapping int node -> int community\n",
    "        graph partitions\n",
    "\n",
    "\n",
    "    Returns:\n",
    "    --------\n",
    "    pos -- dict mapping int node -> (float x, float y)\n",
    "        node positions\n",
    "\n",
    "    \"\"\"\n",
    "\n",
    "    pos_communities = _position_communities(g, partition, scale=3.)\n",
    "\n",
    "    pos_nodes = _position_nodes(g, partition, scale=1.)\n",
    "\n",
    "    # combine positions\n",
    "    pos = dict()\n",
    "    for node in g.nodes():\n",
    "        pos[node] = pos_communities[node] + pos_nodes[node]\n",
    "\n",
    "    return pos\n",
    "\n",
    "def _position_communities(g, partition, **kwargs):\n",
    "\n",
    "    # create a weighted graph, in which each node corresponds to a community,\n",
    "    # and each edge weight to the number of edges between communities\n",
    "    between_community_edges = _find_between_community_edges(g, partition)\n",
    "\n",
    "    communities = set(partition.values())\n",
    "    hypergraph = nx.DiGraph()\n",
    "    hypergraph.add_nodes_from(communities)\n",
    "    for (ci, cj), edges in between_community_edges.items():\n",
    "        hypergraph.add_edge(ci, cj, weight=len(edges))\n",
    "\n",
    "    # find layout for communities\n",
    "    pos_communities = nx.spring_layout(hypergraph, **kwargs)\n",
    "\n",
    "    # set node positions to position of community\n",
    "    pos = dict()\n",
    "    for node, community in partition.items():\n",
    "        pos[node] = pos_communities[community]\n",
    "\n",
    "    return pos\n",
    "\n",
    "def _find_between_community_edges(g, partition):\n",
    "\n",
    "    edges = dict()\n",
    "\n",
    "    for (ni, nj) in g.edges():\n",
    "        ci = partition[ni]\n",
    "        cj = partition[nj]\n",
    "\n",
    "        if ci != cj:\n",
    "            try:\n",
    "                edges[(ci, cj)] += [(ni, nj)]\n",
    "            except KeyError:\n",
    "                edges[(ci, cj)] = [(ni, nj)]\n",
    "\n",
    "    return edges\n",
    "\n",
    "def _position_nodes(g, partition, **kwargs):\n",
    "    \"\"\"\n",
    "    Positions nodes within communities.\n",
    "    \"\"\"\n",
    "\n",
    "    communities = dict()\n",
    "    for node, community in partition.items():\n",
    "        try:\n",
    "            communities[community] += [node]\n",
    "        except KeyError:\n",
    "            communities[community] = [node]\n",
    "\n",
    "    pos = dict()\n",
    "    for ci, nodes in communities.items():\n",
    "        subgraph = g.subgraph(nodes)\n",
    "        pos_subgraph = nx.spring_layout(subgraph, **kwargs)\n",
    "        pos.update(pos_subgraph)\n",
    "\n",
    "    return pos"
   ]
  },
  {
   "cell_type": "code",
   "execution_count": null,
   "metadata": {},
   "outputs": [],
   "source": [
    "def load_jsonl(input_path) -> list:\n",
    "    \"\"\"\n",
    "    Read list of objects from a JSON lines file.\n",
    "    \"\"\"\n",
    "    data = []\n",
    "    with open(input_path, 'r', encoding='utf-8') as f:\n",
    "        for line in f:\n",
    "            data.append(json.loads(line.rstrip('\\n|\\r')))\n",
    "    print('Loaded {} records from {}'.format(len(data), input_path))\n",
    "    return data"
   ]
  },
  {
   "cell_type": "code",
   "execution_count": null,
   "metadata": {},
   "outputs": [],
   "source": [
    "def dataframe_standartization(data_frame: pd.DataFrame, columns: list = []) -> pd.DataFrame:\n",
    "    data_frame.drop(columns=columns, inplace=True)\n",
    "    data_frame = data_frame.fillna(0)\n",
    "    \n",
    "    dictCoordByUser = {}\n",
    "\n",
    "    for index, row in tqdmBasic(data_frame.iterrows(), total=data_frame.shape[0]):\n",
    "        if row['username'] not in dictCoordByUser:\n",
    "            dictCoordByUser[row['username']] = {\n",
    "                'lat': [],\n",
    "                'lon': []\n",
    "            }        \n",
    "            \n",
    "        dictCoordByUser[row['username']]['lat'].append(row['lat'])\n",
    "        dictCoordByUser[row['username']]['lon'].append(row['lon'])\n",
    "        \n",
    "    df_mean = pd.DataFrame(columns=[\"username\", \"mean_lat\", \"mean_lon\", \"median_lat\", \"median_lon\"])\n",
    "\n",
    "    for key in tqdmBasic(dictCoordByUser.keys()):\n",
    "        df_mean = df_mean._append({\n",
    "            \"username\": key,\n",
    "            \"mean_lat\": np.mean(dictCoordByUser[key]['lat']),\n",
    "            \"mean_lon\": np.mean(dictCoordByUser[key]['lon']),\n",
    "            \"median_lat\": np.median(dictCoordByUser[key]['lat']),\n",
    "            \"median_lon\": np.median(dictCoordByUser[key]['lon'])\n",
    "        }, ignore_index=True)\n",
    "        \n",
    "    return df_mean"
   ]
  },
  {
   "cell_type": "code",
   "execution_count": null,
   "metadata": {},
   "outputs": [],
   "source": [
    "def gera_dict_mentions_by_user(data_frame: pd.DataFrame, data_frame2:pd.DataFrame = None,  mentions_unicas = True) -> dict:\n",
    "    if data_frame2 is not None:\n",
    "        mentions_usuario = {}\n",
    "        \n",
    "        for index, row in tqdmBasic(data_frame2.iterrows(), total=data_frame2.shape[0]):\n",
    "            if row['username'] not in mentions_usuario:\n",
    "                mentions_usuario[row['username']] = [row_base[0]['username'] for row_base in data_frame[data_frame['username'] == row['username']]['entities_mentions'].tolist() \n",
    "                                                     if row_base is not None]    \n",
    "    else:\n",
    "        data_editado = data_frame['entities_mentions']\n",
    "        data_editado.dropna(inplace=True)\n",
    "        # dataEditado.reset_index(drop=True, inplace=True)\n",
    "        data_editado = data_editado.to_frame()\n",
    "        \n",
    "        mentions_usuario = {}\n",
    "\n",
    "        # Percorrendo teste1 e adicionando os usernames no dicionário usando o id do usuário como chave\n",
    "            \n",
    "        for mention in tqdmBasic(data_editado.itertuples(), total=data_editado.shape[0]):\n",
    "            usuarios_mencionados = []\n",
    "            \n",
    "            coluna = 'author_id' #'username' if data_frame['username'].at[mention.Index] != '' else 'author_id'\n",
    "            \n",
    "            if data_frame[coluna].at[mention.Index] not in mentions_usuario:\n",
    "                mentions_usuario[data_frame[coluna].at[mention.Index]] = []\n",
    "                \n",
    "            for usuario in mention[1]:\n",
    "                usuarios_mencionados.append(usuario['username'])\n",
    "                mentions_usuario[data_frame[coluna].at[mention.Index]].extend(usuarios_mencionados)\n",
    "        \n",
    "    if mentions_unicas:\n",
    "        mentions_usuario = {k: list(dict.fromkeys(v)) for k, target in mentions_usuario.items()}\n",
    "        \n",
    "    return mentions_usuario"
   ]
  },
  {
   "cell_type": "code",
   "execution_count": null,
   "metadata": {},
   "outputs": [],
   "source": [
    "def geraDictLinkTweets(data_frame) -> list:\n",
    "    dataEditado = data_frame['entities_urls']\n",
    "    dataEditado.dropna(inplace=True)\n",
    "    # dataEditado.reset_index(drop=True, inplace=True)\n",
    "    dataEditado = dataEditado.to_frame()\n",
    "    \n",
    "    linksTweets = {}\n",
    "\n",
    "    # Percorrendo teste1 e adicionando os usernames no dicionário usando o id do usuário como chave\n",
    "        \n",
    "    contador = 1\n",
    "    for link in dataEditado.itertuples():\n",
    "        print(f\"Link {contador} de {dataEditado.shape[0]}\")\n",
    "        \n",
    "        linksTweet = []\n",
    "        if data_frame['author_id'].at[link.Index] not in linksTweets:\n",
    "            linksTweets[data_frame['author_id'].at[link.Index]] = []\n",
    "            \n",
    "        for linkTweet in link[1]:\n",
    "            linksTweet.append(linkTweet['expanded_url'])\n",
    "            linksTweets[data_frame['author_id'].at[link.Index]].extend(linksTweet)\n",
    "        contador += 1\n",
    "        \n",
    "    return linksTweets"
   ]
  },
  {
   "cell_type": "code",
   "execution_count": null,
   "metadata": {},
   "outputs": [],
   "source": [
    "def returnMediaDictListas(dict : dict) -> float:\n",
    "    soma = 0\n",
    "    for key in dict:\n",
    "        soma += len(dict[key])\n",
    "    return soma/len(dict)"
   ]
  },
  {
   "cell_type": "code",
   "execution_count": null,
   "metadata": {},
   "outputs": [],
   "source": [
    "def get_username(author_id: str):\n",
    "    \"\"\"Recupera o username do usuário a partir do author_id e atualiza o dicionário author_id_to_username\n",
    "\n",
    "    Args:\n",
    "        author_id: O id do usuário \n",
    "    \"\"\"\n",
    "    if author_id in author_id_to_username.keys():\n",
    "        return\n",
    "    \n",
    "    author_id_to_username[author_id] = ''\n",
    "    try:\n",
    "        user = api.get_user(user_id=author_id)  \n",
    "        author_id_to_username[author_id] = user.screen_name\n",
    "    except:\n",
    "        pass"
   ]
  },
  {
   "cell_type": "code",
   "execution_count": null,
   "metadata": {},
   "outputs": [],
   "source": [
    "def returnDataFrameWithUsernames(dataFrame : pd.DataFrame) -> pd.DataFrame:      \n",
    "    dataFrame['username'] = ''\n",
    "    \n",
    "    thread_map(get_username, [id for id in dataFrame['author_id']], max_workers=16, total=dataFrame.shape[0])\n",
    "        \n",
    "    for index, row in dataFrame.iterrows():\n",
    "        dataFrame['username'].at[index] = author_id_to_username[row['author_id']]\n",
    "    \n",
    "    return dataFrame"
   ]
  },
  {
   "cell_type": "code",
   "execution_count": null,
   "metadata": {},
   "outputs": [],
   "source": [
    "def degree_histogram_directed(G, in_degree=False, out_degree=False):\n",
    "    \"\"\"Return a list of the frequency of each degree value.\n",
    "\n",
    "    Parameters\n",
    "    ----------\n",
    "    G : Networkx graph\n",
    "       A graph\n",
    "    in_degree : bool\n",
    "    out_degree : bool\n",
    "\n",
    "    Returns\n",
    "    -------\n",
    "    hist : list\n",
    "       A list of frequencies of degrees.\n",
    "       The degree values are the index in the list.\n",
    "\n",
    "    Notes\n",
    "    -----\n",
    "    Note: the bins are width one, hence len(list) can be large\n",
    "    (Order(number_of_edges))\n",
    "    \"\"\"\n",
    "    nodes = G.nodes()\n",
    "    if in_degree:\n",
    "        in_degree = dict(G.in_degree())\n",
    "        degseq=[in_degree.get(k,0) for k in nodes]\n",
    "    elif out_degree:\n",
    "        out_degree = dict(G.out_degree())\n",
    "        degseq=[out_degree.get(k,0) for k in nodes]\n",
    "    else:\n",
    "        degseq=[target for k, target in G.degree()]\n",
    "    dmax=max(degseq)+1\n",
    "    freq= [ 0 for d in range(dmax) ]\n",
    "    for d in degseq:\n",
    "        freq[d] += 1\n",
    "    return freq"
   ]
  },
  {
   "cell_type": "code",
   "execution_count": null,
   "metadata": {},
   "outputs": [],
   "source": [
    "def processRawData(data : dict | list[dict]) -> pd.DataFrame:\n",
    "    data_frame = json_normalize(data,record_path = ['data'], sep = '_', errors ='ignore')\n",
    "        \n",
    "    data_frame['lat'] = data_frame['geo_coordinates_coordinates'].str.get(1)\n",
    "    data_frame['lon'] = data_frame['geo_coordinates_coordinates'].str.get(0)\n",
    "\n",
    "    #cleaning fields that will not be used\n",
    "    try:\n",
    "        # del data_frame['entities_mentions']\n",
    "        del data_frame['context_annotations']\n",
    "        # del data_frame['entities_urls']\n",
    "        # del data_frame['entities_cashtags']\n",
    "        del data_frame['withheld_copyright']\n",
    "        del data_frame['withheld_country_codes']\n",
    "        del data_frame['withheld_scope']\n",
    "    except:\n",
    "        pass\n",
    "    \n",
    "    return data_frame"
   ]
  },
  {
   "cell_type": "code",
   "execution_count": null,
   "metadata": {},
   "outputs": [],
   "source": [
    "def process_file(file: str) -> pd.DataFrame:\n",
    "    \"\"\"Processa um arquivo JSONL e retorna um dataframe\n",
    "\n",
    "    Args:\n",
    "        file (str): Caminho do arquivo JSONL\n",
    "\n",
    "    Returns:\n",
    "        pd.DataFrame: Dataframe com os dados do arquivo JSONL\n",
    "    \"\"\"\n",
    "    print(f\"Processando arquivo {file}\")\n",
    "    df = json_normalize(load_jsonl(file), sep='_', errors='ignore')\n",
    "    return df"
   ]
  },
  {
   "cell_type": "code",
   "execution_count": null,
   "metadata": {},
   "outputs": [],
   "source": [
    "def convert_to_utm(df: pd.DataFrame, columnLat: str = \"latitude\", columnLon: str = \"longitude\", outColumnX: str = \"x\", outColumnY: str = \"y\") -> pd.DataFrame:\n",
    "  \"\"\"Converte as coordenadas de latitude e longitude para UTM zona 29.\n",
    "\n",
    "  Args:\n",
    "      df (pd.DataFrame): Dataframe com as coordenadas de latitude e longitude.\n",
    "      columnLat (str, optional): Coluna que contém a latitude. Defaults to \"latitude\".\n",
    "      columnLon (str, optional): Coluna que contém a longitude. Defaults to \"longitude\".\n",
    "      outColumnX (str, optional): Coluna saída em UTM para o eixo X. Defaults to \"x\".\n",
    "      outColumnY (str, optional): Coluna saída em UTM para o eixo Y. Defaults to \"y\".\n",
    "\n",
    "  Returns:\n",
    "      pd.DataFrame: Dataframe atualizado com as coordendas em UTM.\n",
    "  \"\"\"\n",
    "  # Obtém as coordenadas de latitude e longitude.\n",
    "\n",
    "  lat = df[columnLat].values\n",
    "  lon = df[columnLon].values\n",
    "\n",
    "  # Converte para UTM.\n",
    "\n",
    "  easting, northing, zone_number, zone_letter = utm.from_latlon(lat, lon)\n",
    "\n",
    "  # Adiciona as colunas `mean_X` e `mean_Y` ao dataframe.\n",
    "\n",
    "  df[outColumnX] = easting\n",
    "  df[outColumnY] = northing\n",
    "\n",
    "  return df"
   ]
  },
  {
   "cell_type": "code",
   "execution_count": null,
   "metadata": {},
   "outputs": [],
   "source": [
    "def get_expanded_urls(row):\n",
    "    \"\"\"\n",
    "    Retorna uma lista com as URLs expandidas do tweet.\n",
    "\n",
    "    Args:\n",
    "        row: Uma linha do dataframe.\n",
    "\n",
    "    Returns:\n",
    "        Uma lista com as URLs expandidas do tweet.\n",
    "    \"\"\"\n",
    "\n",
    "    if row['entities_urls']:\n",
    "        expanded_urls = [url['expanded_url'] for url in row['entities_urls']]\n",
    "    else:\n",
    "        expanded_urls = []\n",
    "    return expanded_urls"
   ]
  },
  {
   "cell_type": "code",
   "execution_count": null,
   "metadata": {},
   "outputs": [],
   "source": [
    "def associateNodes(row):\n",
    "    G = nx.DiGraph()\n",
    "    vertex = row['username'] if row['username'] != '' else row['author_id']\n",
    "    \n",
    "    if vertex not in G.nodes():\n",
    "        G.add_node(vertex)\n",
    "        \n",
    "    if row['entities_mentions']:\n",
    "        for mention in row['entities_mentions']:\n",
    "            mention_username = mention['username']\n",
    "            if mention_username not in G.nodes():\n",
    "                G.add_node(mention_username)\n",
    "            G.add_edge(vertex, mention_username)\n",
    "    \n",
    "    return G"
   ]
  },
  {
   "cell_type": "code",
   "execution_count": null,
   "metadata": {},
   "outputs": [],
   "source": [
    "def calculateDistance(xP1: float, yP1: float, xP2: float, yP2: float):\n",
    "    P1 = [xP1, yP1]\n",
    "    P2 = [xP2, yP2]\n",
    "    \n",
    "    return math.dist(P1, P2)"
   ]
  },
  {
   "cell_type": "code",
   "execution_count": null,
   "metadata": {},
   "outputs": [],
   "source": [
    "def calculateDistances(graph, generalizationLimit = None):\n",
    "  nodes_with_median = [node for node in graph.nodes if \"median_X\" in graph.nodes[node]]\n",
    "  \n",
    "  print(f\"Existem {len(nodes_with_median)} nós com mediana.\")\n",
    "  \n",
    "  distances = {}\n",
    "  \n",
    "  for node in tqdmBasic(nodes_with_median):\n",
    "    for other_node in nodes_with_median:\n",
    "        if node == other_node:\n",
    "            continue\n",
    "        \n",
    "        # print(f\"Calculando distância entre {node} e {other_node}\")\n",
    "        \n",
    "        distance = calculateDistance(\n",
    "            graph.nodes[node][\"median_X\"], graph.nodes[node][\"median_Y\"], graph.nodes[other_node][\"median_X\"], graph.nodes[other_node][\"median_Y\"]\n",
    "        )\n",
    "        if generalizationLimit is not None:\n",
    "            generaralized_distance = int(distance//generalizationLimit)\n",
    "            if generaralized_distance not in distances.keys():\n",
    "                distances[generaralized_distance] = 1\n",
    "            else:\n",
    "                distances[generaralized_distance] += 1\n",
    "        else:\n",
    "            if distance not in distances.keys():\n",
    "                distances[distance] = 1\n",
    "            else:\n",
    "                distances[distance] += 1\n",
    "            \n",
    "        # distancesFromNode[node].append(distance)\n",
    "  \n",
    "  \n",
    "  return distances"
   ]
  },
  {
   "cell_type": "code",
   "execution_count": null,
   "metadata": {},
   "outputs": [],
   "source": [
    "def plotScatterEmpyricalComplementarDistribution(distances, output_path: str = 'E://', output_file_name: str = 'empyrical_complementar_distribution.png', show: bool = False, log: bool = False):\n",
    "    \"\"\"Plota o gráfico de dispersão da distribuição empírica complementar.\n",
    "\n",
    "    Args:\n",
    "        distances (list): Lista com as distâncias.\n",
    "        output_path (str): Caminho de saída do arquivo.\n",
    "        output_file_name (str): Nome do arquivo de saída.\n",
    "        show (bool): Se o gráfico deve ser exibido.\n",
    "    \"\"\"    \n",
    "    # sort the distances\n",
    "\n",
    "    # calculate the probability of each distance\n",
    "    if isinstance(distances, dict):\n",
    "        keys_in_order = sorted(distances.keys())\n",
    "        length_distances = sum(distances.values())\n",
    "        dist = 1\n",
    "        prob = []\n",
    "        print(f\"keys_in_order: {keys_in_order}\")\n",
    "        print(f\"length_distances: {length_distances}\")\n",
    "        \n",
    "        distances_list = [key for key, value in distances.items() for _ in tqdmBasic(range(value))]\n",
    "        n = len(distances_list)\n",
    "        prob = [1 - (i+1)/n for i in tqdmBasic(range(0,n))]\n",
    "                    \n",
    "        distances = list(distances.keys())\n",
    "        \n",
    "    else:\n",
    "        distances.sort()\n",
    "        if log == True:\n",
    "            prob = [np.log10(1 - (i/len(distances))) for i in tqdmBasic(range(len(distances)), desc=\"Calculando probabilidade\")]\n",
    "        else:\n",
    "            prob = [1 - (i/len(distances)) for i in tqdmBasic(range(len(distances)))]\n",
    "            \n",
    "    print(type(prob))\n",
    "\n",
    "    # plot the scatter graph\n",
    "    plt.figure(figsize=(180, 120))\n",
    "    plt.scatter(distances, prob)\n",
    "    plt.yticks(np.arange(0, 1.1, 0.1))\n",
    "    plt.xlabel(\"Distância\")\n",
    "    plt.ylabel(\"Probabilidade\")\n",
    "    plt.savefig(f\"{output_path}{output_file_name}\", dpi=300, bbox_inches='tight')\n",
    "    \n",
    "    if show:\n",
    "        plt.show()\n",
    "       "
   ]
  },
  {
   "cell_type": "markdown",
   "metadata": {},
   "source": [
    "### Métodos de geração de grafos"
   ]
  },
  {
   "cell_type": "code",
   "execution_count": null,
   "metadata": {},
   "outputs": [],
   "source": [
    "def generate_flow_graph(graph: nx.Graph, gdf: gpd.GeoDataFrame, column: str = 'geometry'):\n",
    "    \"\"\"Gera um grafo de fluxo a partir de um grafo existente e um GeoDataFrame com as regiões de interesse.\n",
    "\n",
    "    Args:\n",
    "        graph (nx.graph): Grafo base de onde será gerado o grafo de fluxo.\n",
    "        gdf (gpd.GeoDataFrame): GeoDataFrame com os dados geográficos das regiões de interesse.\n",
    "        column (str, optional): coluna alvo com o código de interesse. Defaults to 'geometry'.\n",
    "        \n",
    "    \"\"\"\n",
    "    \n",
    "    grafo_fluxo = nx.DiGraph()\n",
    "    no_sem_regiao = []\n",
    "    \n",
    "    for source, target in tqdmBasic(graph.edges(), total=graph.number_of_edges()):\n",
    "        if source in no_sem_regiao and target in no_sem_regiao:\n",
    "            continue\n",
    "        \n",
    "        u = graph.nodes[source]\n",
    "        v = graph.nodes[target]\n",
    "        \n",
    "        try:\n",
    "            u['median_lat']\n",
    "        except:\n",
    "            no_sem_regiao.append(source)\n",
    "            continue\n",
    "        \n",
    "        try:\n",
    "            v['median_lat']\n",
    "        except:\n",
    "            no_sem_regiao.append(target)\n",
    "            continue\n",
    "        \n",
    "        u_region = gdf[gdf.contains(geometry.Point(float(u['median_lon']), float(u['median_lat'])))][column]\n",
    "        v_region = gdf[gdf.contains(geometry.Point(float(v['median_lon']), float(v['median_lat'])))][column]\n",
    "                \n",
    "        if u_region.empty:\n",
    "            no_sem_regiao.append(source)\n",
    "            continue\n",
    "        \n",
    "        if v_region.empty:\n",
    "            no_sem_regiao.append(target)\n",
    "            continue\n",
    "        \n",
    "        if u_region.index[0] == v_region.index[0]:\n",
    "            continue        \n",
    "        \n",
    "        if grafo_fluxo.has_edge(u_region.values[0], v_region.values[0]):\n",
    "            grafo_fluxo[u_region.values[0]][v_region.values[0]]['weight'] += 1\n",
    "        else:\n",
    "            grafo_fluxo.add_edge(u_region.values[0], v_region.values[0], weight=1)\n",
    "        \n",
    "        # if (u_region.index[0], v_region.index[0]) not in grafo_fluxo.edges():\n",
    "        #     grafo_fluxo.add_edge(u_region.index[0], v_region.index[0], weight=1)\n",
    "        # else:\n",
    "        #     grafo_fluxo[u_region.index[0]][v_region.index[0]]['weight'] += 1        \n",
    "    \n",
    "    return grafo_fluxo, no_sem_regiao"
   ]
  },
  {
   "cell_type": "code",
   "execution_count": null,
   "metadata": {},
   "outputs": [],
   "source": [
    "def generate_graph_from_gdf(gdf: gpd.GeoDataFrame, column: str = 'geometry') -> nx.Graph:\n",
    "    \"\"\"Gera um grafo a partir de um GeoDataFrame.\n",
    "\n",
    "    Args:\n",
    "        gdf (gpd.GeoDataFrame): GeoDataFrame com os dados.\n",
    "        column (str, optional): Nome da coluna de referência. Defaults to 'geometry'.\n",
    "\n",
    "    Returns:\n",
    "        nx.Graph: Grafo gerado.\n",
    "    \"\"\"\n",
    "    G = nx.Graph()\n",
    "\n",
    "    for index, row in tqdmBasic(gdf.iterrows(), total=gdf.shape[0]):\n",
    "        vertex = row[column]\n",
    "        adjacent_regions = gdf[gdf.geometry.touches(row['geometry'])][column]\n",
    "        \n",
    "        for adjacent_region in adjacent_regions:\n",
    "            G.add_edge(vertex, adjacent_region)\n",
    "            \n",
    "    return G"
   ]
  },
  {
   "cell_type": "code",
   "execution_count": null,
   "metadata": {},
   "outputs": [],
   "source": []
  },
  {
   "cell_type": "code",
   "execution_count": null,
   "metadata": {},
   "outputs": [],
   "source": [
    "for node in grafo_twitter.nodes():\n",
    "    print(grafo_twitter.nodes[node])\n",
    "    break"
   ]
  },
  {
   "cell_type": "markdown",
   "metadata": {},
   "source": [
    "### Métodos de cálculos com a rede"
   ]
  },
  {
   "cell_type": "code",
   "execution_count": null,
   "metadata": {},
   "outputs": [],
   "source": [
    "for node in tqdmBasic(grafo_twitter_conexo.nodes(), total=grafo_twitter_conexo.number_of_nodes()):\n",
    "    if 'median_lat' not in grafo_twitter_conexo.nodes[node]:\n",
    "        continue\n",
    "    \n",
    "    x_median = df_mean.loc[df_mean['username'] == node, 'median_X'].values[0]\n",
    "    y_median = df_mean.loc[df_mean['username'] == node, 'median_Y'].values[0]\n",
    "\n",
    "    grafo_twitter_conexo.nodes[node]['median_X'] = x_median\n",
    "    grafo_twitter_conexo.nodes[node]['median_Y'] = y_median"
   ]
  },
  {
   "cell_type": "code",
   "execution_count": 4,
   "metadata": {},
   "outputs": [],
   "source": [
    "def show_graph_metrics(graph):\n",
    "    degrees = []\n",
    "\n",
    "    for node in graph.nodes():\n",
    "        degrees.append(nx.degree(graph, node))\n",
    "        \n",
    "    print(f\"Nº de nós: {graph.number_of_nodes()}\")\n",
    "    print(f\"Nº de links: {graph.number_of_edges()}\")\n",
    "    print(f\"Grau médio: {np.mean(degrees)}\")\n",
    "    print(f\"Densidade: {nx.density(graph)}\")\n",
    "    print(f\"Cluster global: {nx.transitivity(graph)}\")\n",
    "    print(f\"Cluster médio: {nx.average_clustering(graph)}\")"
   ]
  },
  {
   "cell_type": "code",
   "execution_count": null,
   "metadata": {},
   "outputs": [],
   "source": [
    "# import networkx as nx\n",
    "\n",
    "# Assuming you have a graph object named 'graph'\n",
    "# You can replace 'graph' with your actual graph object\n",
    "\n",
    "# Get the first ten nodes\n",
    "nodes = list(grafo_twitter_conexo.nodes())[:10]\n",
    "\n",
    "# Print the nodes and their attributes\n",
    "for node in nodes:\n",
    "    attributes = grafo_twitter_conexo.nodes[node]\n",
    "    print(f\"Node: {node}\")\n",
    "    print(f\"Attributes: {attributes}\")\n",
    "    print(\"--------------------\")\n"
   ]
  },
  {
   "cell_type": "code",
   "execution_count": null,
   "metadata": {},
   "outputs": [],
   "source": [
    "def calculate_geostatistics(graph: nx.graph = None, df: pd.DataFrame = None, column: str = 'comunidade') -> dict:\n",
    "    \"\"\"Calcula as estatísticas geográficas de um grafo.\n",
    "\n",
    "    Args:\n",
    "        graph (nx.graph): Grafo a ser analisado.\n",
    "        \n",
    "\n",
    "    Returns:\n",
    "        dict: Dicionário com as estatísticas calculadas.\n",
    "        \n",
    "    Raises:\n",
    "        ValueError: Se não for fornecido um grafo ou um dataframe.\n",
    "    \"\"\"\n",
    "    stats = {}\n",
    "    \n",
    "    if graph is not None:\n",
    "        for node in tqdmBasic(graph.nodes(), total=graph.number_of_nodes()):\n",
    "            community = graph.nodes[node][column]\n",
    "            if community not in stats.keys():\n",
    "                stats[community] = {\n",
    "                    'x_points': [],\n",
    "                    'y_points': [],\n",
    "                    'x_mean': 0.0,\n",
    "                    'y_mean': 0.0,\n",
    "                    'mean_distance_to_center': 0.0,\n",
    "                    'standard_deviation': 0.0,\n",
    "                }\n",
    "                \n",
    "            if 'median_X' not in graph.nodes[node]:\n",
    "                continue\n",
    "            \n",
    "            x = float(graph.nodes[node]['median_X'])\n",
    "            y = float(graph.nodes[node]['median_Y'])\n",
    "            \n",
    "            stats[community]['x_points'].append(x)\n",
    "            stats[community]['y_points'].append(y)\n",
    "            \n",
    "            \n",
    "    elif df is not None:\n",
    "        for index, row in tqdmBasic(df.iterrows(), total=df.shape[0]):\n",
    "            community = row[column]\n",
    "            if community not in stats.keys():\n",
    "                stats[community] = {\n",
    "                    'x_points': [],\n",
    "                    'y_points': [],\n",
    "                    'x_mean': 0.0,\n",
    "                    'y_mean': 0.0,\n",
    "                    'mean_distance_to_center': 0.0,\n",
    "                    'standard_deviation': 0.0,\n",
    "                }\n",
    "                \n",
    "            if 'median_X' not in row:\n",
    "                continue\n",
    "            \n",
    "            x = float(row['median_X'])\n",
    "            y = float(row['median_Y'])\n",
    "            \n",
    "            stats[community]['x_points'].append(x)\n",
    "            stats[community]['y_points'].append(y)\n",
    "    else:\n",
    "        raise ValueError(\"You must provide a graph or a dataframe.\")        \n",
    "        \n",
    "    for community in stats.keys():\n",
    "        x_mean = np.mean(stats[community]['x_points'])\n",
    "        y_mean = np.mean(stats[community]['y_points'])\n",
    "        \n",
    "        stats[community]['x_mean'] = x_mean\n",
    "        stats[community]['y_mean'] = y_mean\n",
    "        \n",
    "        distances = [math.dist([x_mean, y_mean], [x, y]) for x, y in zip(stats[community]['x_points'], stats[community]['y_points'])]\n",
    "        mean_distance_to_center = np.mean(distances)\n",
    "        standart_deviation = np.std(distances)\n",
    "        \n",
    "        stats[community]['mean_distance_to_center'] = mean_distance_to_center\n",
    "        stats[community]['standard_deviation'] = standart_deviation        \n",
    "    \n",
    "    return stats"
   ]
  },
  {
   "cell_type": "code",
   "execution_count": null,
   "metadata": {},
   "outputs": [],
   "source": [
    "def return_community_detection_duration(graph: nx.Graph, algorithm: str = 'louvain'):\n",
    "    \"\"\"Calcula o tempo de execução de um algoritmo de detecção de comunidades.\n",
    "\n",
    "    Args:\n",
    "        graph (nx.Graph): Grafo a ser analisado.\n",
    "        algorithm (str, optional): Algoritmo de detecção de comunidades. Defaults to 'louvain'.\n",
    "\n",
    "    Returns:\n",
    "        float: Tempo de execução do algoritmo.\n",
    "        \n",
    "    Raises:\n",
    "        ValueError: Se o algoritmo não for implementado.\n",
    "    \"\"\"\n",
    "    start = time.time()\n",
    "    \n",
    "    if algorithm == 'louvain':\n",
    "        partition = nx.community.louvain_communities(graph)\n",
    "        modularity = nx.community.modularity(graph, partition)\n",
    "    elif algorithm == 'greedy':\n",
    "        partition = nx.community.greedy_modularity_communities(graph)\n",
    "        modularity = nx.community.modularity(graph, partition)\n",
    "    elif algorithm == 'edge_betweeness':\n",
    "        sets = random.randint(2, len(graph))        \n",
    "        partition = nx.community.edge_betweenness_partition(graph, sets)\n",
    "        modularity = nx.community.modularity(graph, partition)\n",
    "    elif algorithm == 'girvan_newman':\n",
    "        comunidades = list(nx.community.girvan_newman(graph))\n",
    "        partition = comunidades[0]\n",
    "        modularity = nx.community.modularity(graph, partition)\n",
    "        \n",
    "        for i in range(1, len(comunidades)):\n",
    "            partition_partial = comunidades[i]\n",
    "            modularity_partial = nx.community.modularity(graph, partition_partial)\n",
    "            \n",
    "            if np.abs(modularity_partial) > np.abs(modularity):\n",
    "                partition = partition_partial\n",
    "                modularity = modularity_partial\n",
    "    else:\n",
    "        raise ValueError(\"Método não implementado.\")\n",
    "        \n",
    "    end = time.time()\n",
    "    \n",
    "    return end - start, partition, modularity"
   ]
  },
  {
   "cell_type": "code",
   "execution_count": 104,
   "metadata": {},
   "outputs": [],
   "source": [
    "def random_subgraph_by_porcentage(graph: nx.DiGraph, porcentage: float = 0.1, connected_only: bool = False):\n",
    "    \"\"\"Gera um subgrafo aleatório de um grafo.\n",
    "\n",
    "    Args:\n",
    "        graph (nx.Graph): Grafo base.\n",
    "        porcentage (float, optional): Porcentagem de subgrafo. Defaults to 0.1.\n",
    "    \"\"\"\n",
    "    graph_return = nx.DiGraph()\n",
    "    \n",
    "    edges = random.sample(list(graph.edges()), int(graph.number_of_edges()*porcentage))\n",
    "    graph_return.add_edges_from(edges)\n",
    "    \n",
    "    for node in graph_return.nodes():\n",
    "        graph_return.nodes[node].update(graph.nodes[node])\n",
    "        \n",
    "    if connected_only:\n",
    "        components = nx.weakly_connected_components(graph_return)\n",
    "        biggest_component = max(components, key=len)\n",
    "        connected_graph = graph_return.subgraph(biggest_component)\n",
    "        return connected_graph\n",
    "    \n",
    "    return graph_return"
   ]
  },
  {
   "cell_type": "code",
   "execution_count": null,
   "metadata": {},
   "outputs": [],
   "source": [
    "def compute_and_export_the_data_from_subgraphs(graph, output_path: str = 'E://', output_file_name: str = 'subgraph_data.csv', columns: list = ['Nós', 'Links'], porcentage: float = 0.1):\n",
    "\n",
    "    output_file = os.path.join(output_path, output_file_name)\n",
    "\n",
    "    try:\n",
    "        df_performance = pd.read_csv(output_file, encoding='utf-8')\n",
    "    except:\n",
    "        df_performance = pd.DataFrame(columns=columns)\n",
    "        \n",
    "    tempo_louvain, comunidades_louvain, modularidade_louvain = return_community_detection_duration(graph, 'louvain')\n",
    "    tempo_greedy, comunidades_greedy, modularidade_greedy = return_community_detection_duration(graph, 'greedy')\n",
    "    # tempo_edge_betweeness = return_community_detection_duration(graph, 'edge_betweeness')    \n",
    "    tempo_girvan_newman, comunidades_girvan_newman, modularidade_girvan_newman = return_community_detection_duration(graph, 'girvan_newman')\n",
    "\n",
    "    df_performance = df_performance._append({\n",
    "        \"Porcentagem de Arestas\": porcentage,\n",
    "        \"Nós\": graph.number_of_nodes(),\n",
    "        \"Links\": graph.number_of_edges(),\n",
    "        \"Grau Médio\": np.mean([graph.degree(node) for node in graph.nodes()]),\n",
    "        \"Densidade\": nx.density(graph),\n",
    "        \"Cluster Global\": nx.transitivity(graph),\n",
    "        \"Cluster Médio\": nx.average_clustering(graph),\n",
    "        \"Tempo Louvain\": tempo_louvain,\n",
    "        \"N° Comunidades Louvain\": len(comunidades_louvain),\n",
    "        \"Modularidade Louvain\": modularidade_louvain,\n",
    "        \"Tempo Greedy\": tempo_greedy,\n",
    "        \"N° Comunidades Greedy\": len(comunidades_greedy),\n",
    "        \"Modularidade Greedy\": modularidade_greedy,\n",
    "        # \"Tempo Edge Betweeness\": tempo_edge_betweeness,\n",
    "        \"Tempo Girvan-Newman\": tempo_girvan_newman,\n",
    "        \"N° Comunidades Girvan-Newman\": len(comunidades_girvan_newman),\n",
    "        \"Modularidade Girvan-Newman\": modularidade_girvan_newman\n",
    "    }, ignore_index=True)\n",
    "\n",
    "    df_performance.to_csv(output_file, index=False, encoding='utf-8')  "
   ]
  },
  {
   "cell_type": "markdown",
   "metadata": {},
   "source": [
    "### Métodos de exportação de arquivos"
   ]
  },
  {
   "cell_type": "code",
   "execution_count": null,
   "metadata": {},
   "outputs": [],
   "source": [
    "def _export_dictionary(dict : dict, path : str = 'E://', file_name : str = 'dict.json'):\n",
    "    \"\"\"Exporta um dicionário para um arquivo JSON\n",
    "\n",
    "    Args:\n",
    "        dict (dict): dicionário a ser exportado\n",
    "        path (str, optional): Caminho do arquivo de saída. Defaults to ''.\n",
    "        file_name (str, optional): Nome do arquivo de saída. Defaults to 'dict.json'.\n",
    "    \"\"\"                \n",
    "    with open(f\"{path}{file_name}\", 'w') as f:\n",
    "        json.dump(dict, f)"
   ]
  },
  {
   "cell_type": "code",
   "execution_count": null,
   "metadata": {},
   "outputs": [],
   "source": [
    "def _export_list_to_csv(list : list, path : str = 'E://', file_name : str = 'list.csv'):\n",
    "    \"\"\"Exporta uma lista para um arquivo CSV\n",
    "\n",
    "    Args:\n",
    "        list (list): Lista a ser exportada\n",
    "        path (str, optional): Caminho do arquivo de saída. Defaults to ''.\n",
    "        file_name (str, optional): Nome do arquivo de saída. Defaults to 'list.csv'.\n",
    "    \"\"\"                \n",
    "    with open(f\"{path}{file_name}\", 'w', newline='') as f:\n",
    "        writer = csv.writer(f)\n",
    "        writer.writerows(list)"
   ]
  },
  {
   "cell_type": "markdown",
   "metadata": {},
   "source": [
    "## Criando os grafos"
   ]
  },
  {
   "cell_type": "markdown",
   "metadata": {},
   "source": [
    "### Dataframes e dicionários base para os grafos"
   ]
  },
  {
   "cell_type": "code",
   "execution_count": null,
   "metadata": {},
   "outputs": [],
   "source": [
    "dataFrameComUsernames = json_normalize(load_jsonl(r'D:\\\\Documentos\\\\data_and_code\\\\all_data_lisbon\\\\dataWithUserNames.jsonl'), sep = '_', errors ='ignore') "
   ]
  },
  {
   "cell_type": "code",
   "execution_count": null,
   "metadata": {},
   "outputs": [],
   "source": [
    "dataFrameComUsernames2 = dataframe_standartization(dataFrameComUsernames)"
   ]
  },
  {
   "cell_type": "code",
   "execution_count": null,
   "metadata": {},
   "outputs": [],
   "source": [
    "dictMentions = gera_dict_mentions_by_user(dataFrameComUsernames, data_frame2=dataFrameComUsernames2)"
   ]
  },
  {
   "cell_type": "code",
   "execution_count": null,
   "metadata": {},
   "outputs": [],
   "source": [
    "_export_dictionary(dictMentions, 'E://', 'dictMentions_locations.json')"
   ]
  },
  {
   "cell_type": "markdown",
   "metadata": {},
   "source": [
    "### Grafo de menções do twitter"
   ]
  },
  {
   "cell_type": "markdown",
   "metadata": {},
   "source": [
    "#### Geração"
   ]
  },
  {
   "cell_type": "code",
   "execution_count": null,
   "metadata": {},
   "outputs": [],
   "source": [
    "grafo_twitter = nx.DiGraph()\n",
    "arestas_fluxo_inexistentes = []\n",
    "\n",
    "for index, row in tqdmBasic(gdf_users.iterrows(), total=gdf_users.shape[0]):\n",
    "    vertex = row['username']\n",
    "    \n",
    "    if vertex not in grafo_twitter.nodes():\n",
    "        grafo_twitter.add_node(vertex)\n",
    "        \n",
    "    nx.set_node_attributes(grafo_twitter, {vertex: {\"median_lat\": row['median_lat'], \"median_lon\": row['median_lon']}})\n",
    "        \n",
    "    try:\n",
    "        for mention in dictMentions[row['username']]:\n",
    "            if mention not in grafo_twitter.nodes():\n",
    "                grafo_twitter.add_node(mention)\n",
    "            grafo_twitter.add_edge(vertex, mention)\n",
    "                \n",
    "            mentioned_person = gdf_users[gdf_users['username'] == mention]\n",
    "    except KeyError:\n",
    "        arestas_fluxo_inexistentes.append((vertex, mention))\n",
    "        continue"
   ]
  },
  {
   "cell_type": "markdown",
   "metadata": {},
   "source": [
    "#### Exportação"
   ]
  },
  {
   "cell_type": "code",
   "execution_count": null,
   "metadata": {},
   "outputs": [],
   "source": [
    "nx.write_graphml_lxml(grafo_twitter, \"D:\\\\Documentos\\\\data_and_code\\\\all_data_lisbon\\\\grafo_twitter.graphml\")"
   ]
  },
  {
   "cell_type": "markdown",
   "metadata": {},
   "source": [
    "### Grafos de fluxo"
   ]
  },
  {
   "cell_type": "markdown",
   "metadata": {},
   "source": [
    "#### Geração"
   ]
  },
  {
   "cell_type": "code",
   "execution_count": null,
   "metadata": {},
   "outputs": [],
   "source": [
    "grafo_fluxo_secao, no_sem_regiao_secao = generate_flow_graph(grafo_twitter, gdf_wgs84_secao, 'DTMNFRSEC2')\n",
    "grafo_fluxo_freguesia, no_sem_regiao_freguesia = generate_flow_graph(grafo_twitter, gdf_wgs84_freguesia, 'DTMNFR21')\n",
    "grafo_fluxo_municipio, no_sem_regiao_municipio = generate_flow_graph(grafo_twitter, gdf_wgs84_municipio, 'DTMN21')"
   ]
  },
  {
   "cell_type": "markdown",
   "metadata": {},
   "source": [
    "#### Exportação"
   ]
  },
  {
   "cell_type": "code",
   "execution_count": null,
   "metadata": {},
   "outputs": [],
   "source": [
    "### Exportando os grafos de fluxo\n",
    "nx.write_graphml_lxml(grafo_fluxo_secao, \"D:\\\\Documentos\\\\data_and_code\\\\all_data_lisbon\\\\grafo_fluxo_secao.graphml\")\n",
    "nx.write_graphml_lxml(grafo_fluxo_freguesia, \"D:\\\\Documentos\\\\data_and_code\\\\all_data_lisbon\\\\grafo_fluxo_freguesia.graphml\")\n",
    "nx.write_graphml_lxml(grafo_fluxo_municipio, \"D:\\\\Documentos\\\\data_and_code\\\\all_data_lisbon\\\\grafo_fluxo_municipio.graphml\")\n",
    "\n",
    "### Exportando as listas de nós sem região\n",
    "_export_list_to_csv(no_sem_regiao_secao, 'E://', 'no_sem_regiao_secao.csv')\n",
    "_export_list_to_csv(no_sem_regiao_freguesia, 'E://', 'no_sem_regiao_freguesia.csv')\n",
    "_export_list_to_csv(no_sem_regiao_municipio, 'E://', 'no_sem_regiao_municipio.csv')"
   ]
  },
  {
   "cell_type": "markdown",
   "metadata": {},
   "source": [
    "### Grafos de regiões adjacentes"
   ]
  },
  {
   "cell_type": "markdown",
   "metadata": {},
   "source": [
    "#### Geração"
   ]
  },
  {
   "cell_type": "code",
   "execution_count": null,
   "metadata": {},
   "outputs": [],
   "source": [
    "grafo_regioes_secao = generate_graph_from_gdf(gdf_wgs84_secao, 'DTMNFRSEC2')\n",
    "grafo_regioes_freguesia = generate_graph_from_gdf(gdf_wgs84_freguesia, 'DTMNFR21')\n",
    "grafo_regioes_municipio = generate_graph_from_gdf(gdf_wgs84_municipio, 'DTMN21')   "
   ]
  },
  {
   "cell_type": "markdown",
   "metadata": {},
   "source": [
    "#### Exportação"
   ]
  },
  {
   "cell_type": "code",
   "execution_count": null,
   "metadata": {},
   "outputs": [],
   "source": [
    "nx.write_graphml_lxml(grafo_regioes_secao, \"D:\\\\Documentos\\\\data_and_code\\\\all_data_lisbon\\\\grafo_regioes_secao.graphml\")\n",
    "nx.write_graphml_lxml(grafo_regioes_freguesia, \"D:\\\\Documentos\\\\data_and_code\\\\all_data_lisbon\\\\grafo_regioes_freguesia.graphml\")\n",
    "nx.write_graphml_lxml(grafo_regioes_municipio, \"D:\\\\Documentos\\\\data_and_code\\\\all_data_lisbon\\\\grafo_regioes_municipio.graphml\")"
   ]
  },
  {
   "cell_type": "markdown",
   "metadata": {},
   "source": [
    "### Métricas básicas dos grafos gerados"
   ]
  },
  {
   "cell_type": "markdown",
   "metadata": {},
   "source": [
    "#### Grafo das menções no twitter"
   ]
  },
  {
   "cell_type": "code",
   "execution_count": null,
   "metadata": {},
   "outputs": [],
   "source": [
    "degrees = []\n",
    "\n",
    "for node in grafo_twitter.nodes():\n",
    "    degrees.append(nx.degree(grafo_twitter, node))\n",
    "\n",
    "print(f\"Nº de nós: {grafo_twitter.number_of_nodes()}\")\n",
    "print(f\"Nº de links: {grafo_twitter.number_of_edges()}\")\n",
    "print(f\"Grau médio: {np.mean(degrees)}\")\n",
    "print(f\"Densidade: {nx.density(grafo_twitter)}\")\n",
    "# print(f\"Distância média: {nx.average_shortest_path_length(grafo_twitter)}\")\n",
    "print(f\"Cluster global: {nx.transitivity(grafo_twitter)}\")\n",
    "print(f\"Cluster médio: {nx.average_clustering(grafo_twitter)}\")"
   ]
  },
  {
   "cell_type": "markdown",
   "metadata": {},
   "source": [
    "#### Grafos dos fluxos"
   ]
  },
  {
   "cell_type": "code",
   "execution_count": null,
   "metadata": {},
   "outputs": [],
   "source": [
    "degrees = []\n",
    "\n",
    "for node in grafo_fluxo_secao.nodes():\n",
    "    degrees.append(nx.degree(grafo_fluxo_secao, node))\n",
    "\n",
    "print(f\"Nº de nós: {grafo_fluxo_secao.number_of_nodes()}\")\n",
    "print(f\"Nº de links: {grafo_fluxo_secao.number_of_edges()}\")\n",
    "print(f\"Grau médio: {np.mean(degrees)}\")\n",
    "print(f\"Densidade: {nx.density(grafo_fluxo_secao)}\")\n",
    "# print(f\"Distância média: {nx.average_shortest_path_length(grafo_fluxo)}\")\n",
    "print(f\"Cluster global: {nx.transitivity(grafo_fluxo_secao)}\")\n",
    "print(f\"Cluster médio: {nx.average_clustering(grafo_fluxo_secao)}\")"
   ]
  },
  {
   "cell_type": "code",
   "execution_count": null,
   "metadata": {},
   "outputs": [],
   "source": [
    "degrees = []\n",
    "\n",
    "for node in grafo_fluxo_freguesia.nodes():\n",
    "    degrees.append(nx.degree(grafo_fluxo_freguesia, node))\n",
    "\n",
    "print(f\"Nº de nós: {grafo_fluxo_freguesia.number_of_nodes()}\")\n",
    "print(f\"Nº de links: {grafo_fluxo_freguesia.number_of_edges()}\")\n",
    "print(f\"Grau médio: {np.mean(degrees)}\")\n",
    "print(f\"Densidade: {nx.density(grafo_fluxo_freguesia)}\")\n",
    "# print(f\"Distância média: {nx.average_shortest_path_length(grafo_fluxo)}\")\n",
    "print(f\"Cluster global: {nx.transitivity(grafo_fluxo_freguesia)}\")\n",
    "print(f\"Cluster médio: {nx.average_clustering(grafo_fluxo_freguesia)}\")"
   ]
  },
  {
   "cell_type": "code",
   "execution_count": null,
   "metadata": {},
   "outputs": [],
   "source": [
    "degrees = []\n",
    "\n",
    "for node in grafo_fluxo_municipio.nodes():\n",
    "    degrees.append(nx.degree(grafo_fluxo_municipio, node))\n",
    "\n",
    "print(f\"Nº de nós: {grafo_fluxo_municipio.number_of_nodes()}\")\n",
    "print(f\"Nº de links: {grafo_fluxo_municipio.number_of_edges()}\")\n",
    "print(f\"Grau médio: {np.mean(degrees)}\")\n",
    "print(f\"Densidade: {nx.density(grafo_fluxo_municipio)}\")\n",
    "# print(f\"Distância média: {nx.average_shortest_path_length(grafo_fluxo)}\")\n",
    "print(f\"Cluster global: {nx.transitivity(grafo_fluxo_municipio)}\")\n",
    "print(f\"Cluster médio: {nx.average_clustering(grafo_fluxo_municipio)}\")"
   ]
  },
  {
   "cell_type": "markdown",
   "metadata": {},
   "source": [
    "#### Grafos das regiões adjacentes"
   ]
  },
  {
   "cell_type": "code",
   "execution_count": null,
   "metadata": {},
   "outputs": [],
   "source": [
    "degrees = []\n",
    "\n",
    "for node in grafo_regioes_secao.nodes():\n",
    "    degrees.append(nx.degree(grafo_regioes_secao, node))\n",
    "    \n",
    "print(f\"Nº de nós: {grafo_regioes_secao.number_of_nodes()}\")\n",
    "print(f\"Nº de links: {grafo_regioes_secao.number_of_edges()}\")\n",
    "print(f\"Grau médio: {np.mean(degrees)}\")\n",
    "print(f\"Densidade: {nx.density(grafo_regioes_secao)}\")\n",
    "print(f\"Cluster global: {nx.transitivity(grafo_regioes_secao)}\")\n",
    "print(f\"Cluster médio: {nx.average_clustering(grafo_regioes_secao)}\")"
   ]
  },
  {
   "cell_type": "code",
   "execution_count": null,
   "metadata": {},
   "outputs": [],
   "source": [
    "degrees = []\n",
    "\n",
    "for node in grafo_regioes_freguesia.nodes():\n",
    "    degrees.append(nx.degree(grafo_regioes_freguesia, node))\n",
    "    \n",
    "print(f\"Nº de nós: {grafo_regioes_freguesia.number_of_nodes()}\")\n",
    "print(f\"Nº de links: {grafo_regioes_freguesia.number_of_edges()}\")\n",
    "print(f\"Grau médio: {np.mean(degrees)}\")\n",
    "print(f\"Densidade: {nx.density(grafo_regioes_freguesia)}\")\n",
    "print(f\"Cluster global: {nx.transitivity(grafo_regioes_freguesia)}\")\n",
    "print(f\"Cluster médio: {nx.average_clustering(grafo_regioes_freguesia)}\")"
   ]
  },
  {
   "cell_type": "code",
   "execution_count": null,
   "metadata": {},
   "outputs": [],
   "source": [
    "degrees = []\n",
    "\n",
    "for node in grafo_regioes_municipio.nodes():\n",
    "    degrees.append(nx.degree(grafo_regioes_municipio, node))\n",
    "    \n",
    "print(f\"Nº de nós: {grafo_regioes_municipio.number_of_nodes()}\")\n",
    "print(f\"Nº de links: {grafo_regioes_municipio.number_of_edges()}\")\n",
    "print(f\"Grau médio: {np.mean(degrees)}\")\n",
    "print(f\"Densidade: {nx.density(grafo_regioes_municipio)}\")\n",
    "print(f\"Cluster global: {nx.transitivity(grafo_regioes_municipio)}\")\n",
    "print(f\"Cluster médio: {nx.average_clustering(grafo_regioes_municipio)}\")"
   ]
  },
  {
   "cell_type": "markdown",
   "metadata": {},
   "source": [
    "## Subgrafos para testes"
   ]
  },
  {
   "cell_type": "code",
   "execution_count": null,
   "metadata": {},
   "outputs": [],
   "source": [
    "df_performance = pd.DataFrame()\n",
    "\n",
    "try:\n",
    "    df_performance = pd.read_csv('E://performance.csv', encoding='utf-8')\n",
    "except:\n",
    "    df_performance = pd.DataFrame(columns=[\"Porcentagem de Arestas\", \"Nós\", \"Links\", \"Grau Médio\", \"Densidade\", \"Cluster Global\", \"Cluster Médio\", \n",
    "                                           \"Tempo Louvain\", \"N° Comunidades Louvain\", \"Tempo Greedy\", \"N° Comunidades Greedy\", \"Tempo Girvan-Newman\", \"N° Comunidades Girvan-Newman\",])\n",
    "    \n",
    "tempo_louvain, comunidades_louvain = return_community_detection_duration(grafo_twitter_1, 'louvain')\n",
    "tempo_greedy, comunidades_greedy = return_community_detection_duration(grafo_twitter_1, 'greedy')\n",
    "# tempo_edge_betweeness = return_community_detection_duration(grafo_twitter_1, 'edge_betweeness')\n",
    "tempo_girvan_newman, comunidades_girvan_newman = return_community_detection_duration(grafo_twitter_1, 'girvan_newman')\n",
    "\n",
    "df_performance = df_performance._append({\n",
    "    \"Porcentagem de Arestas\": 0.01,\n",
    "    \"Nós\": grafo_twitter_1.number_of_nodes(),\n",
    "    \"Links\": grafo_twitter_1.number_of_edges(),\n",
    "    \"Grau Médio\": np.mean([grafo_twitter_1.degree(node) for node in grafo_twitter_1.nodes()]),\n",
    "    \"Densidade\": nx.density(grafo_twitter_1),\n",
    "    \"Cluster Global\": nx.transitivity(grafo_twitter_1),\n",
    "    \"Cluster Médio\": nx.average_clustering(grafo_twitter_1),\n",
    "    \"Tempo Louvain\": tempo_louvain,\n",
    "    \"N° Comunidades Louvain\": len(comunidades_louvain),\n",
    "    \"Tempo Greedy\": tempo_greedy,\n",
    "    \"N° Comunidades Greedy\": len(comunidades_greedy),\n",
    "    # \"Tempo Edge Betweeness\": tempo_edge_betweeness,\n",
    "    \"Tempo Girvan-Newman\": tempo_girvan_newman,\n",
    "    \"Nº Comunidades Girvan-Newman\": len(comunidades_girvan_newman)\n",
    "}, ignore_index=True)\n",
    "\n",
    "df_performance.to_csv('E://performance.csv', index=False, encoding='utf-8')    "
   ]
  },
  {
   "cell_type": "code",
   "execution_count": null,
   "metadata": {},
   "outputs": [],
   "source": [
    "itens = [\"Porcentagem de Arestas\", \"Nós\", \"Links\", \"Grau Médio\", \"Densidade\", \"Cluster Global\", \"Cluster Médio\", \n",
    "        \"Tempo Louvain\", \"N° Comunidades Louvain\", \"Modularidade Louvain\",\n",
    "        \"Tempo Greedy\", \"N° Comunidades Greedy\", \"Modularidade Greedy\",\n",
    "        \"Tempo Girvan-Newman\", \"N° Comunidades Girvan-Newman\", \"Modularidade Girvan-Newman\"]\n",
    "for item in tqdmBasic([0.01, 0.025, 0.05, 0.1], total=4):\n",
    "    grafo = random_subgraph_by_porcentage(grafo_twitter, item, connected_only=True)\n",
    "    compute_and_export_the_data_from_subgraphs(grafo, columns=itens, porcentage=item, output_file_name=\"connected_subgraphs_data.csv\")"
   ]
  },
  {
   "cell_type": "code",
   "execution_count": 114,
   "metadata": {},
   "outputs": [],
   "source": [
    "nodes_without_coordinates = [node for node in grafo_twitter.nodes() if 'median_lat' not in grafo_twitter.nodes[node]]"
   ]
  },
  {
   "cell_type": "code",
   "execution_count": 116,
   "metadata": {},
   "outputs": [
    {
     "name": "stdout",
     "output_type": "stream",
     "text": [
      "Nº de nós: 116087\n",
      "Nº de links: 20035\n",
      "Grau médio: 0.34517215536623397\n",
      "Densidade: 1.486708799365272e-06\n",
      "Cluster global: 0.032107423879575776\n",
      "Cluster médio: 0.0035780833649532847\n"
     ]
    }
   ],
   "source": [
    "grafo_twitter.remove_nodes_from(nodes_without_coordinates)\n",
    "show_graph_metrics(grafo_twitter)"
   ]
  },
  {
   "cell_type": "code",
   "execution_count": 182,
   "metadata": {},
   "outputs": [],
   "source": [
    "grafo = random_subgraph_by_porcentage(grafo_twitter, 0.02, True)"
   ]
  },
  {
   "cell_type": "code",
   "execution_count": 183,
   "metadata": {},
   "outputs": [
    {
     "name": "stdout",
     "output_type": "stream",
     "text": [
      "Nº de nós: 6\n",
      "Nº de links: 5\n",
      "Grau médio: 1.6666666666666667\n",
      "Densidade: 0.16666666666666666\n",
      "Cluster global: 0\n",
      "Cluster médio: 0.0\n"
     ]
    }
   ],
   "source": [
    "show_graph_metrics(grafo)"
   ]
  },
  {
   "cell_type": "code",
   "execution_count": 119,
   "metadata": {},
   "outputs": [
    {
     "name": "stdout",
     "output_type": "stream",
     "text": [
      "Nº de nós: 7\n",
      "Nº de links: 6\n",
      "Grau médio: 1.7142857142857142\n",
      "Densidade: 0.14285714285714285\n",
      "Cluster global: 0\n",
      "Cluster médio: 0.0\n"
     ]
    }
   ],
   "source": [
    "nodes_with_coordinates = [node for node in grafo.nodes if \"median_lat\" in grafo.nodes[node]]\n",
    "edges_with_coordinates = [(source, target) for source, target in grafo.edges if source in nodes_with_coordinates and target in nodes_with_coordinates]\n",
    "\n",
    "grafo = nx.DiGraph()\n",
    "grafo.add_nodes_from(nodes_with_coordinates)\n",
    "grafo.add_edges_from(edges_with_coordinates)\n",
    "\n",
    "for node in grafo.nodes():\n",
    "    grafo.nodes[node].update(grafo.nodes[node])\n",
    "\n",
    "show_graph_metrics(grafo)"
   ]
  },
  {
   "cell_type": "code",
   "execution_count": 43,
   "metadata": {},
   "outputs": [],
   "source": [
    "def calculate_distance_geographic(lat1, lon1, lat2, lon2):\n",
    "    x1, y1, _, _ = utm.from_latlon(lat1, lon1)\n",
    "    x2, y2, _, _ = utm.from_latlon(lat2, lon2)\n",
    "\n",
    "    return math.sqrt((x2 - x1)**2 + (y2 - y1)**2)"
   ]
  },
  {
   "cell_type": "code",
   "execution_count": 44,
   "metadata": {},
   "outputs": [],
   "source": [
    "def show_geo_modularity(grafo, D, d, centroid):\n",
    "    for node in grafo.nodes():\n",
    "        if 'median_lat' not in grafo.nodes[node]:\n",
    "            continue\n",
    "        \n",
    "        coordinates = (float(grafo.nodes[node][\"median_lat\"]), float(grafo.nodes[node][\"median_lon\"]))\n",
    "        \n",
    "        dispersao = calculate_distance_geographic(coordinates[0], coordinates[1], centroid[0], centroid[1])\n",
    "        \n",
    "        f_x = (math.log(1/dispersao) + math.log(D) + math.log(d)) / (math.log(D) - math.log(d))\n",
    "        \n",
    "        if f_x != 0:\n",
    "            try:\n",
    "                f_x = math.log(f_x)\n",
    "            except ValueError:\n",
    "                print(f\"dist: {dispersao}, D: {D}, d: {d}\")\n",
    "        # else:\n",
    "        #     print(f\"Node: {node}, Distance: {dispersao}, (f(x): {f_x}\")\n",
    "        \n",
    "        print(f\"Node: {node}, Distance: {dispersao}, log(f(x)): {f_x}\")"
   ]
  },
  {
   "cell_type": "code",
   "execution_count": 75,
   "metadata": {},
   "outputs": [],
   "source": [
    "def convert_geo_to_utm(graph: nx.graph):\n",
    "    for node in graph.nodes():\n",
    "        latitute = float(graph.nodes[node]['median_lat'])\n",
    "        longitude = float(graph.nodes[node]['median_lon'])\n",
    "        \n",
    "        easting, northing, _, _ = utm.from_latlon(latitute, longitude)\n",
    "        graph.nodes[node]['median_X'] = easting\n",
    "        graph.nodes[node]['median_Y'] = northing\n",
    "        \n",
    "    return graph"
   ]
  },
  {
   "cell_type": "code",
   "execution_count": 36,
   "metadata": {},
   "outputs": [],
   "source": [
    "# from scipy.cluster.hierarchy import linkage\n",
    "# from scipy.spatial.distance import pdist\n",
    "\n",
    "\n",
    "# def calculate_ward_dispersion(graph, latitude='latitude', longitude='longitude'):\n",
    "#     nodes = list(graph.nodes())\n",
    "#     n = len(nodes)\n",
    "\n",
    "#     # Extraindo coordenadas projetadas dos nós\n",
    "#     coords = np.array([[graph.nodes[node][longitude], graph.nodes[node][latitude]] for node in nodes])\n",
    "\n",
    "#     # Calculando a matriz de distâncias euclidianas\n",
    "#     dist_matrix = pdist(coords, metric='euclidean')\n",
    "\n",
    "#     # Determinando a clusterização hierárquica usando o método de Ward\n",
    "#     linkage_matrix = linkage(dist_matrix, method='ward')\n",
    "\n",
    "#     # Determinando o número ótimo de cluster usando a distância\n",
    "#     max_d = np.max(linkage_matrix[:, 2])\n",
    "#     labels = fcluster(linkage_matrix, max_d, criterion='distance')\n",
    "\n",
    "#     # Calculando a dispersão de Ward\n",
    "#     ward_dispersion = 0\n",
    "#     for label in np.unique(labels):\n",
    "#         cluster_indices = np.where(labels == label)[0]\n",
    "#         cluster_coords = coords[cluster_indices]\n",
    "#         centroid = np.mean(cluster_coords, axis=0)\n",
    "#         for coord in cluster_coords:\n",
    "#             ward_dispersion += np.sum((coord - centroid) ** 2)\n",
    "\n",
    "#     return ward_dispersion"
   ]
  },
  {
   "cell_type": "code",
   "execution_count": 194,
   "metadata": {},
   "outputs": [],
   "source": [
    "def calculate_ward_dispersion(grafo: nx.graph, comunidades: list, latitude: str = 'latitude', longitude: str = 'longitude'):\n",
    "    \n",
    "    comm = set(comunidades)\n",
    "    coords = np.array([[float(grafo.nodes[node][longitude]), float(grafo.nodes[node][latitude])] for node in comm])\n",
    "    centroid = np.mean(coords, axis=0)\n",
    "    \n",
    "    def community_dispersion(coord: np.array, centroid: np.array):\n",
    "        return np.sum(np.sum((coord - centroid) ** 2))\n",
    "        \n",
    "    return sum([community_dispersion(coord, centroid) for coord in coords])"
   ]
  },
  {
   "cell_type": "code",
   "execution_count": 184,
   "metadata": {},
   "outputs": [],
   "source": [
    "grafo = convert_geo_to_utm(grafo)"
   ]
  },
  {
   "cell_type": "code",
   "execution_count": 185,
   "metadata": {},
   "outputs": [
    {
     "name": "stdout",
     "output_type": "stream",
     "text": [
      "Node: Patuleia\n",
      "Attributes: {'median_lat': '38.7261', 'median_lon': '-9.1394', 'median_X': 487882.706941838, 'median_Y': 4286391.542569568}\n",
      "--------------------\n",
      "Node: upsfeup\n",
      "Attributes: {'median_lat': '38.72489907', 'median_lon': '-9.145852925', 'median_X': 487321.5763582161, 'median_Y': 4286259.153784075}\n",
      "--------------------\n",
      "Node: TTduty\n",
      "Attributes: {'median_lat': '38.763414', 'median_lon': '-9.1394', 'median_X': 487889.0118034814, 'median_Y': 4290532.138460333}\n",
      "--------------------\n",
      "Node: Andre_Calado_\n",
      "Attributes: {'median_lat': '38.72111134', 'median_lon': '-9.13583378', 'median_X': 488191.87843848113, 'median_Y': 4285837.505739964}\n",
      "--------------------\n",
      "Node: nosuchuser\n",
      "Attributes: {'median_lat': '38.81710815', 'median_lon': '-9.16007047', 'median_X': 486103.60111481865, 'median_Y': 4296493.364874446}\n",
      "--------------------\n",
      "Node: martim\n",
      "Attributes: {'median_lat': '38.8', 'median_lon': '-9.38333', 'median_X': 466713.4862165817, 'median_Y': 4294652.522240017}\n",
      "--------------------\n"
     ]
    }
   ],
   "source": [
    "for node in grafo.nodes():\n",
    "    print(f\"Node: {node}\")\n",
    "    print(f\"Attributes: {grafo.nodes[node]}\")\n",
    "    print(\"--------------------\")"
   ]
  },
  {
   "cell_type": "code",
   "execution_count": 186,
   "metadata": {},
   "outputs": [
    {
     "data": {
      "image/png": "[encoded data removed]",
      "text/plain": [
       "<Figure size 1000x800 with 1 Axes>"
      ]
     },
     "metadata": {},
     "output_type": "display_data"
    }
   ],
   "source": [
    "# Get the latitude and longitude attributes from the nodes\n",
    "latitude = nx.get_node_attributes(grafo, 'median_Y')\n",
    "longitude = nx.get_node_attributes(grafo, 'median_X')\n",
    "\n",
    "# Create a scatter plot of the nodes using latitude and longitude as coordinates\n",
    "plt.figure(figsize=(10, 8))\n",
    "plt.scatter(longitude.values(), latitude.values(), color='blue', alpha=0.7)\n",
    "\n",
    "# Add labels to the nodes\n",
    "for node, pos in zip(grafo.nodes(), zip(longitude.values(), latitude.values())):\n",
    "    plt.annotate(node, pos, fontsize=8, ha='center')\n",
    "\n",
    "# Set plot title and axis labels\n",
    "plt.title('Graph Visualization')\n",
    "plt.xlabel('Longitude')\n",
    "plt.ylabel('Latitude')\n",
    "\n",
    "# Show the plot\n",
    "plt.show()"
   ]
  },
  {
   "cell_type": "markdown",
   "metadata": {},
   "source": [
    "### Dividindo em grafos com a mesma quantidade de nós"
   ]
  },
  {
   "cell_type": "code",
   "execution_count": null,
   "metadata": {},
   "outputs": [],
   "source": [
    "# Get the nodes of grafo2\n",
    "nodes = list(grafo.nodes())\n",
    "\n",
    "# Divide the nodes into 10 sets\n",
    "sets_of_nodes = np.array_split(nodes, 10)\n",
    "\n",
    "# Print the sets of nodes\n",
    "for i, nodes_set in enumerate(sets_of_nodes):\n",
    "    print(f\"Set {i+1}: {nodes_set}\")"
   ]
  },
  {
   "cell_type": "markdown",
   "metadata": {},
   "source": [
    "### Dividindo em grafos por proximidades"
   ]
  },
  {
   "cell_type": "code",
   "execution_count": 173,
   "metadata": {},
   "outputs": [],
   "source": [
    "grafo2 = grafo.copy()\n",
    "nodes_to_remove = ['afterpurpose', 'BastosDanilsa', 'suxrainstyles', 'encontra_me', 'ohtommogasm', 'soeiro_a_saloia', 'miriaamfdz_']\n",
    "grafo2.remove_nodes_from(nodes_to_remove)"
   ]
  },
  {
   "cell_type": "code",
   "execution_count": 187,
   "metadata": {},
   "outputs": [
    {
     "name": "stdout",
     "output_type": "stream",
     "text": [
      "Set 1: ['Patuleia', 'upsfeup', 'Andre_Calado_']\n",
      "Set 2: ['TTduty']\n",
      "Set 3: ['nosuchuser']\n",
      "Set 4: ['martim']\n"
     ]
    }
   ],
   "source": [
    "from math import sqrt\n",
    "\n",
    "# Function to calculate the distance between two nodes using Euclidean distance\n",
    "def calculate_distance(x1, y1, x2, y2):\n",
    "    return sqrt((x2 - x1)**2 + (y2 - y1)**2)\n",
    "\n",
    "latitude = 'median_Y'\n",
    "longitude = 'median_X'\n",
    "\n",
    "# Create sets of nodes within a 2km radius\n",
    "sets_of_nodes = []\n",
    "for node in grafo.nodes():\n",
    "    x1, y1 = grafo.nodes[node][latitude], grafo.nodes[node][longitude]\n",
    "    found = False\n",
    "    for s in sets_of_nodes:\n",
    "        x2, y2 = grafo.nodes[s[0]][latitude], grafo.nodes[s[0]][longitude]\n",
    "        distance = calculate_distance(x1, y1, x2, y2)\n",
    "        if distance <= 2000:  # 2km = 2000 meters\n",
    "            s.append(node)\n",
    "            found = True\n",
    "            break\n",
    "    if not found:\n",
    "        sets_of_nodes.append([node])\n",
    "\n",
    "# Print the sets\n",
    "for i, s in enumerate(sets_of_nodes):\n",
    "    print(f\"Set {i+1}: {s}\")"
   ]
  },
  {
   "cell_type": "code",
   "execution_count": 188,
   "metadata": {},
   "outputs": [
    {
     "name": "stdout",
     "output_type": "stream",
     "text": [
      "Total sets with only one color: 3\n"
     ]
    }
   ],
   "source": [
    "count = 0\n",
    "for s in sets_of_nodes:\n",
    "    if len(s) == 1:\n",
    "        count += 1\n",
    "\n",
    "print(f\"Total sets with only one color: {count}\")"
   ]
  },
  {
   "cell_type": "code",
   "execution_count": 189,
   "metadata": {},
   "outputs": [
    {
     "data": {
      "image/png": "[encoded data removed]",
      "text/plain": [
       "<Figure size 1000x1000 with 1 Axes>"
      ]
     },
     "metadata": {},
     "output_type": "display_data"
    }
   ],
   "source": [
    "# Create a dictionary to store the color for each node\n",
    "node_colors = {}\n",
    "\n",
    "# Assign a unique color to each set with more than one node\n",
    "for i, set_nodes in enumerate(sets_of_nodes):\n",
    "    if len(set_nodes) > 1:\n",
    "        color = plt.cm.tab10(i % 13)  # Use a colormap to generate unique colors\n",
    "        for node in set_nodes:\n",
    "            node_colors[node] = color\n",
    "\n",
    "# Assign the same color to nodes in sets with only one node\n",
    "for set_nodes in sets_of_nodes:\n",
    "    if len(set_nodes) == 1:        \n",
    "        node = set_nodes[0]\n",
    "        if node not in node_colors:\n",
    "            color = plt.cm.tab10(1)  # Use the first color from the colormap\n",
    "            node_colors[node] = color\n",
    "\n",
    "# Plot the graph with colored nodes\n",
    "pos = {node: (grafo.nodes[node]['median_X'], grafo.nodes[node]['median_Y']) for node in grafo.nodes()}\n",
    "plt.figure(figsize=(10, 10))\n",
    "nx.draw_networkx(grafo, pos=pos, node_color=[node_colors.get(node, 'gray') for node in grafo.nodes()], with_labels=False)\n",
    "plt.axis('off')\n",
    "plt.show()"
   ]
  },
  {
   "cell_type": "code",
   "execution_count": 197,
   "metadata": {},
   "outputs": [
    {
     "name": "stdout",
     "output_type": "stream",
     "text": [
      "Set 1 inverse Ward dispersion: 1.7962448467074833e-06\n",
      "Set 2 inverse Ward dispersion: 0\n",
      "Set 3 inverse Ward dispersion: 0\n",
      "Set 4 inverse Ward dispersion: 0\n",
      "Total inverse Ward dispersion: 1.7962448467074833e-06\n"
     ]
    }
   ],
   "source": [
    "dispersao_inversa = 0\n",
    "\n",
    "for i, nodes_set in enumerate(sets_of_nodes):\n",
    "    num_nodes = grafo.number_of_nodes()\n",
    "    \n",
    "    if len(nodes_set) <= 1:\n",
    "        dispersao = 0\n",
    "        print(f\"Set {i+1} inverse Ward dispersion: {dispersao}\")        \n",
    "        continue\n",
    "    \n",
    "    dispersao = calculate_ward_dispersion(grafo, nodes_set, latitude='median_Y', longitude='median_X')\n",
    "    \n",
    "    if dispersao == 0:\n",
    "        print(f\"Set {i+1} inverse Ward dispersion: {dispersao}\")                \n",
    "        continue\n",
    "    \n",
    "    dispersao_inversa += 1 / dispersao\n",
    "    print(f\"Set {i+1} inverse Ward dispersion: {1 / dispersao}\")\n",
    "    \n",
    "print(f\"Total inverse Ward dispersion: {dispersao_inversa}\")"
   ]
  },
  {
   "cell_type": "code",
   "execution_count": 191,
   "metadata": {},
   "outputs": [
    {
     "name": "stdout",
     "output_type": "stream",
     "text": [
      "Resultado da transformação: 0.24186323408333119\n"
     ]
    }
   ],
   "source": [
    "geosocial = ga.GeoSocial(grafo, lat=\"median_Y\", lon=\"median_X\")\n",
    "\n",
    "D = geosocial.D\n",
    "d = 0.01\n",
    "centroid = geosocial.centroid\n",
    "\n",
    "try:\n",
    "    f_x = (math.log(1/dispersao_inversa) + math.log(D) + math.log(d)) / (math.log(D) - math.log(d))\n",
    "except:\n",
    "    f_x = math.log(d)\n",
    "\n",
    "print(f\"Resultado da transformação: {math.log(f_x)}\")"
   ]
  },
  {
   "cell_type": "code",
   "execution_count": null,
   "metadata": {},
   "outputs": [],
   "source": []
  },
  {
   "cell_type": "code",
   "execution_count": null,
   "metadata": {},
   "outputs": [],
   "source": []
  },
  {
   "cell_type": "code",
   "execution_count": null,
   "metadata": {},
   "outputs": [],
   "source": []
  },
  {
   "cell_type": "code",
   "execution_count": 43,
   "metadata": {},
   "outputs": [
    {
     "name": "stdout",
     "output_type": "stream",
     "text": [
      "Nº de nós: 72800\n",
      "Nº de links: 120259\n",
      "Grau médio: 3.303818681318681\n",
      "Densidade: 2.2691374066392953e-05\n",
      "Cluster global: 0.002661862925637558\n",
      "Cluster médio: 0.017752671752988572\n"
     ]
    }
   ],
   "source": [
    "show_graph_metrics(grafo_twitter_conexo)"
   ]
  },
  {
   "cell_type": "code",
   "execution_count": 30,
   "metadata": {},
   "outputs": [
    {
     "name": "stdout",
     "output_type": "stream",
     "text": [
      "Node: TSFRadio\n",
      "Attributes: {'median_lat': '38.74751841', 'median_lon': '-9.09904258'}\n",
      "--------------------\n",
      "Node: geo_ph\n",
      "Attributes: {}\n",
      "--------------------\n",
      "Node: jccamos\n",
      "Attributes: {'median_lat': '38.71270596', 'median_lon': '-9.2210118'}\n",
      "--------------------\n",
      "Node: iescolar\n",
      "Attributes: {}\n",
      "--------------------\n",
      "Node: ManNextDoor\n",
      "Attributes: {'median_lat': '38.719345', 'median_lon': '-9.130963195'}\n",
      "--------------------\n",
      "Node: Badasstinatas\n",
      "Attributes: {'median_lat': '38.7321457', 'median_lon': '-9.4126192'}\n",
      "--------------------\n",
      "Node: mariana71616477\n",
      "Attributes: {'median_lat': '38.6560404', 'median_lon': '-9.05134575'}\n",
      "--------------------\n",
      "Node: hugocardoso\n",
      "Attributes: {'median_lat': '38.77876806', 'median_lon': '-9.10261702'}\n",
      "--------------------\n",
      "Node: Marco10Melo\n",
      "Attributes: {}\n",
      "--------------------\n",
      "Node: Yoko1904\n",
      "Attributes: {}\n",
      "--------------------\n"
     ]
    }
   ],
   "source": [
    "# Get the first ten nodes\n",
    "nodes = list(grafo.nodes())[:10]\n",
    "\n",
    "# Print the nodes and their attributes\n",
    "for node in nodes:\n",
    "    attributes = grafo.nodes[node]\n",
    "    print(f\"Node: {node}\")\n",
    "    print(f\"Attributes: {attributes}\")\n",
    "    print(\"--------------------\")"
   ]
  },
  {
   "cell_type": "code",
   "execution_count": 13,
   "metadata": {},
   "outputs": [
    {
     "data": {
      "image/png": "[encoded data removed]",
      "text/plain": [
       "<Figure size 2500x1000 with 1 Axes>"
      ]
     },
     "metadata": {},
     "output_type": "display_data"
    }
   ],
   "source": [
    "plt.figure(figsize=(25,10))\n",
    "pos = nx.planar_layout(grafo)\n",
    "nx.draw(grafo, pos=pos, with_labels=True)\n",
    "plt.show()"
   ]
  },
  {
   "cell_type": "code",
   "execution_count": null,
   "metadata": {},
   "outputs": [],
   "source": [
    "comunidades = list(nx.community.girvan_newman(grafo))"
   ]
  },
  {
   "cell_type": "code",
   "execution_count": null,
   "metadata": {},
   "outputs": [],
   "source": [
    "for comunidade in comunidades:\n",
    "    modularity_partition = nx.community.modularity(grafo, comunidade)\n",
    "    print(len(comunidade), modularity_partition)"
   ]
  },
  {
   "cell_type": "code",
   "execution_count": null,
   "metadata": {},
   "outputs": [],
   "source": [
    "# Modularity -> measures the strength of division of a network into modules\n",
    "modularity_df = pd.DataFrame(\n",
    "    [\n",
    "        [k + 1, nx.community.modularity(grafo, comunidades[k])]\n",
    "        for k in range(len(comunidades))\n",
    "    ],\n",
    "    columns=[\"k\", \"modularity\"],\n",
    ")"
   ]
  },
  {
   "cell_type": "code",
   "execution_count": null,
   "metadata": {},
   "outputs": [],
   "source": [
    "def create_community_node_colors(graph, communities):\n",
    "    number_of_colors = len(communities[0])\n",
    "    colors = [\"#D4FCB1\", \"#CDC5FC\", \"#FFC2C4\", \"#F2D140\", \"#BCC6C8\"][:number_of_colors]\n",
    "    node_colors = []\n",
    "    for node in graph:\n",
    "        current_community_index = 0\n",
    "        for community in communities:\n",
    "            if node in community:\n",
    "                node_colors.append(colors[current_community_index])\n",
    "                break\n",
    "            current_community_index += 1\n",
    "    return node_colors"
   ]
  },
  {
   "cell_type": "code",
   "execution_count": null,
   "metadata": {},
   "outputs": [],
   "source": [
    "# function to plot graph with node colouring based on communities\n",
    "def visualize_communities(graph, communities, i):\n",
    "    node_colors = create_community_node_colors(graph, communities)\n",
    "    modularity = round(nx.community.modularity(graph, communities), 6)\n",
    "    title = f\"Community Visualization of {len(communities)} communities with modularity of {modularity}\"\n",
    "    pos = nx.spring_layout(graph, k=0.3, iterations=50, seed=2)\n",
    "    plt.subplot(3, 1, i)\n",
    "    plt.title(title)\n",
    "    nx.draw(\n",
    "        graph,\n",
    "        pos=pos,\n",
    "        node_size=1000,\n",
    "        node_color=node_colors,\n",
    "        with_labels=True,\n",
    "        font_size=20,\n",
    "        font_color=\"black\",\n",
    "    )"
   ]
  },
  {
   "cell_type": "code",
   "execution_count": null,
   "metadata": {},
   "outputs": [],
   "source": [
    "fig, ax = plt.subplots(3, figsize=(15, 20))\n",
    "\n",
    "# Plot graph with colouring based on communities\n",
    "visualize_communities(grafo, comunidades[0], 1)\n",
    "visualize_communities(grafo, comunidades[1], 2)\n",
    "\n",
    "# Plot change in modularity as the important edges are removed\n",
    "modularity_df.plot.bar(\n",
    "    x=\"k\",\n",
    "    ax=ax[2],\n",
    "    color=\"#F2D140\",\n",
    "    title=\"Modularity Trend for Girvan-Newman Community Detection\",\n",
    ")\n",
    "plt.show()"
   ]
  },
  {
   "cell_type": "markdown",
   "metadata": {},
   "source": [
    "## Criando as comunidades"
   ]
  },
  {
   "cell_type": "markdown",
   "metadata": {},
   "source": [
    "### Metodologia de Girvan-Newman"
   ]
  },
  {
   "cell_type": "markdown",
   "metadata": {},
   "source": [
    "#### Geração"
   ]
  },
  {
   "cell_type": "code",
   "execution_count": null,
   "metadata": {},
   "outputs": [],
   "source": [
    "# Gerando um subgrafo com o maior componente conexo\n",
    "componentes = nx.weakly_connected_components(grafo_twitter)\n",
    "maior_componente = max(componentes, key=len)\n",
    "grafo_twitter_conexo = grafo_twitter.subgraph(maior_componente)"
   ]
  },
  {
   "cell_type": "code",
   "execution_count": null,
   "metadata": {},
   "outputs": [],
   "source": [
    "grafo_twitter_conexo = nx.read_graphml(\"D:\\\\Documentos\\\\data_and_code\\\\all_data_lisbon\\\\grafo_twitter_conexo.graphml\")"
   ]
  },
  {
   "cell_type": "code",
   "execution_count": null,
   "metadata": {},
   "outputs": [],
   "source": [
    "grafo = grafo_twitter_conexo.copy()\n",
    "\n",
    "for u,v in grafo_twitter_conexo.edges():\n",
    "    if u == v and grafo.has_edge(u,v):\n",
    "        grafo.remove_edge(u,v)\n",
    "        \n",
    "    if u['X_']\n",
    "    "
   ]
  },
  {
   "cell_type": "code",
   "execution_count": null,
   "metadata": {},
   "outputs": [],
   "source": [
    "degrees = []\n",
    "\n",
    "for node in grafo.nodes():\n",
    "    degrees.append(nx.degree(grafo, node))\n",
    "    \n",
    "print(f\"Nº de nós: {grafo.number_of_nodes()}\")\n",
    "print(f\"Nº de links: {grafo.number_of_edges()}\")\n",
    "print(f\"Grau médio: {np.mean(degrees)}\")\n",
    "print(f\"Densidade: {nx.density(grafo)}\")\n",
    "print(f\"Cluster global: {nx.transitivity(grafo)}\")\n",
    "print(f\"Cluster médio: {nx.average_clustering(grafo)}\")"
   ]
  },
  {
   "cell_type": "code",
   "execution_count": null,
   "metadata": {},
   "outputs": [],
   "source": [
    "# atribuir as comunidades aos nós do grafo\n",
    "comunidades = list(nx.community.louvain_communities(grafo))\n",
    "print(f\"Modularidade: {nx.community.modularity(grafo, comunidades)}\")\n",
    "comunidades_dict = {}\n",
    "for i, comunidade in enumerate(comunidades):\n",
    "    for node in comunidade:\n",
    "        comunidades_dict[node] = i\n",
    "        \n",
    "nx.set_node_attributes(grafo, comunidades_dict, 'comunidade_louvain')"
   ]
  },
  {
   "cell_type": "code",
   "execution_count": null,
   "metadata": {},
   "outputs": [],
   "source": [
    "nx.write_graphml_lxml(grafo_twitter_conexo_20, \"D:\\\\Documentos\\\\data_and_code\\\\all_data_lisbon\\\\grafo_twitter_conexo_20.graphml\")"
   ]
  },
  {
   "cell_type": "code",
   "execution_count": null,
   "metadata": {},
   "outputs": [],
   "source": [
    "grafo_twitter_20 = nx.read_graphml(\"D:\\\\Documentos\\\\data_and_code\\\\all_data_lisbon\\\\grafo_twitter_conexo_20.graphml\")"
   ]
  },
  {
   "cell_type": "code",
   "execution_count": null,
   "metadata": {},
   "outputs": [],
   "source": [
    "# Gerando um subgrafo com o maior componente conexo\n",
    "componentes = nx.weakly_connected_components(grafo_twitter_20)\n",
    "maior_componente = max(componentes, key=len)\n",
    "grafo_twitter_20_conexo = grafo_twitter_20.subgraph(maior_componente)"
   ]
  },
  {
   "cell_type": "code",
   "execution_count": null,
   "metadata": {},
   "outputs": [],
   "source": [
    "# copy the graph as undirected\n",
    "\n",
    "grafo_twitter_20_conexo_undirected = grafo_twitter_20_conexo.to_undirected()"
   ]
  },
  {
   "cell_type": "code",
   "execution_count": null,
   "metadata": {},
   "outputs": [],
   "source": [
    "# gerar comunidades Edge Betweeness\n",
    "comunidades = list(nx.community.edge_betweenness_partition(grafo_twitter_20_conexo_undirected, 101))\n",
    "print(f\"Modularidade: {nx.community.modularity(grafo_twitter_20_conexo_undirected, comunidades)}\")\n",
    "comunidades_dict = {}\n",
    "for i, comunidade in enumerate(comunidades):\n",
    "    for node in comunidade:\n",
    "        comunidades_dict[node] = i\n",
    "        \n",
    "nx.set_node_attributes(grafo_twitter_20_conexo_undirected, comunidades_dict, 'comunidade_girvan_newman')"
   ]
  },
  {
   "cell_type": "code",
   "execution_count": null,
   "metadata": {},
   "outputs": [],
   "source": [
    "with open(\"E://comunidades_greedy_sem_autoloop.txt\", \"w\") as f:\n",
    "    for comunidade in comunidades:\n",
    "        f.write(f\"{comunidade}\\n\")"
   ]
  },
  {
   "cell_type": "code",
   "execution_count": null,
   "metadata": {},
   "outputs": [],
   "source": [
    "with open(\"E://comunidades_greedy_sem_autoloop.txt\", \"r\") as f:\n",
    "    comunidades = f.readlines()"
   ]
  },
  {
   "cell_type": "markdown",
   "metadata": {},
   "source": [
    "#### Estatísticas das comunidades"
   ]
  },
  {
   "cell_type": "code",
   "execution_count": null,
   "metadata": {},
   "outputs": [],
   "source": [
    "comunidades = list(nx.community.louvain_communities(grafo_twitter_conexo))\n",
    "print(f\"Modularidade: {nx.community.modularity(grafo_twitter_conexo, comunidades)}\")\n",
    "comunidades_dict = {}\n",
    "for i, comunidade in enumerate(comunidades):\n",
    "    for node in comunidade:\n",
    "        comunidades_dict[node] = i\n",
    "        \n",
    "nx.set_node_attributes(grafo_twitter_conexo, comunidades_dict, 'comunidade_louvain')"
   ]
  },
  {
   "cell_type": "code",
   "execution_count": null,
   "metadata": {},
   "outputs": [],
   "source": [
    "remove = [node for node in grafo_twitter_conexo.nodes() if 'median_lat' not in grafo_twitter_conexo.nodes[node]]"
   ]
  },
  {
   "cell_type": "code",
   "execution_count": null,
   "metadata": {},
   "outputs": [],
   "source": [
    "grafo_twitter_conexo.remove_nodes_from(remove)"
   ]
  },
  {
   "cell_type": "code",
   "execution_count": null,
   "metadata": {},
   "outputs": [],
   "source": [
    "show_graph_metrics(grafo_twitter_conexo)"
   ]
  },
  {
   "cell_type": "code",
   "execution_count": null,
   "metadata": {},
   "outputs": [],
   "source": [
    "nodes = list(grafo_twitter_conexo.nodes())[:10]\n",
    "\n",
    "# Print the nodes and their attributes\n",
    "for node in nodes:\n",
    "    attributes = grafo_twitter_conexo.nodes[node]\n",
    "    print(f\"Node: {node}\")\n",
    "    print(f\"Attributes: {attributes}\")\n",
    "    print(\"--------------------\")"
   ]
  },
  {
   "cell_type": "code",
   "execution_count": null,
   "metadata": {},
   "outputs": [],
   "source": [
    "estatisticas_grafo = calculate_geostatistics(graph=grafo_twitter_conexo, column='comunidade_louvain')"
   ]
  },
  {
   "cell_type": "code",
   "execution_count": null,
   "metadata": {},
   "outputs": [],
   "source": [
    "myKeys = list(estatisticas_grafo.keys())\n",
    "myKeys.sort()\n",
    "sorted_estatisticas_grafo = {i: estatisticas_grafo[i] for i in myKeys}"
   ]
  },
  {
   "cell_type": "code",
   "execution_count": null,
   "metadata": {},
   "outputs": [],
   "source": [
    "text_size_axis = 12\n",
    "text_size_standart = 16\n",
    "\n",
    "# Extract the keys and values from the 'estatisticas' dictionary\n",
    "x = [len(sorted_estatisticas_grafo[key]['x_points']) for key in sorted_estatisticas_grafo.keys()]\n",
    "y = [sorted_estatisticas_grafo[key]['mean_distance_to_center'] for key in sorted_estatisticas_grafo.keys()]\n",
    "\n",
    "# Plot the values in bars, y-axis in log\n",
    "plt.figure(figsize=(10, 5))\n",
    "plt.scatter(x, y)\n",
    "plt.xscale('log')\n",
    "plt.yscale('log')\n",
    "plt.xlabel('Quantidade de nós por comunidade', fontsize=text_size_standart)\n",
    "plt.ylabel('Distância média ao centro em metros', fontsize=text_size_standart)\n",
    "plt.title('Dados por comunidade', fontsize=text_size_standart)\n",
    "plt.xticks(fontsize=text_size_axis)\n",
    "plt.yticks(fontsize=text_size_axis, rotation=90)\n",
    "plt.grid(axis='y', color='black')\n",
    "plt.show()"
   ]
  },
  {
   "cell_type": "code",
   "execution_count": null,
   "metadata": {},
   "outputs": [],
   "source": [
    "text_size_axis = 48\n",
    "text_size_standart = 52\n",
    "\n",
    "# Extract the mean and standard deviation from estatisticas\n",
    "means = [sorted_estatisticas_grafo[key]['mean_distance_to_center'] for key in sorted_estatisticas_grafo.keys()]\n",
    "stds = [sorted_estatisticas_grafo[key]['standard_deviation'] for key in sorted_estatisticas_grafo.keys()]\n",
    "\n",
    "# Create a list of community names\n",
    "community_names = [str(community) for community in sorted_estatisticas_grafo]\n",
    "\n",
    "plt.figure(figsize=(100, 30))\n",
    "# Plot the mean with error bars representing the standard deviation\n",
    "plt.errorbar(community_names, means, yerr=stds, fmt='o', capsize=5, label='Média e Desvio Padrão', ecolor='red', elinewidth=2, capthick=2, markersize=10)\n",
    "\n",
    "# Set the labels and title\n",
    "plt.xlabel('Communidade', fontsize=text_size_standart)\n",
    "plt.ylabel('Distância média ao centro em metros', fontsize=text_size_standart)\n",
    "plt.xticks(fontsize=text_size_axis*.5)\n",
    "plt.yticks(fontsize=text_size_axis, rotation=90)\n",
    "plt.title('Distância média ao centro por comunidade', fontsize=text_size_standart)\n",
    "\n",
    "# Rotate the x-axis labels for better visibility\n",
    "plt.xticks(rotation=45)\n",
    "\n",
    "\n",
    "\n",
    "plt.legend(fontsize=text_size_standart)  # Adiciona a legenda\n",
    "plt.show()\n"
   ]
  },
  {
   "cell_type": "markdown",
   "metadata": {},
   "source": [
    "#### Visualização"
   ]
  },
  {
   "cell_type": "code",
   "execution_count": null,
   "metadata": {},
   "outputs": [],
   "source": [
    "colors = ['#' + ''.join(random.choices('0123456789ABCDEF', k=6)) for _ in range(len(comunidades))]\n",
    "\n",
    "for i, comunidade in enumerate(comunidades):\n",
    "    for node in comunidade:\n",
    "        grafo_twitter_conexo.nodes[node]['comunidade'] = i"
   ]
  },
  {
   "cell_type": "code",
   "execution_count": null,
   "metadata": {},
   "outputs": [],
   "source": [
    "nx.write_graphml_lxml(grafo_twitter_conexo, \"D:\\\\Documentos\\\\data_and_code\\\\all_data_lisbon\\\\grafo_twitter_conexo.graphml\")"
   ]
  },
  {
   "cell_type": "code",
   "execution_count": null,
   "metadata": {},
   "outputs": [],
   "source": [
    "pos = nx.nx_agraph.graphviz_layout(grafo_twitter_conexo, prog=\"dot\")"
   ]
  },
  {
   "cell_type": "markdown",
   "metadata": {},
   "source": [
    "### Metodologia K-Means"
   ]
  },
  {
   "cell_type": "markdown",
   "metadata": {},
   "source": [
    "#### Geração"
   ]
  },
  {
   "cell_type": "code",
   "execution_count": null,
   "metadata": {},
   "outputs": [],
   "source": [
    "# Get the attributes of each node\n",
    "attributes = nx.get_node_attributes(grafo_twitter_conexo, 'median_X')\n",
    "df = pd.DataFrame.from_dict(attributes, orient='index', columns=['median_X'])\n",
    "\n",
    "# Add additional attributes\n",
    "df['median_Y'] = nx.get_node_attributes(grafo_twitter_conexo, 'median_Y').values()\n",
    "df['community_louvain'] = nx.get_node_attributes(grafo_twitter_conexo, 'comunidade_louvain').values()\n",
    "# df['community_greedy'] = nx.get_node_attributes(grafo_twitter_conexo, 'comunidade_girvan_newman').values()\n",
    "\n",
    "# Print the dataframe\n",
    "print(df)\n"
   ]
  },
  {
   "cell_type": "code",
   "execution_count": null,
   "metadata": {},
   "outputs": [],
   "source": [
    "kmeans = KMeans(n_clusters=167, init='k-means++')\n",
    "df['comunidade_kMeans'] = kmeans.fit_predict(df[df.columns[0:2]])"
   ]
  },
  {
   "cell_type": "markdown",
   "metadata": {},
   "source": [
    "#### Visualização"
   ]
  },
  {
   "cell_type": "code",
   "execution_count": null,
   "metadata": {},
   "outputs": [],
   "source": [
    "estatisticas_dataframe = calculate_geostatistics(df=df, column='comunidade_kMeans')"
   ]
  },
  {
   "cell_type": "code",
   "execution_count": null,
   "metadata": {},
   "outputs": [],
   "source": [
    "myKeys = list(estatisticas_dataframe.keys())\n",
    "myKeys.sort()\n",
    "sorted_estatisticas_dataframe = {i: estatisticas_dataframe[i] for i in myKeys}"
   ]
  },
  {
   "cell_type": "code",
   "execution_count": null,
   "metadata": {},
   "outputs": [],
   "source": [
    "text_size_axis = 12\n",
    "text_size_standart = 16\n",
    "\n",
    "# Extract the keys and values from the 'estatisticas' dictionary\n",
    "x = [len(sorted_estatisticas_dataframe[key]['x_points']) for key in sorted_estatisticas_dataframe.keys()]\n",
    "y = [sorted_estatisticas_dataframe[key]['mean_distance_to_center'] for key in sorted_estatisticas_dataframe.keys()]\n",
    "\n",
    "# Plot the values in bars, y-axis in log\n",
    "plt.figure(figsize=(10, 5))\n",
    "plt.scatter(x, y)\n",
    "plt.yscale('log')\n",
    "plt.xlabel('Quantidade de nós por comunidade', fontsize=text_size_standart)\n",
    "plt.ylabel('Distância média ao centro em metros', fontsize=text_size_standart)\n",
    "plt.title('Dados por comunidade', fontsize=text_size_standart)\n",
    "plt.xticks(fontsize=text_size_axis)\n",
    "plt.yticks(fontsize=text_size_axis, rotation=90)\n",
    "plt.grid(axis='y', color='black')\n",
    "plt.show()"
   ]
  },
  {
   "cell_type": "code",
   "execution_count": null,
   "metadata": {},
   "outputs": [],
   "source": [
    "text_size_axis = 48\n",
    "text_size_standart = 52\n",
    "\n",
    "# Extract the mean and standard deviation from estatisticas\n",
    "means = [sorted_estatisticas_dataframe[key]['mean_distance_to_center'] for key in sorted_estatisticas_dataframe.keys()]\n",
    "stds = [sorted_estatisticas_dataframe[key]['standard_deviation'] for key in sorted_estatisticas_dataframe.keys()]\n",
    "\n",
    "# Create a list of community names\n",
    "community_names = [str(community) for community in sorted_estatisticas_dataframe]\n",
    "\n",
    "plt.figure(figsize=(100, 30))\n",
    "# Plot the mean with error bars representing the standard deviation\n",
    "plt.errorbar(community_names, means, yerr=stds, fmt='o', capsize=5, label='Média e Desvio Padrão', ecolor='red', elinewidth=2, capthick=2, markersize=10)\n",
    "\n",
    "# Set the labels and title\n",
    "plt.xlabel('Communidade', fontsize=text_size_standart)\n",
    "plt.ylabel('Distância média ao centro em metros', fontsize=text_size_standart)\n",
    "plt.xticks(fontsize=text_size_axis*.5)\n",
    "plt.yticks(fontsize=text_size_axis, rotation=90)\n",
    "plt.title('Distância média ao centro por comunidade', fontsize=text_size_standart)\n",
    "\n",
    "# Rotate the x-axis labels for better visibility\n",
    "plt.xticks(rotation=45)\n",
    "\n",
    "\n",
    "\n",
    "plt.legend(fontsize=text_size_standart)  # Adiciona a legenda\n",
    "plt.show()"
   ]
  },
  {
   "cell_type": "markdown",
   "metadata": {},
   "source": [
    "### Metodologia Affinity Propagation"
   ]
  },
  {
   "cell_type": "markdown",
   "metadata": {},
   "source": [
    "#### Geração"
   ]
  },
  {
   "cell_type": "code",
   "execution_count": null,
   "metadata": {},
   "outputs": [],
   "source": [
    "affinity = AffinityPropagation(preference=0.5)\n",
    "df['comunidade_affinity'] = affinity.fit_predict(df[df.columns[0:2]])"
   ]
  },
  {
   "cell_type": "code",
   "execution_count": null,
   "metadata": {},
   "outputs": [],
   "source": [
    "estatisticas_affinity = calculate_geostatistics(df=df, column='comunidade_affinity')"
   ]
  },
  {
   "cell_type": "code",
   "execution_count": null,
   "metadata": {},
   "outputs": [],
   "source": [
    "myKeys = list(estatisticas_affinity.keys())\n",
    "myKeys.sort()\n",
    "sorted_estatisticas_affinity = {i: estatisticas_affinity[i] for i in myKeys}"
   ]
  },
  {
   "cell_type": "markdown",
   "metadata": {},
   "source": [
    "#### Visualização"
   ]
  },
  {
   "cell_type": "code",
   "execution_count": null,
   "metadata": {},
   "outputs": [],
   "source": [
    "text_size_axis = 12\n",
    "text_size_standart = 16\n",
    "\n",
    "# Extract the keys and values from the 'estatisticas' dictionary\n",
    "x = [len(sorted_estatisticas_affinity[key]['x_points']) for key in sorted_estatisticas_affinity.keys()]\n",
    "y = [sorted_estatisticas_affinity[key]['mean_distance_to_center'] for key in sorted_estatisticas_affinity.keys()]\n",
    "\n",
    "# Plot the values in bars, y-axis in log\n",
    "plt.figure(figsize=(10, 5))\n",
    "plt.scatter(x, y)\n",
    "plt.yscale('log')\n",
    "plt.xlabel('Quantidade de nós por comunidade', fontsize=text_size_standart)\n",
    "plt.ylabel('Distância média ao centro em metros', fontsize=text_size_standart)\n",
    "plt.title('Dados por comunidade', fontsize=text_size_standart)\n",
    "plt.xticks(fontsize=text_size_axis)\n",
    "plt.yticks(fontsize=text_size_axis, rotation=90)\n",
    "plt.grid(axis='y', color='black')\n",
    "plt.show()"
   ]
  },
  {
   "cell_type": "code",
   "execution_count": null,
   "metadata": {},
   "outputs": [],
   "source": [
    "agglomerative = AgglomerativeClustering(n_clusters=167, linkage='complete')\n",
    "df['comunidade_aglo'] = agglomerative.fit_predict(df[df.columns[0:2]])"
   ]
  },
  {
   "cell_type": "code",
   "execution_count": null,
   "metadata": {},
   "outputs": [],
   "source": [
    "estatisticas_aglomerado = calculate_geostatistics(df=df, column='comunidade_aglo')"
   ]
  },
  {
   "cell_type": "code",
   "execution_count": null,
   "metadata": {},
   "outputs": [],
   "source": [
    "myKeys = list(estatisticas_aglomerado.keys())\n",
    "myKeys.sort()\n",
    "sorted_estatisticas_aglomerado = {i: estatisticas_aglomerado[i] for i in myKeys}"
   ]
  },
  {
   "cell_type": "code",
   "execution_count": null,
   "metadata": {},
   "outputs": [],
   "source": []
  },
  {
   "cell_type": "markdown",
   "metadata": {},
   "source": [
    "## Visualização Geral"
   ]
  },
  {
   "cell_type": "code",
   "execution_count": null,
   "metadata": {},
   "outputs": [],
   "source": [
    "text_size_axis = 12\n",
    "text_size_standart = 16\n",
    "\n",
    "fig, axs = plt.subplots(2, figsize=(15, 15))\n",
    "\n",
    "fig.suptitle('Comparação de algoritmos de agrupamento', fontsize=text_size_standart)\n",
    "\n",
    "\n",
    "\n",
    "x = [len(sorted_estatisticas_grafo[key]['x_points']) for key in sorted_estatisticas_grafo.keys()]\n",
    "y = [sorted_estatisticas_grafo[key]['mean_distance_to_center'] for key in sorted_estatisticas_grafo.keys()]\n",
    "\n",
    "x2 = [len(sorted_estatisticas_dataframe[key]['x_points']) for key in sorted_estatisticas_dataframe.keys()]\n",
    "y2 = [sorted_estatisticas_dataframe[key]['mean_distance_to_center'] for key in sorted_estatisticas_dataframe.keys()]\n",
    "\n",
    "# x2 = [len(sorted_estatisticas_aglomerado[key]['x_points']) for key in sorted_estatisticas_aglomerado.keys()]\n",
    "# y2 = [sorted_estatisticas_aglomerado[key]['mean_distance_to_center'] for key in sorted_estatisticas_aglomerado.keys()]\n",
    "\n",
    "# Primeiro gráfico\n",
    "axs[0].scatter(x, y)\n",
    "axs[0].set_xscale('log')\n",
    "axs[0].set_yscale('log')\n",
    "axs[0].set_xlabel('Quantidade de nós por comunidade', fontsize=text_size_standart)\n",
    "axs[0].set_ylabel('Distância média ao centro em metros\\nLouvain', fontsize=text_size_standart)\n",
    "axs[0].tick_params(axis='x', labelsize=text_size_axis)\n",
    "axs[0].tick_params(axis='y', labelsize=text_size_axis, rotation=90)\n",
    "axs[0].grid(axis='y', color='black')\n",
    "\n",
    "# Segundo gráfico\n",
    "axs[1].scatter(x2, y2)\n",
    "axs[1].set_xscale('log')\n",
    "axs[1].set_yscale('log')\n",
    "axs[1].set_xlabel('Quantidade de nós por comunidade', fontsize=text_size_standart)\n",
    "axs[1].set_ylabel('Distância média ao centro em metros\\nK Means', fontsize=text_size_standart)\n",
    "# axs[1].set_title('Dados por comunidade', fontsize=text_size_standart)\n",
    "axs[1].tick_params(axis='x', labelsize=text_size_axis)\n",
    "axs[1].tick_params(axis='y', labelsize=text_size_axis, rotation=90)\n",
    "axs[1].grid(axis='y', color='black')\n",
    "axs[1].set_ylim(axs[0].get_ylim())\n",
    "\n",
    "# Terceiro gráfico\n",
    "# axs[2].scatter(x2, y2)\n",
    "# axs[2].set_xscale('log')\n",
    "# axs[2].set_yscale('log')\n",
    "# axs[2].set_xlabel('Quantidade de nós por comunidade', fontsize=text_size_standart)\n",
    "# axs[2].set_ylabel('Distância média ao centro em metros\\nAglomerativo (Completo)', fontsize=text_size_standart)\n",
    "# # axs[2].set_title('Dados por comunidade', fontsize=text_size_standart)\n",
    "# axs[2].tick_params(axis='x', labelsize=text_size_axis)\n",
    "# axs[2].tick_params(axis='y', labelsize=text_size_axis, rotation=90)\n",
    "# axs[2].grid(axis='y', color='black')\n",
    "# axs[2].set_ylim(axs[0].get_ylim())\n",
    "\n",
    "plt.tight_layout()\n",
    "plt.show()"
   ]
  },
  {
   "cell_type": "code",
   "execution_count": null,
   "metadata": {},
   "outputs": [],
   "source": [
    "fig2, axs2 = plt.subplots(2, figsize=(100, 100))\n",
    "\n",
    "text_size_axis = 48\n",
    "text_size_standart = 52\n",
    "\n",
    "# Extract the mean and standard deviation from estatisticas\n",
    "means_louvain = [sorted_estatisticas_grafo[key]['mean_distance_to_center'] for key in sorted_estatisticas_grafo.keys()]\n",
    "stds_louvain = [sorted_estatisticas_grafo[key]['standard_deviation'] for key in sorted_estatisticas_grafo.keys()]\n",
    "\n",
    "# Create a list of community names\n",
    "community_names_louvain = [str(community) for community in sorted_estatisticas_grafo]\n",
    "\n",
    "means_k_means = [sorted_estatisticas_dataframe[key]['mean_distance_to_center'] for key in sorted_estatisticas_dataframe.keys()]\n",
    "stds_k_means = [sorted_estatisticas_dataframe[key]['standard_deviation'] for key in sorted_estatisticas_dataframe.keys()]\n",
    "\n",
    "# Create a list of community names\n",
    "community_names_k_means = [str(community) for community in sorted_estatisticas_dataframe]\n",
    "\n",
    "labels_louvain = [label if i % 5 == 0 else '' for i, label in enumerate(community_names_louvain)]\n",
    "labels_k_means = [label if i % 5 == 0 else '' for i, label in enumerate(community_names_k_means)]\n",
    "\n",
    "\n",
    "axs2[0].errorbar(community_names_louvain, means_louvain, yerr=stds_louvain, fmt='o', capsize=5, label='Média e Desvio Padrão', ecolor='red', elinewidth=2, capthick=2, markersize=15)\n",
    "\n",
    "# Set the labels and title\n",
    "# axs2[0].set_xlabel('Communidade', fontsize=text_size_standart)\n",
    "axs2[0].set_ylabel('Distância média ao centro em metros', fontsize=text_size_standart)\n",
    "axs2[0].tick_params(axis='x', labelsize=text_size_axis, rotation=45)\n",
    "axs2[0].tick_params(axis='y', labelsize=text_size_axis, rotation=90)\n",
    "axs2[0].set_title('Distância média ao centro por comunidade', fontsize=text_size_standart)\n",
    "axs2[0].set_xticks(range(len(community_names_louvain)))\n",
    "axs2[0].set_xticklabels(labels_louvain, rotation=90)\n",
    "axs2[0].grid(axis='y', color='black')\n",
    "axs2[0].legend(fontsize=text_size_standart)\n",
    "\n",
    "# Plot the mean with error bars representing the standard deviation\n",
    "axs2[1].errorbar(community_names_k_means, means_k_means, yerr=stds_k_means, fmt='o', capsize=5, label='Média e Desvio Padrão', ecolor='red', elinewidth=2, capthick=2, markersize=15)\n",
    "\n",
    "axs2[1].set_xlabel('Communidade', fontsize=text_size_standart)\n",
    "axs2[1].set_ylabel('Distância média ao centro em metros', fontsize=text_size_standart)\n",
    "axs2[1].tick_params(axis='x', labelsize=text_size_axis, rotation=45)\n",
    "axs2[1].tick_params(axis='y', labelsize=text_size_axis, rotation=90)\n",
    "axs2[1].set_xticks(range(len(community_names_k_means)))\n",
    "axs2[1].set_xticklabels(labels_k_means, rotation=90)\n",
    "# axs2[1].set_title('Distância média ao centro por comunidade', fontsize=text_size_standart)\n",
    "axs2[1].grid(axis='y', color='black')\n",
    "axs2[1].legend(fontsize=text_size_standart)\n",
    "axs2[1].legend(fontsize=text_size_standart)  # Adiciona a legenda\n",
    "\n",
    "plt.tight_layout()\n",
    "plt.show()"
   ]
  },
  {
   "cell_type": "code",
   "execution_count": null,
   "metadata": {},
   "outputs": [],
   "source": [
    "df.to_csv('E://df.csv')"
   ]
  },
  {
   "cell_type": "code",
   "execution_count": null,
   "metadata": {},
   "outputs": [],
   "source": [
    "text_size_axis = 12\n",
    "text_size_standart = 16\n",
    "\n",
    "# Extract the keys and values from the 'estatisticas' dictionary\n",
    "x = [len(estatisticas_aglomerado[key]['x_points']) for key in estatisticas_aglomerado.keys()]\n",
    "y = [estatisticas_aglomerado[key]['mean_distance_to_center'] for key in estatisticas_aglomerado.keys()]\n",
    "\n",
    "# Plot the values in bars, y-axis in log\n",
    "plt.figure(figsize=(10, 5))\n",
    "plt.scatter(x, y)\n",
    "plt.yscale('log')\n",
    "plt.xlabel('Quantidade de nós por comunidade', fontsize=text_size_standart)\n",
    "plt.ylabel('Distância média ao centro em metros', fontsize=text_size_standart)\n",
    "plt.title('Dados por comunidade', fontsize=text_size_standart)\n",
    "plt.xticks(fontsize=text_size_axis)\n",
    "plt.yticks(fontsize=text_size_axis, rotation=90)\n",
    "plt.grid(axis='y', color='black')\n",
    "plt.show()"
   ]
  },
  {
   "cell_type": "markdown",
   "metadata": {},
   "source": [
    "# Fim"
   ]
  },
  {
   "cell_type": "code",
   "execution_count": null,
   "metadata": {},
   "outputs": [],
   "source": [
    "max_edge_secao = max(grafo_fluxo_secao.edges(data=True), key=lambda x: x[2].get('weight', 0))\n",
    "max_edge_freguesia = max(grafo_fluxo_freguesia.edges(data=True), key=lambda x: x[2].get('weight', 0))\n",
    "max_edge_municipio = max(grafo_fluxo_municipio.edges(data=True), key=lambda x: x[2].get('weight', 0))\n",
    "\n",
    "print(f\"Fluxo máximo entre seções: {max_edge_secao[0]} -> {max_edge_secao[1]} com {max_edge_secao[2]['weight']} tweets\")\n",
    "print(f\"Fluxo máximo entre freguesias: {max_edge_freguesia[0]} -> {max_edge_freguesia[1]} com {max_edge_freguesia[2]['weight']} tweets\")\n",
    "print(f\"Fluxo máximo entre municípios: {max_edge_municipio[0]} -> {max_edge_municipio[1]} com {max_edge_municipio[2]['weight']} tweets\")\n",
    "\n"
   ]
  }
 ],
 "metadata": {
  "kernelspec": {
   "display_name": "Python 3",
   "language": "python",
   "name": "python3"
  },
  "language_info": {
   "codemirror_mode": {
    "name": "ipython",
    "version": 3
   },
   "file_extension": ".py",
   "mimetype": "text/x-python",
   "name": "python",
   "nbconvert_exporter": "python",
   "pygments_lexer": "ipython3",
   "version": "3.12.0"
  }
 },
 "nbformat": 4,
 "nbformat_minor": 2
}
