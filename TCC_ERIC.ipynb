{
 "cells": [
  {
   "cell_type": "markdown",
   "metadata": {},
   "source": [
    "# METODOLOGIA BASEADA EM CIÊNCIA DE REDES PARA ANÁLISE DE COMUNIDADES EM REDES SOCIAIS COM GEOLOCALIZAÇÃO\n",
    "\n",
    "## Autor: ERIC LEAL\n",
    "\n",
    "### Detalhes do Projeto\n",
    "Em desenvolvimento...\n",
    "\n"
   ]
  },
  {
   "cell_type": "markdown",
   "metadata": {},
   "source": [
    "## Importando as bibliotecas"
   ]
  },
  {
   "cell_type": "code",
   "execution_count": 1,
   "metadata": {},
   "outputs": [],
   "source": [
    "import seaborn as sns; sns.set_theme()\n",
    "import GeosocialAlgorithms as ga\n",
    "import matplotlib.pyplot as plt\n",
    "import geopandas as gpd\n",
    "import networkx as nx\n",
    "import pandas as pd\n",
    "import numpy as np\n",
    "import random\n",
    "import math\n",
    "import json\n",
    "import time\n",
    "import utm\n",
    "import csv\n",
    "import os\n",
    "\n",
    "from sklearn.metrics.cluster import adjusted_mutual_info_score as ami\n",
    "from sklearn.cluster import AgglomerativeClustering\n",
    "from sklearn.cluster import AffinityPropagation\n",
    "from tqdm.contrib.concurrent import thread_map\n",
    "from matplotlib.colors import LogNorm\n",
    "from tqdm import tqdm as tqdmBasic\n",
    "from sklearn.cluster import KMeans\n",
    "from pandas import json_normalize\n",
    "from shapely import geometry\n",
    "\n",
    "# import tweepy\n",
    "# from dotenv import load_dotenv"
   ]
  },
  {
   "cell_type": "markdown",
   "metadata": {},
   "source": [
    "## Configurando a API"
   ]
  },
  {
   "cell_type": "code",
   "execution_count": null,
   "metadata": {},
   "outputs": [],
   "source": [
    "# Load the .env file\n",
    "# load_dotenv()\n",
    "\n",
    "# # Get the keys from the .env file\n",
    "# consumer_key = os.environ.get('TWITTER_API_KEY')\n",
    "# consumer_secret = os.environ.get('TWITTER_API_KEY_SECRET')\n",
    "# access_token = os.environ.get('TWITTER_ACCESS_TOKEN')\n",
    "# access_token_secret = os.environ.get('TWITTER_ACCESS_TOKEN_SECRET')\n",
    "# bearer_token = os.environ.get('TWITTER_BEARER_TOKEN')\n",
    "\n",
    "# # Authenticate with the twitter API\n",
    "# auth = tweepy.OAuthHandler(consumer_key, consumer_secret)\n",
    "# auth.set_access_token(access_token, access_token_secret)\n",
    "\n",
    "# # Create the API object\n",
    "# api = tweepy.API(auth, wait_on_rate_limit=True)"
   ]
  },
  {
   "cell_type": "markdown",
   "metadata": {},
   "source": [
    "## Carregando dados caso existam"
   ]
  },
  {
   "cell_type": "code",
   "execution_count": null,
   "metadata": {},
   "outputs": [],
   "source": [
    "# Dicionario a ser preenchido com chaves sendo o author_id e os valores sendo o username\n",
    "if os.path.exists(r'E://Dict_Author_Id_to_Username.json'):\n",
    "    with open(r'E://Dict_Author_Id_to_Username.json', 'r') as fp:\n",
    "        author_id_to_username = json.load(fp)\n",
    "        print(f\"Foram carregadas {len(author_id_to_username)} chaves do arquivo JSON\")\n",
    "else:\n",
    "    author_id_to_username = {}"
   ]
  },
  {
   "cell_type": "code",
   "execution_count": null,
   "metadata": {},
   "outputs": [],
   "source": [
    "df_mean = pd.read_csv(r\"E:/DataFrameUsernameMeansMedians.csv\", sep=\";\", header=0)\n",
    "df_mean.head()"
   ]
  },
  {
   "cell_type": "code",
   "execution_count": null,
   "metadata": {},
   "outputs": [],
   "source": [
    "dfTopAuthorsProjected = pd.read_csv(\"E://TopAuthorsProjected.csv\")"
   ]
  },
  {
   "cell_type": "code",
   "execution_count": null,
   "metadata": {},
   "outputs": [],
   "source": [
    "with open(r'E:/dictMentions_locations.json', 'r') as f:\n",
    "    dictMentions = json.load(f)"
   ]
  },
  {
   "cell_type": "code",
   "execution_count": null,
   "metadata": {},
   "outputs": [],
   "source": [
    "grafo_twitter = nx.read_graphml(\"D:\\\\Documentos\\\\data_and_code\\\\all_data_lisbon\\\\grafo_twitter.graphml\")\n",
    "grafo_twitter_conexo = nx.read_graphml(\"D:\\\\Documentos\\\\data_and_code\\\\all_data_lisbon\\\\grafo_twitter_conexo.graphml\")\n",
    "\n",
    "grafo_fluxo_secao = nx.read_graphml(\"D:\\\\Documentos\\\\data_and_code\\\\all_data_lisbon\\\\grafo_fluxo_secao.graphml\")\n",
    "grafo_fluxo_freguesia = nx.read_graphml(\"D:\\\\Documentos\\\\data_and_code\\\\all_data_lisbon\\\\grafo_fluxo_freguesia.graphml\")\n",
    "grafo_fluxo_municipio = nx.read_graphml(\"D:\\\\Documentos\\\\data_and_code\\\\all_data_lisbon\\\\grafo_fluxo_municipio.graphml\")\n",
    "\n",
    "grafo_regioes_secao = nx.read_graphml(\"D:\\\\Documentos\\\\data_and_code\\\\all_data_lisbon\\\\grafo_regioes_secao.graphml\")  \n",
    "grafo_regioes_freguesia = nx.read_graphml(\"D:\\\\Documentos\\\\data_and_code\\\\all_data_lisbon\\\\grafo_regioes_freguesia.graphml\")\n",
    "grafo_regioes_municipio = nx.read_graphml(\"D:\\\\Documentos\\\\data_and_code\\\\all_data_lisbon\\\\grafo_regioes_municipio.graphml\")"
   ]
  },
  {
   "cell_type": "code",
   "execution_count": null,
   "metadata": {},
   "outputs": [],
   "source": [
    "grafo_twitter.number_of_nodes(), grafo_twitter.number_of_edges()"
   ]
  },
  {
   "cell_type": "code",
   "execution_count": null,
   "metadata": {},
   "outputs": [],
   "source": [
    "gdf_wgs84_secao = gpd.read_file(r\"C:\\Users\\Cliente\\OneDrive\\UNIRIO\\TCC\\GPK\\Seccao_Area_de_Interesse.shp\")\n",
    "gdf_wgs84_freguesia = gpd.read_file(r\"C:\\Users\\Cliente\\OneDrive\\UNIRIO\\TCC\\GPK\\Freguesia_Area_de_Interesse.shp\")\n",
    "gdf_wgs84_municipio = gpd.read_file(r\"C:\\Users\\Cliente\\OneDrive\\UNIRIO\\TCC\\GPK\\Municipio_Area_de_Interesse.shp\")\n",
    "\n",
    "crs = \"EPSG:4326\"\n",
    "\n",
    "gdf_wgs84_secao = gdf_wgs84_secao.to_crs(crs)\n",
    "gdf_wgs84_freguesia = gdf_wgs84_freguesia.to_crs(crs)\n",
    "gdf_wgs84_municipio = gdf_wgs84_municipio.to_crs(crs)"
   ]
  },
  {
   "cell_type": "code",
   "execution_count": null,
   "metadata": {},
   "outputs": [],
   "source": [
    "gdf_users = gpd.read_file(r\"E:\\Usernames_Com_Coordenadas_Localidade.csv\")\n",
    "gdf_users['geometry'] = gdf_users.apply(lambda x: geometry.Point(x['median_lon'], x['median_lat']), axis=1)"
   ]
  },
  {
   "cell_type": "code",
   "execution_count": 2,
   "metadata": {},
   "outputs": [],
   "source": [
    "grafo_twitter_com_coordenadas = nx.read_graphml(\"D:\\\\Documentos\\\\data_and_code\\\\all_data_lisbon\\\\grafo_twitter_com_coordenadas.graphml\")"
   ]
  },
  {
   "cell_type": "markdown",
   "metadata": {},
   "source": [
    "## Carregando métodos"
   ]
  },
  {
   "cell_type": "code",
   "execution_count": 41,
   "metadata": {},
   "outputs": [],
   "source": [
    "def community_layout(g, partition):\n",
    "    \"\"\"\n",
    "    Compute the layout for a modular graph.\n",
    "\n",
    "\n",
    "    Arguments:\n",
    "    ----------\n",
    "    g -- networkx.Graph or networkx.DiGraph instance\n",
    "        graph to plot\n",
    "\n",
    "    partition -- dict mapping int node -> int community\n",
    "        graph partitions\n",
    "\n",
    "\n",
    "    Returns:\n",
    "    --------\n",
    "    pos -- dict mapping int node -> (float x, float y)\n",
    "        node positions\n",
    "\n",
    "    \"\"\"\n",
    "\n",
    "    pos_communities = _position_communities(g, partition, scale=3.)\n",
    "\n",
    "    pos_nodes = _position_nodes(g, partition, scale=1.)\n",
    "\n",
    "    # combine positions\n",
    "    pos = dict()\n",
    "    for node in g.nodes():\n",
    "        pos[node] = pos_communities[node] + pos_nodes[node]\n",
    "\n",
    "    return pos\n",
    "\n",
    "def _position_communities(g, partition, **kwargs):\n",
    "\n",
    "    # create a weighted graph, in which each node corresponds to a community,\n",
    "    # and each edge weight to the number of edges between communities\n",
    "    between_community_edges = _find_between_community_edges(g, partition)\n",
    "\n",
    "    communities = set(partition.values())\n",
    "    hypergraph = nx.DiGraph()\n",
    "    hypergraph.add_nodes_from(communities)\n",
    "    for (ci, cj), edges in between_community_edges.items():\n",
    "        hypergraph.add_edge(ci, cj, weight=len(edges))\n",
    "\n",
    "    # find layout for communities\n",
    "    pos_communities = nx.spring_layout(hypergraph, **kwargs)\n",
    "\n",
    "    # set node positions to position of community\n",
    "    pos = dict()\n",
    "    for node, community in partition.items():\n",
    "        pos[node] = pos_communities[community]\n",
    "\n",
    "    return pos\n",
    "\n",
    "def _find_between_community_edges(g, partition):\n",
    "\n",
    "    edges = dict()\n",
    "\n",
    "    for (ni, nj) in g.edges():\n",
    "        ci = partition[ni]\n",
    "        cj = partition[nj]\n",
    "\n",
    "        if ci != cj:\n",
    "            try:\n",
    "                edges[(ci, cj)] += [(ni, nj)]\n",
    "            except KeyError:\n",
    "                edges[(ci, cj)] = [(ni, nj)]\n",
    "\n",
    "    return edges\n",
    "\n",
    "def _position_nodes(g, partition, **kwargs):\n",
    "    \"\"\"\n",
    "    Positions nodes within communities.\n",
    "    \"\"\"\n",
    "\n",
    "    communities = dict()\n",
    "    for node, community in partition.items():\n",
    "        try:\n",
    "            communities[community] += [node]\n",
    "        except KeyError:\n",
    "            communities[community] = [node]\n",
    "\n",
    "    pos = dict()\n",
    "    for ci, nodes in communities.items():\n",
    "        subgraph = g.subgraph(nodes)\n",
    "        pos_subgraph = nx.spring_layout(subgraph, **kwargs)\n",
    "        pos.update(pos_subgraph)\n",
    "\n",
    "    return pos"
   ]
  },
  {
   "cell_type": "code",
   "execution_count": 42,
   "metadata": {},
   "outputs": [],
   "source": [
    "def load_jsonl(input_path) -> list:\n",
    "    \"\"\"\n",
    "    Read list of objects from a JSON lines file.\n",
    "    \"\"\"\n",
    "    data = []\n",
    "    with open(input_path, 'r', encoding='utf-8') as f:\n",
    "        for line in f:\n",
    "            data.append(json.loads(line.rstrip('\\n|\\r')))\n",
    "    print('Loaded {} records from {}'.format(len(data), input_path))\n",
    "    return data"
   ]
  },
  {
   "cell_type": "code",
   "execution_count": 43,
   "metadata": {},
   "outputs": [],
   "source": [
    "def dataframe_standartization(data_frame: pd.DataFrame, columns: list = []) -> pd.DataFrame:\n",
    "    data_frame.drop(columns=columns, inplace=True)\n",
    "    data_frame = data_frame.fillna(0)\n",
    "    \n",
    "    dictCoordByUser = {}\n",
    "\n",
    "    for index, row in tqdmBasic(data_frame.iterrows(), total=data_frame.shape[0]):\n",
    "        if row['username'] not in dictCoordByUser:\n",
    "            dictCoordByUser[row['username']] = {\n",
    "                'lat': [],\n",
    "                'lon': []\n",
    "            }        \n",
    "            \n",
    "        dictCoordByUser[row['username']]['lat'].append(row['lat'])\n",
    "        dictCoordByUser[row['username']]['lon'].append(row['lon'])\n",
    "        \n",
    "    df_mean = pd.DataFrame(columns=[\"username\", \"mean_lat\", \"mean_lon\", \"median_lat\", \"median_lon\"])\n",
    "\n",
    "    for key in tqdmBasic(dictCoordByUser.keys()):\n",
    "        df_mean = df_mean._append({\n",
    "            \"username\": key,\n",
    "            \"mean_lat\": np.mean(dictCoordByUser[key]['lat']),\n",
    "            \"mean_lon\": np.mean(dictCoordByUser[key]['lon']),\n",
    "            \"median_lat\": np.median(dictCoordByUser[key]['lat']),\n",
    "            \"median_lon\": np.median(dictCoordByUser[key]['lon'])\n",
    "        }, ignore_index=True)\n",
    "        \n",
    "    return df_mean"
   ]
  },
  {
   "cell_type": "code",
   "execution_count": 44,
   "metadata": {},
   "outputs": [],
   "source": [
    "def gera_dict_mentions_by_user(data_frame: pd.DataFrame, data_frame2:pd.DataFrame = None,  mentions_unicas = True) -> dict:\n",
    "    if data_frame2 is not None:\n",
    "        mentions_usuario = {}\n",
    "        \n",
    "        for index, row in tqdmBasic(data_frame2.iterrows(), total=data_frame2.shape[0]):\n",
    "            if row['username'] not in mentions_usuario:\n",
    "                mentions_usuario[row['username']] = [row_base[0]['username'] for row_base in data_frame[data_frame['username'] == row['username']]['entities_mentions'].tolist() \n",
    "                                                     if row_base is not None]    \n",
    "    else:\n",
    "        data_editado = data_frame['entities_mentions']\n",
    "        data_editado.dropna(inplace=True)\n",
    "        # dataEditado.reset_index(drop=True, inplace=True)\n",
    "        data_editado = data_editado.to_frame()\n",
    "        \n",
    "        mentions_usuario = {}\n",
    "\n",
    "        # Percorrendo teste1 e adicionando os usernames no dicionário usando o id do usuário como chave\n",
    "            \n",
    "        for mention in tqdmBasic(data_editado.itertuples(), total=data_editado.shape[0]):\n",
    "            usuarios_mencionados = []\n",
    "            \n",
    "            coluna = 'author_id' #'username' if data_frame['username'].at[mention.Index] != '' else 'author_id'\n",
    "            \n",
    "            if data_frame[coluna].at[mention.Index] not in mentions_usuario:\n",
    "                mentions_usuario[data_frame[coluna].at[mention.Index]] = []\n",
    "                \n",
    "            for usuario in mention[1]:\n",
    "                usuarios_mencionados.append(usuario['username'])\n",
    "                mentions_usuario[data_frame[coluna].at[mention.Index]].extend(usuarios_mencionados)\n",
    "        \n",
    "    if mentions_unicas:\n",
    "        mentions_usuario = {k: list(dict.fromkeys(v)) for k, target in mentions_usuario.items()}\n",
    "        \n",
    "    return mentions_usuario"
   ]
  },
  {
   "cell_type": "code",
   "execution_count": 45,
   "metadata": {},
   "outputs": [],
   "source": [
    "def geraDictLinkTweets(data_frame) -> list:\n",
    "    dataEditado = data_frame['entities_urls']\n",
    "    dataEditado.dropna(inplace=True)\n",
    "    # dataEditado.reset_index(drop=True, inplace=True)\n",
    "    dataEditado = dataEditado.to_frame()\n",
    "    \n",
    "    linksTweets = {}\n",
    "\n",
    "    # Percorrendo teste1 e adicionando os usernames no dicionário usando o id do usuário como chave\n",
    "        \n",
    "    contador = 1\n",
    "    for link in dataEditado.itertuples():\n",
    "        print(f\"Link {contador} de {dataEditado.shape[0]}\")\n",
    "        \n",
    "        linksTweet = []\n",
    "        if data_frame['author_id'].at[link.Index] not in linksTweets:\n",
    "            linksTweets[data_frame['author_id'].at[link.Index]] = []\n",
    "            \n",
    "        for linkTweet in link[1]:\n",
    "            linksTweet.append(linkTweet['expanded_url'])\n",
    "            linksTweets[data_frame['author_id'].at[link.Index]].extend(linksTweet)\n",
    "        contador += 1\n",
    "        \n",
    "    return linksTweets"
   ]
  },
  {
   "cell_type": "code",
   "execution_count": 46,
   "metadata": {},
   "outputs": [],
   "source": [
    "def returnMediaDictListas(dict : dict) -> float:\n",
    "    soma = 0\n",
    "    for key in dict:\n",
    "        soma += len(dict[key])\n",
    "    return soma/len(dict)"
   ]
  },
  {
   "cell_type": "code",
   "execution_count": 47,
   "metadata": {},
   "outputs": [],
   "source": [
    "def get_username(author_id: str):\n",
    "    \"\"\"Recupera o username do usuário a partir do author_id e atualiza o dicionário author_id_to_username\n",
    "\n",
    "    Args:\n",
    "        author_id: O id do usuário \n",
    "    \"\"\"\n",
    "    if author_id in author_id_to_username.keys():\n",
    "        return\n",
    "    \n",
    "    author_id_to_username[author_id] = ''\n",
    "    try:\n",
    "        user = api.get_user(user_id=author_id)  \n",
    "        author_id_to_username[author_id] = user.screen_name\n",
    "    except:\n",
    "        pass"
   ]
  },
  {
   "cell_type": "code",
   "execution_count": 48,
   "metadata": {},
   "outputs": [],
   "source": [
    "def returnDataFrameWithUsernames(dataFrame : pd.DataFrame) -> pd.DataFrame:      \n",
    "    dataFrame['username'] = ''\n",
    "    \n",
    "    thread_map(get_username, [id for id in dataFrame['author_id']], max_workers=16, total=dataFrame.shape[0])\n",
    "        \n",
    "    for index, row in dataFrame.iterrows():\n",
    "        dataFrame['username'].at[index] = author_id_to_username[row['author_id']]\n",
    "    \n",
    "    return dataFrame"
   ]
  },
  {
   "cell_type": "code",
   "execution_count": 49,
   "metadata": {},
   "outputs": [],
   "source": [
    "def degree_histogram_directed(G, in_degree=False, out_degree=False):\n",
    "    \"\"\"Return a list of the frequency of each degree value.\n",
    "\n",
    "    Parameters\n",
    "    ----------\n",
    "    G : Networkx graph\n",
    "       A graph\n",
    "    in_degree : bool\n",
    "    out_degree : bool\n",
    "\n",
    "    Returns\n",
    "    -------\n",
    "    hist : list\n",
    "       A list of frequencies of degrees.\n",
    "       The degree values are the index in the list.\n",
    "\n",
    "    Notes\n",
    "    -----\n",
    "    Note: the bins are width one, hence len(list) can be large\n",
    "    (Order(number_of_edges))\n",
    "    \"\"\"\n",
    "    nodes = G.nodes()\n",
    "    if in_degree:\n",
    "        in_degree = dict(G.in_degree())\n",
    "        degseq=[in_degree.get(k,0) for k in nodes]\n",
    "    elif out_degree:\n",
    "        out_degree = dict(G.out_degree())\n",
    "        degseq=[out_degree.get(k,0) for k in nodes]\n",
    "    else:\n",
    "        degseq=[target for k, target in G.degree()]\n",
    "    dmax=max(degseq)+1\n",
    "    freq= [ 0 for d in range(dmax) ]\n",
    "    for d in degseq:\n",
    "        freq[d] += 1\n",
    "    return freq"
   ]
  },
  {
   "cell_type": "code",
   "execution_count": 50,
   "metadata": {},
   "outputs": [],
   "source": [
    "def processRawData(data : dict | list[dict]) -> pd.DataFrame:\n",
    "    data_frame = json_normalize(data,record_path = ['data'], sep = '_', errors ='ignore')\n",
    "        \n",
    "    data_frame['lat'] = data_frame['geo_coordinates_coordinates'].str.get(1)\n",
    "    data_frame['lon'] = data_frame['geo_coordinates_coordinates'].str.get(0)\n",
    "\n",
    "    #cleaning fields that will not be used\n",
    "    try:\n",
    "        # del data_frame['entities_mentions']\n",
    "        del data_frame['context_annotations']\n",
    "        # del data_frame['entities_urls']\n",
    "        # del data_frame['entities_cashtags']\n",
    "        del data_frame['withheld_copyright']\n",
    "        del data_frame['withheld_country_codes']\n",
    "        del data_frame['withheld_scope']\n",
    "    except:\n",
    "        pass\n",
    "    \n",
    "    return data_frame"
   ]
  },
  {
   "cell_type": "code",
   "execution_count": 51,
   "metadata": {},
   "outputs": [],
   "source": [
    "def process_file(file: str) -> pd.DataFrame:\n",
    "    \"\"\"Processa um arquivo JSONL e retorna um dataframe\n",
    "\n",
    "    Args:\n",
    "        file (str): Caminho do arquivo JSONL\n",
    "\n",
    "    Returns:\n",
    "        pd.DataFrame: Dataframe com os dados do arquivo JSONL\n",
    "    \"\"\"\n",
    "    print(f\"Processando arquivo {file}\")\n",
    "    df = json_normalize(load_jsonl(file), sep='_', errors='ignore')\n",
    "    return df"
   ]
  },
  {
   "cell_type": "code",
   "execution_count": 52,
   "metadata": {},
   "outputs": [],
   "source": [
    "def convert_to_utm(df: pd.DataFrame, columnLat: str = \"latitude\", columnLon: str = \"longitude\", outColumnX: str = \"x\", outColumnY: str = \"y\") -> pd.DataFrame:\n",
    "  \"\"\"Converte as coordenadas de latitude e longitude para UTM zona 29.\n",
    "\n",
    "  Args:\n",
    "      df (pd.DataFrame): Dataframe com as coordenadas de latitude e longitude.\n",
    "      columnLat (str, optional): Coluna que contém a latitude. Defaults to \"latitude\".\n",
    "      columnLon (str, optional): Coluna que contém a longitude. Defaults to \"longitude\".\n",
    "      outColumnX (str, optional): Coluna saída em UTM para o eixo X. Defaults to \"x\".\n",
    "      outColumnY (str, optional): Coluna saída em UTM para o eixo Y. Defaults to \"y\".\n",
    "\n",
    "  Returns:\n",
    "      pd.DataFrame: Dataframe atualizado com as coordendas em UTM.\n",
    "  \"\"\"\n",
    "  # Obtém as coordenadas de latitude e longitude.\n",
    "\n",
    "  lat = df[columnLat].values\n",
    "  lon = df[columnLon].values\n",
    "\n",
    "  # Converte para UTM.\n",
    "\n",
    "  easting, northing, zone_number, zone_letter = utm.from_latlon(lat, lon)\n",
    "\n",
    "  # Adiciona as colunas `mean_X` e `mean_Y` ao dataframe.\n",
    "\n",
    "  df[outColumnX] = easting\n",
    "  df[outColumnY] = northing\n",
    "\n",
    "  return df"
   ]
  },
  {
   "cell_type": "code",
   "execution_count": 53,
   "metadata": {},
   "outputs": [],
   "source": [
    "def get_expanded_urls(row):\n",
    "    \"\"\"\n",
    "    Retorna uma lista com as URLs expandidas do tweet.\n",
    "\n",
    "    Args:\n",
    "        row: Uma linha do dataframe.\n",
    "\n",
    "    Returns:\n",
    "        Uma lista com as URLs expandidas do tweet.\n",
    "    \"\"\"\n",
    "\n",
    "    if row['entities_urls']:\n",
    "        expanded_urls = [url['expanded_url'] for url in row['entities_urls']]\n",
    "    else:\n",
    "        expanded_urls = []\n",
    "    return expanded_urls"
   ]
  },
  {
   "cell_type": "code",
   "execution_count": 54,
   "metadata": {},
   "outputs": [],
   "source": [
    "def associateNodes(row):\n",
    "    G = nx.DiGraph()\n",
    "    vertex = row['username'] if row['username'] != '' else row['author_id']\n",
    "    \n",
    "    if vertex not in G.nodes():\n",
    "        G.add_node(vertex)\n",
    "        \n",
    "    if row['entities_mentions']:\n",
    "        for mention in row['entities_mentions']:\n",
    "            mention_username = mention['username']\n",
    "            if mention_username not in G.nodes():\n",
    "                G.add_node(mention_username)\n",
    "            G.add_edge(vertex, mention_username)\n",
    "    \n",
    "    return G"
   ]
  },
  {
   "cell_type": "code",
   "execution_count": 55,
   "metadata": {},
   "outputs": [],
   "source": [
    "def calculate_distance_geographic(lat1, lon1, lat2, lon2):\n",
    "    x1, y1, _, _ = utm.from_latlon(lat1, lon1)\n",
    "    x2, y2, _, _ = utm.from_latlon(lat2, lon2)\n",
    "\n",
    "    return math.sqrt((x2 - x1)**2 + (y2 - y1)**2)"
   ]
  },
  {
   "cell_type": "code",
   "execution_count": 56,
   "metadata": {},
   "outputs": [],
   "source": [
    "def calculateDistance(xP1: float, yP1: float, xP2: float, yP2: float):\n",
    "    P1 = [xP1, yP1]\n",
    "    P2 = [xP2, yP2]\n",
    "    \n",
    "    return math.dist(P1, P2)"
   ]
  },
  {
   "cell_type": "code",
   "execution_count": 57,
   "metadata": {},
   "outputs": [],
   "source": [
    "def calculateDistances(graph, generalizationLimit = None):\n",
    "  nodes_with_median = [node for node in graph.nodes if \"median_X\" in graph.nodes[node]]\n",
    "  \n",
    "  print(f\"Existem {len(nodes_with_median)} nós com mediana.\")\n",
    "  \n",
    "  distances = {}\n",
    "  \n",
    "  for node in tqdmBasic(nodes_with_median):\n",
    "    for other_node in nodes_with_median:\n",
    "        if node == other_node:\n",
    "            continue\n",
    "        \n",
    "        # print(f\"Calculando distância entre {node} e {other_node}\")\n",
    "        \n",
    "        distance = calculateDistance(\n",
    "            graph.nodes[node][\"median_X\"], graph.nodes[node][\"median_Y\"], graph.nodes[other_node][\"median_X\"], graph.nodes[other_node][\"median_Y\"]\n",
    "        )\n",
    "        if generalizationLimit is not None:\n",
    "            generaralized_distance = int(distance//generalizationLimit)\n",
    "            if generaralized_distance not in distances.keys():\n",
    "                distances[generaralized_distance] = 1\n",
    "            else:\n",
    "                distances[generaralized_distance] += 1\n",
    "        else:\n",
    "            if distance not in distances.keys():\n",
    "                distances[distance] = 1\n",
    "            else:\n",
    "                distances[distance] += 1\n",
    "            \n",
    "        # distancesFromNode[node].append(distance)\n",
    "  \n",
    "  \n",
    "  return distances"
   ]
  },
  {
   "cell_type": "code",
   "execution_count": 58,
   "metadata": {},
   "outputs": [],
   "source": [
    "def plotScatterEmpyricalComplementarDistribution(distances, output_path: str = 'E://', output_file_name: str = 'empyrical_complementar_distribution.png', show: bool = False, log: bool = False):\n",
    "    \"\"\"Plota o gráfico de dispersão da distribuição empírica complementar.\n",
    "\n",
    "    Args:\n",
    "        distances (list): Lista com as distâncias.\n",
    "        output_path (str): Caminho de saída do arquivo.\n",
    "        output_file_name (str): Nome do arquivo de saída.\n",
    "        show (bool): Se o gráfico deve ser exibido.\n",
    "    \"\"\"    \n",
    "    # sort the distances\n",
    "\n",
    "    # calculate the probability of each distance\n",
    "    if isinstance(distances, dict):\n",
    "        keys_in_order = sorted(distances.keys())\n",
    "        length_distances = sum(distances.values())\n",
    "        dist = 1\n",
    "        prob = []\n",
    "        print(f\"keys_in_order: {keys_in_order}\")\n",
    "        print(f\"length_distances: {length_distances}\")\n",
    "        \n",
    "        distances_list = [key for key, value in distances.items() for _ in tqdmBasic(range(value))]\n",
    "        n = len(distances_list)\n",
    "        prob = [1 - (i+1)/n for i in tqdmBasic(range(0,n))]\n",
    "                    \n",
    "        distances = list(distances.keys())\n",
    "        \n",
    "    else:\n",
    "        distances.sort()\n",
    "        if log == True:\n",
    "            prob = [np.log10(1 - (i/len(distances))) for i in tqdmBasic(range(len(distances)), desc=\"Calculando probabilidade\")]\n",
    "        else:\n",
    "            prob = [1 - (i/len(distances)) for i in tqdmBasic(range(len(distances)))]\n",
    "            \n",
    "    print(type(prob))\n",
    "\n",
    "    # plot the scatter graph\n",
    "    plt.figure(figsize=(180, 120))\n",
    "    plt.scatter(distances, prob)\n",
    "    plt.yticks(np.arange(0, 1.1, 0.1))\n",
    "    plt.xlabel(\"Distância\")\n",
    "    plt.ylabel(\"Probabilidade\")\n",
    "    plt.savefig(f\"{output_path}{output_file_name}\", dpi=300, bbox_inches='tight')\n",
    "    \n",
    "    if show:\n",
    "        plt.show()\n",
    "       "
   ]
  },
  {
   "cell_type": "code",
   "execution_count": 59,
   "metadata": {},
   "outputs": [],
   "source": [
    "def generate_colors(n):\n",
    "    cmap = plt.colormaps['hsv']  # Use o colormap 'hsv' para cores distintas\n",
    "    colors = cmap(np.linspace(0, 1, n+1))  # Gera n cores distintas\n",
    "    return colors"
   ]
  },
  {
   "cell_type": "code",
   "execution_count": 60,
   "metadata": {},
   "outputs": [],
   "source": [
    "def show_geo_modularity(grafo, D, d, centroid):\n",
    "    for node in grafo.nodes():\n",
    "        if 'median_lat' not in grafo.nodes[node]:\n",
    "            continue\n",
    "        \n",
    "        coordinates = (float(grafo.nodes[node][\"median_lat\"]), float(grafo.nodes[node][\"median_lon\"]))\n",
    "        \n",
    "        dispersao = calculate_distance_geographic(coordinates[0], coordinates[1], centroid[0], centroid[1])\n",
    "        \n",
    "        f_x = (math.log(1/dispersao) + math.log(D) + math.log(d)) / (math.log(D) - math.log(d))\n",
    "        \n",
    "        if f_x != 0:\n",
    "            try:\n",
    "                f_x = math.log(f_x)\n",
    "            except ValueError:\n",
    "                print(f\"dist: {dispersao}, D: {D}, d: {d}\")\n",
    "        # else:\n",
    "        #     print(f\"Node: {node}, Distance: {dispersao}, (f(x): {f_x}\")\n",
    "        \n",
    "        print(f\"Node: {node}, Distance: {dispersao}, log(f(x)): {f_x}\")"
   ]
  },
  {
   "cell_type": "code",
   "execution_count": 61,
   "metadata": {},
   "outputs": [],
   "source": [
    "def convert_geo_to_utm(graph: nx.graph, column_lat: str = 'median_lat', column_lon: str = 'median_lon'):\n",
    "    for node in graph.nodes():\n",
    "        latitute = float(graph.nodes[node][column_lat])\n",
    "        longitude = float(graph.nodes[node][column_lon])\n",
    "        \n",
    "        easting, northing, _, _ = utm.from_latlon(latitute, longitude)\n",
    "        graph.nodes[node]['median_X'] = easting\n",
    "        graph.nodes[node]['median_Y'] = northing\n",
    "        \n",
    "    return graph"
   ]
  },
  {
   "cell_type": "code",
   "execution_count": 62,
   "metadata": {},
   "outputs": [],
   "source": [
    "def calculate_ward_dispersion(grafo: nx.graph, comunidades: list, latitude: str = 'latitude', longitude: str = 'longitude'):\n",
    "    \n",
    "    # comm = set(comunidades)\n",
    "    coords = np.array([[float(grafo.nodes[node][longitude]), float(grafo.nodes[node][latitude])] for node in comunidades])\n",
    "    \n",
    "    def community_dispersion(coords: np.array):\n",
    "        centroid = np.mean(coords, axis=0)\n",
    "        \n",
    "        return np.sum((coords - centroid) ** 2)\n",
    "        \n",
    "    return sum(map(community_dispersion, coords))"
   ]
  },
  {
   "cell_type": "code",
   "execution_count": 110,
   "metadata": {},
   "outputs": [],
   "source": [
    "def plot_colored_communities(latitude, longitude, grafo, grafo_geo, comunities_geo, comunities_original, with_labels=False, use_geolocation=True):\n",
    "    if use_geolocation:\n",
    "        pos = {node: (grafo.nodes[node][latitude], grafo.nodes[node][longitude]) for node in grafo.nodes()}\n",
    "    else:\n",
    "        pos = nx.spring_layout(grafo)\n",
    "        \n",
    "    pos_geo = {node: (grafo_geo.nodes[node][latitude], grafo_geo.nodes[node][longitude]) for node in grafo_geo.nodes()}\n",
    "    \n",
    "    colors_original = generate_colors(len(comunities_original))\n",
    "    colors_geo = generate_colors(len(comunities_geo))\n",
    "    \n",
    "    node_colors_original = {}\n",
    "    node_colors_geo = {}\n",
    "    \n",
    "    for i, com in enumerate(comunities_original):\n",
    "        for node in com:\n",
    "            node_colors_original[node] = colors_original[i]\n",
    "            \n",
    "    for i, com in enumerate(comunities_geo):\n",
    "        for node in com:\n",
    "            node_colors_geo[node] = colors_geo[i]    \n",
    "\n",
    "    # Plot the graph with colored nodes based on communities\n",
    "    plt.figure(figsize=(12, 6))\n",
    "    plt.subplot(1, 2, 1)\n",
    "    plt.subplot(1, 2, 1)\n",
    "    nx.draw_networkx(grafo, pos=pos, node_color=[node_colors_original[node] for node in grafo.nodes()], node_size=100, font_size=10, with_labels=with_labels)\n",
    "    plt.axis('on')\n",
    "    plt.title(\"Comunidades do grafo social\")\n",
    "\n",
    "    plt.subplot(1, 2, 2)\n",
    "    nx.draw_networkx(grafo_geo, pos=pos_geo, node_color=[node_colors_geo[node] for node in grafo_geo.nodes()], node_size=100, font_size=10, with_labels=with_labels)\n",
    "    plt.axis('on')\n",
    "    plt.title(\"Comunidades do grafo geográfico\")\n",
    "\n",
    "    plt.show()"
   ]
  },
  {
   "cell_type": "code",
   "execution_count": 64,
   "metadata": {},
   "outputs": [],
   "source": [
    "def jaccard_similarity(community1, community2):\n",
    "    \"\"\"Calcula a similaridade de Jaccard entre duas comunidades.\n",
    "\n",
    "    Args:\n",
    "        community1 (list): A primeira comunidade.\n",
    "        community2 (list): A segunda comunidade.\n",
    "\n",
    "    Returns:\n",
    "        float: O índice de similaridade de Jaccard.\n",
    "        \n",
    "    Examples:\n",
    "        >>> community1 = {1, 2, 3}\n",
    "        >>> community2 = {2, 3, 4}\n",
    "        >>> jaccard_similarity(community1, community2)\n",
    "        0.5\n",
    "    \"\"\"\n",
    "    intersection = len(community1.intersection(community2))\n",
    "    union = len(community1.union(community2))\n",
    "    \n",
    "    return intersection / union"
   ]
  },
  {
   "cell_type": "code",
   "execution_count": 65,
   "metadata": {},
   "outputs": [],
   "source": [
    "def assign_labels(partition, all_elements):\n",
    "    \"\"\"Define os rótulos de cada elemento com base na partição.\n",
    "\n",
    "    Args:\n",
    "        partition (list): A partição.\n",
    "        all_elements (list): Todos os elementos.\n",
    "        \n",
    "    Returns:\n",
    "        list: Uma lista com os rótulos de cada elemento.\n",
    "        \n",
    "    Examples:\n",
    "        >>> partition = [{1, 2, 3}, {4, 5, 6}]\n",
    "        >>> all_elements = [1, 2, 3, 4, 5, 6]\n",
    "        >>> assign_labels(partition, all_elements)\n",
    "        [0, 0, 0, 1, 1, 1]\n",
    "    \"\"\"\n",
    "    labels = {}\n",
    "    for cluster_id, cluster in enumerate(partition):\n",
    "        for element in cluster:\n",
    "            labels[element] = cluster_id\n",
    "    return [labels[element] for element in all_elements]"
   ]
  },
  {
   "cell_type": "markdown",
   "metadata": {},
   "source": [
    "### Métodos de geração de grafos"
   ]
  },
  {
   "cell_type": "code",
   "execution_count": 66,
   "metadata": {},
   "outputs": [],
   "source": [
    "def generate_flow_graph(graph: nx.Graph, gdf: gpd.GeoDataFrame, column: str = 'geometry'):\n",
    "    \"\"\"Gera um grafo de fluxo a partir de um grafo existente e um GeoDataFrame com as regiões de interesse.\n",
    "\n",
    "    Args:\n",
    "        graph (nx.graph): Grafo base de onde será gerado o grafo de fluxo.\n",
    "        gdf (gpd.GeoDataFrame): GeoDataFrame com os dados geográficos das regiões de interesse.\n",
    "        column (str, optional): coluna alvo com o código de interesse. Defaults to 'geometry'.\n",
    "    \n",
    "    \"\"\"\n",
    "    \n",
    "    grafo_fluxo = nx.DiGraph()\n",
    "    no_sem_regiao = []\n",
    "    \n",
    "    for source, target in tqdmBasic(graph.edges(), total=graph.number_of_edges()):\n",
    "        if source in no_sem_regiao and target in no_sem_regiao:\n",
    "            continue\n",
    "        \n",
    "        u = graph.nodes[source]\n",
    "        v = graph.nodes[target]\n",
    "        \n",
    "        try:\n",
    "            u['median_lat']\n",
    "        except:\n",
    "            no_sem_regiao.append(source)\n",
    "            continue\n",
    "        \n",
    "        try:\n",
    "            v['median_lat']\n",
    "        except:\n",
    "            no_sem_regiao.append(target)\n",
    "            continue\n",
    "        \n",
    "        u_region = gdf[gdf.contains(geometry.Point(float(u['median_lon']), float(u['median_lat'])))][column]\n",
    "        v_region = gdf[gdf.contains(geometry.Point(float(v['median_lon']), float(v['median_lat'])))][column]\n",
    "                \n",
    "        if u_region.empty:\n",
    "            no_sem_regiao.append(source)\n",
    "            continue\n",
    "        \n",
    "        if v_region.empty:\n",
    "            no_sem_regiao.append(target)\n",
    "            continue\n",
    "        \n",
    "        if u_region.index[0] == v_region.index[0]:\n",
    "            continue        \n",
    "        \n",
    "        if grafo_fluxo.has_edge(u_region.values[0], v_region.values[0]):\n",
    "            grafo_fluxo[u_region.values[0]][v_region.values[0]]['weight'] += 1\n",
    "        else:\n",
    "            grafo_fluxo.add_edge(u_region.values[0], v_region.values[0], weight=1)\n",
    "        \n",
    "        # if (u_region.index[0], v_region.index[0]) not in grafo_fluxo.edges():\n",
    "        #     grafo_fluxo.add_edge(u_region.index[0], v_region.index[0], weight=1)\n",
    "        # else:\n",
    "        #     grafo_fluxo[u_region.index[0]][v_region.index[0]]['weight'] += 1        \n",
    "    \n",
    "    return grafo_fluxo, no_sem_regiao"
   ]
  },
  {
   "cell_type": "code",
   "execution_count": 67,
   "metadata": {},
   "outputs": [],
   "source": [
    "def generate_graph_from_gdf(gdf: gpd.GeoDataFrame, column: str = 'geometry') -> nx.Graph:\n",
    "    \"\"\"Gera um grafo a partir de um GeoDataFrame.\n",
    "\n",
    "    Args:\n",
    "        gdf (gpd.GeoDataFrame): GeoDataFrame com os dados.\n",
    "        column (str, optional): Nome da coluna de referência. Defaults to 'geometry'.\n",
    "\n",
    "    Returns:\n",
    "        nx.Graph: Grafo gerado.\n",
    "    \"\"\"\n",
    "    G = nx.Graph()\n",
    "\n",
    "    for index, row in tqdmBasic(gdf.iterrows(), total=gdf.shape[0]):\n",
    "        vertex = row[column]\n",
    "        adjacent_regions = gdf[gdf.geometry.touches(row['geometry'])][column]\n",
    "        \n",
    "        for adjacent_region in adjacent_regions:\n",
    "            G.add_edge(vertex, adjacent_region)\n",
    "            \n",
    "    return G"
   ]
  },
  {
   "cell_type": "code",
   "execution_count": 68,
   "metadata": {},
   "outputs": [],
   "source": [
    "def generate_subgraph(graph, porcentage=0.9):\n",
    "    \"\"\"Gera um subgrafo a partir de um grafo.\n",
    "\n",
    "    Args:\n",
    "        graph (nx.Graph): Grafo base.\n",
    "        porcentage (float, optional): Porcentagem do tamanho do grafo original. Defaults to 0.9.\n",
    "\n",
    "    Returns:\n",
    "        _type_: Subgrafo gerado.\n",
    "    \"\"\"\n",
    "    directed = nx.is_directed(graph)\n",
    "    \n",
    "    components = list(nx.connected_components(graph)) if not directed else list(nx.weakly_connected_components(graph))\n",
    "    \n",
    "    components.sort(key=len, reverse=True)\n",
    "    \n",
    "    min_nodes = int(graph.number_of_nodes() * porcentage)\n",
    "    \n",
    "    subgraph = nx.Graph() if not directed else nx.DiGraph()\n",
    "    \n",
    "    for component in components:\n",
    "        subgraph.add_nodes_from(component)\n",
    "        subgraph.add_edges_from(graph.subgraph(component).edges())\n",
    "        \n",
    "        if len(subgraph) >= min_nodes:\n",
    "            break\n",
    "    \n",
    "    for node in subgraph.nodes():\n",
    "        subgraph.nodes[node].update(graph.nodes[node])\n",
    "        \n",
    "    return subgraph"
   ]
  },
  {
   "cell_type": "markdown",
   "metadata": {},
   "source": [
    "### Métodos de cálculos com a rede"
   ]
  },
  {
   "cell_type": "code",
   "execution_count": 69,
   "metadata": {},
   "outputs": [],
   "source": [
    "def show_graph_metrics(graph):\n",
    "    degrees = []\n",
    "\n",
    "    for node in graph.nodes():\n",
    "        degrees.append(nx.degree(graph, node))\n",
    "        \n",
    "    print(f\"Nº de nós: {graph.number_of_nodes()}\")\n",
    "    print(f\"Nº de links: {graph.number_of_edges()}\")\n",
    "    print(f\"Grau médio: {np.mean(degrees)}\")\n",
    "    print(f\"Densidade: {nx.density(graph)}\")\n",
    "    # print(f\"Cluster global: {nx.transitivity(graph)}\")\n",
    "    # print(f\"Cluster médio: {nx.average_clustering(graph)}\")"
   ]
  },
  {
   "cell_type": "code",
   "execution_count": 70,
   "metadata": {},
   "outputs": [],
   "source": [
    "def return_graph_metrics(graph):\n",
    "    degrees = []\n",
    "\n",
    "    for node in graph.nodes():\n",
    "        degrees.append(nx.degree(graph, node))\n",
    "        \n",
    "    return {\n",
    "        \"numero_nos\": graph.number_of_nodes(),\n",
    "        \"numero_links\": graph.number_of_edges(),\n",
    "        \"grau_medio\": np.mean(degrees),\n",
    "        \"densidade\": nx.density(graph)\n",
    "    }"
   ]
  },
  {
   "cell_type": "code",
   "execution_count": 71,
   "metadata": {},
   "outputs": [],
   "source": [
    "def calculate_geostatistics(graph: nx.graph = None, df: pd.DataFrame = None, column: str = 'comunidade') -> dict:\n",
    "    \"\"\"Calcula as estatísticas geográficas de um grafo.\n",
    "\n",
    "    Args:\n",
    "        graph (nx.graph): Grafo a ser analisado.\n",
    "        \n",
    "\n",
    "    Returns:\n",
    "        dict: Dicionário com as estatísticas calculadas.\n",
    "        \n",
    "    Raises:\n",
    "        ValueError: Se não for fornecido um grafo ou um dataframe.\n",
    "    \"\"\"\n",
    "    stats = {}\n",
    "    \n",
    "    if graph is not None:\n",
    "        for node in tqdmBasic(graph.nodes(), total=graph.number_of_nodes()):\n",
    "            community = graph.nodes[node][column]\n",
    "            if community not in stats.keys():\n",
    "                stats[community] = {\n",
    "                    'x_points': [],\n",
    "                    'y_points': [],\n",
    "                    'x_mean': 0.0,\n",
    "                    'y_mean': 0.0,\n",
    "                    'mean_distance_to_center': 0.0,\n",
    "                    'standard_deviation': 0.0,\n",
    "                }\n",
    "                \n",
    "            if 'median_X' not in graph.nodes[node]:\n",
    "                continue\n",
    "            \n",
    "            x = float(graph.nodes[node]['median_X'])\n",
    "            y = float(graph.nodes[node]['median_Y'])\n",
    "            \n",
    "            stats[community]['x_points'].append(x)\n",
    "            stats[community]['y_points'].append(y)\n",
    "            \n",
    "            \n",
    "    elif df is not None:\n",
    "        for index, row in tqdmBasic(df.iterrows(), total=df.shape[0]):\n",
    "            community = row[column]\n",
    "            if community not in stats.keys():\n",
    "                stats[community] = {\n",
    "                    'x_points': [],\n",
    "                    'y_points': [],\n",
    "                    'x_mean': 0.0,\n",
    "                    'y_mean': 0.0,\n",
    "                    'mean_distance_to_center': 0.0,\n",
    "                    'standard_deviation': 0.0,\n",
    "                }\n",
    "                \n",
    "            if 'median_X' not in row:\n",
    "                continue\n",
    "            \n",
    "            x = float(row['median_X'])\n",
    "            y = float(row['median_Y'])\n",
    "            \n",
    "            stats[community]['x_points'].append(x)\n",
    "            stats[community]['y_points'].append(y)\n",
    "    else:\n",
    "        raise ValueError(\"You must provide a graph or a dataframe.\")        \n",
    "        \n",
    "    for community in stats.keys():\n",
    "        x_mean = np.mean(stats[community]['x_points'])\n",
    "        y_mean = np.mean(stats[community]['y_points'])\n",
    "        \n",
    "        stats[community]['x_mean'] = x_mean\n",
    "        stats[community]['y_mean'] = y_mean\n",
    "        \n",
    "        distances = [math.dist([x_mean, y_mean], [x, y]) for x, y in zip(stats[community]['x_points'], stats[community]['y_points'])]\n",
    "        mean_distance_to_center = np.mean(distances)\n",
    "        standart_deviation = np.std(distances)\n",
    "        \n",
    "        stats[community]['mean_distance_to_center'] = mean_distance_to_center\n",
    "        stats[community]['standard_deviation'] = standart_deviation        \n",
    "    \n",
    "    return stats"
   ]
  },
  {
   "cell_type": "code",
   "execution_count": 72,
   "metadata": {},
   "outputs": [],
   "source": [
    "def return_community_detection_duration(graph: nx.Graph, algorithm: str = 'louvain'):\n",
    "    \"\"\"Calcula o tempo de execução de um algoritmo de detecção de comunidades.\n",
    "\n",
    "    Args:\n",
    "        graph (nx.Graph): Grafo a ser analisado.\n",
    "        algorithm (str, optional): Algoritmo de detecção de comunidades. Defaults to 'louvain'.\n",
    "\n",
    "    Returns:\n",
    "        float: Tempo de execução do algoritmo.\n",
    "        Any: Partição gerada.\n",
    "        float: Modularidade da partição.       \n",
    "        \n",
    "    Raises:\n",
    "        ValueError: Se o algoritmo não for implementado.\n",
    "        \n",
    "    Examples:\n",
    "        >>> return_community_detection_duration(grafo_twitter, 'louvain')\n",
    "        0.0001, {0: [1, 2, 3], 1: [4, 5, 6]}, 0.5\n",
    "        \n",
    "    \"\"\"\n",
    "    start = time.time()\n",
    "    \n",
    "    if algorithm == 'louvain':\n",
    "        partition = nx.community.louvain_communities(graph)\n",
    "        modularity = nx.community.modularity(graph, partition)\n",
    "    elif algorithm == 'greedy':\n",
    "        partition = nx.community.greedy_modularity_communities(graph)\n",
    "        modularity = nx.community.modularity(graph, partition)\n",
    "    elif algorithm == 'edge_betweeness':\n",
    "        sets = random.randint(2, len(graph))        \n",
    "        partition = nx.community.edge_betweenness_partition(graph, sets)  \n",
    "        modularity = nx.community.modularity(graph, partition)\n",
    "    elif algorithm == 'girvan_newman':\n",
    "        comunidades = list(nx.community.girvan_newman(graph))\n",
    "        partition = comunidades[0]\n",
    "        modularity = nx.community.modularity(graph, partition)\n",
    "        \n",
    "        for i in range(1, len(comunidades)):\n",
    "            partition_partial = comunidades[i]\n",
    "            modularity_partial = nx.community.modularity(graph, partition_partial)\n",
    "            \n",
    "            if np.abs(modularity_partial) > np.abs(modularity):\n",
    "                partition = partition_partial\n",
    "                modularity = modularity_partial\n",
    "    else:\n",
    "        raise ValueError(\"Método não implementado.\")\n",
    "        \n",
    "    end = time.time()\n",
    "    \n",
    "    return end - start, partition, modularity"
   ]
  },
  {
   "cell_type": "code",
   "execution_count": 73,
   "metadata": {},
   "outputs": [],
   "source": [
    "def random_subgraph_by_porcentage(graph: nx.DiGraph, porcentage: float = 0.1, connected_only: bool = False):\n",
    "    \"\"\"Gera um subgrafo aleatório de um grafo.\n",
    "\n",
    "    Args:\n",
    "        graph (nx.Graph): Grafo base.\n",
    "        porcentage (float, optional): Porcentagem de subgrafo. Defaults to 0.1.\n",
    "    \"\"\"\n",
    "    graph_return = nx.DiGraph()\n",
    "    \n",
    "    edges = random.sample(list(graph.edges()), int(graph.number_of_edges()*porcentage))\n",
    "    graph_return.add_edges_from(edges)\n",
    "    \n",
    "    for node in graph_return.nodes():\n",
    "        graph_return.nodes[node].update(graph.nodes[node])\n",
    "        \n",
    "    if connected_only:\n",
    "        components = nx.weakly_connected_components(graph_return)\n",
    "        biggest_component = max(components, key=len)\n",
    "        connected_graph = graph_return.subgraph(biggest_component)\n",
    "        return connected_graph\n",
    "    \n",
    "    return graph_return"
   ]
  },
  {
   "cell_type": "code",
   "execution_count": 74,
   "metadata": {},
   "outputs": [],
   "source": [
    "def compute_and_export_the_data_from_subgraphs(graph, output_path: str = 'E://', output_file_name: str = 'subgraph_data.csv', columns: list = ['Nós', 'Links'], porcentage: float = 0.1):\n",
    "\n",
    "    output_file = os.path.join(output_path, output_file_name)\n",
    "\n",
    "    try:\n",
    "        df_performance = pd.read_csv(output_file, encoding='utf-8')\n",
    "    except:\n",
    "        df_performance = pd.DataFrame(columns=columns)\n",
    "        \n",
    "    tempo_louvain, comunidades_louvain, modularidade_louvain = return_community_detection_duration(graph, 'louvain')\n",
    "    tempo_greedy, comunidades_greedy, modularidade_greedy = return_community_detection_duration(graph, 'greedy')\n",
    "    # tempo_edge_betweeness = return_community_detection_duration(graph, 'edge_betweeness')    \n",
    "    tempo_girvan_newman, comunidades_girvan_newman, modularidade_girvan_newman = return_community_detection_duration(graph, 'girvan_newman')\n",
    "\n",
    "    df_performance = df_performance._append({\n",
    "        \"Porcentagem de Arestas\": porcentage,\n",
    "        \"Nós\": graph.number_of_nodes(),\n",
    "        \"Links\": graph.number_of_edges(),\n",
    "        \"Grau Médio\": np.mean([graph.degree(node) for node in graph.nodes()]),\n",
    "        \"Densidade\": nx.density(graph),\n",
    "        \"Cluster Global\": nx.transitivity(graph),\n",
    "        \"Cluster Médio\": nx.average_clustering(graph),\n",
    "        \"Tempo Louvain\": tempo_louvain,\n",
    "        \"N° Comunidades Louvain\": len(comunidades_louvain),\n",
    "        \"Modularidade Louvain\": modularidade_louvain,\n",
    "        \"Tempo Greedy\": tempo_greedy,\n",
    "        \"N° Comunidades Greedy\": len(comunidades_greedy),\n",
    "        \"Modularidade Greedy\": modularidade_greedy,\n",
    "        # \"Tempo Edge Betweeness\": tempo_edge_betweeness,\n",
    "        \"Tempo Girvan-Newman\": tempo_girvan_newman,\n",
    "        \"N° Comunidades Girvan-Newman\": len(comunidades_girvan_newman),\n",
    "        \"Modularidade Girvan-Newman\": modularidade_girvan_newman\n",
    "    }, ignore_index=True)\n",
    "\n",
    "    df_performance.to_csv(output_file, index=False, encoding='utf-8')  "
   ]
  },
  {
   "cell_type": "code",
   "execution_count": 75,
   "metadata": {},
   "outputs": [],
   "source": [
    "def merge_duplicate_nodes(graph: nx.Graph) -> tuple:\n",
    "    \"\"\"Merge duplicate nodes in a graph.\n",
    "\n",
    "    Args:\n",
    "        graph (nx.Graph): Graph to be processed.\n",
    "\n",
    "    Raises:\n",
    "        KeyError: If the graph does not have a 'coords' attribute in the nodes.\n",
    "        \n",
    "    Returns:\n",
    "        tuple: Tupla contendo:\n",
    "            graph (nx.Graph): Graph with merged nodes.\n",
    "            unique_coords (dict): Dictionary with the unique coordinates.\n",
    "        \n",
    "    Examples:\n",
    "        >>> graph, unique_coords = merge_duplicate_nodes(graph)\n",
    "    \"\"\"\n",
    "    \n",
    "    unique_coords = {}\n",
    "\n",
    "    for node in list(graph.nodes()):\n",
    "        try:\n",
    "            coords = graph.nodes[node]['coords']\n",
    "        except KeyError:\n",
    "            raise KeyError(\"The graph must have a 'coords' attribute in the nodes.\")\n",
    "        \n",
    "        if coords in unique_coords:      \n",
    "            graph.add_edges_from(graph.edges(node))        \n",
    "            graph.remove_node(node)\n",
    "        else:        \n",
    "            unique_coords[coords] = node\n",
    "            \n",
    "    return graph, unique_coords"
   ]
  },
  {
   "cell_type": "code",
   "execution_count": 76,
   "metadata": {},
   "outputs": [],
   "source": [
    "def map_community_nodes(community: list) -> dict:\n",
    "    \"\"\"Atribui um número de comunidade a cada nó de cada grafo.\n",
    "\n",
    "    Args:\n",
    "        community (list): Lista de comunidades do grafo 1.\n",
    "\n",
    "    Returns:\n",
    "        node_community_map (dict): Dicionário com o mapeamento dos nós para as comunidades.\n",
    "        \n",
    "    Examples:\n",
    "        >>> community1 = [{1, 2, 3}, {4, 5, 6}]\n",
    "        >>> map_community_nodes(community1)\n",
    "        {1: 0, 2: 0, 3: 0, 4: 1, 5: 1, 6: 1}\n",
    "    \"\"\"\n",
    "    node_community_map = {}\n",
    "\n",
    "    for i, comm in enumerate(community):\n",
    "        for node in comm:\n",
    "            node_community_map[node] = i\n",
    "            \n",
    "    return node_community_map\n"
   ]
  },
  {
   "cell_type": "markdown",
   "metadata": {},
   "source": [
    "### Métodos de exportação de arquivos"
   ]
  },
  {
   "cell_type": "code",
   "execution_count": 77,
   "metadata": {},
   "outputs": [],
   "source": [
    "def _export_dictionary(dict : dict, path : str = 'E://', file_name : str = 'dict.json'):\n",
    "    \"\"\"Exporta um dicionário para um arquivo JSON\n",
    "\n",
    "    Args:\n",
    "        dict (dict): dicionário a ser exportado\n",
    "        path (str, optional): Caminho do arquivo de saída. Defaults to ''.\n",
    "        file_name (str, optional): Nome do arquivo de saída. Defaults to 'dict.json'.\n",
    "    \"\"\"                \n",
    "    with open(f\"{path}{file_name}\", 'w') as f:\n",
    "        json.dump(dict, f)"
   ]
  },
  {
   "cell_type": "code",
   "execution_count": 78,
   "metadata": {},
   "outputs": [],
   "source": [
    "def _export_list_to_csv(list : list, path : str = 'E://', file_name : str = 'list.csv'):\n",
    "    \"\"\"Exporta uma lista para um arquivo CSV\n",
    "\n",
    "    Args:\n",
    "        list (list): Lista a ser exportada\n",
    "        path (str, optional): Caminho do arquivo de saída. Defaults to ''.\n",
    "        file_name (str, optional): Nome do arquivo de saída. Defaults to 'list.csv'.\n",
    "    \"\"\"                \n",
    "    with open(f\"{path}{file_name}\", 'w', newline='') as f:\n",
    "        writer = csv.writer(f)\n",
    "        writer.writerows(list)"
   ]
  },
  {
   "cell_type": "markdown",
   "metadata": {},
   "source": [
    "## Criando os grafos"
   ]
  },
  {
   "cell_type": "markdown",
   "metadata": {},
   "source": [
    "### Dataframes e dicionários base para os grafos"
   ]
  },
  {
   "cell_type": "code",
   "execution_count": null,
   "metadata": {},
   "outputs": [],
   "source": [
    "dataFrameComUsernames = json_normalize(load_jsonl(r'D:\\\\Documentos\\\\data_and_code\\\\all_data_lisbon\\\\dataWithUserNames.jsonl'), sep = '_', errors ='ignore') "
   ]
  },
  {
   "cell_type": "code",
   "execution_count": null,
   "metadata": {},
   "outputs": [],
   "source": [
    "dataFrameComUsernames2 = dataframe_standartization(dataFrameComUsernames)"
   ]
  },
  {
   "cell_type": "code",
   "execution_count": null,
   "metadata": {},
   "outputs": [],
   "source": [
    "dictMentions = gera_dict_mentions_by_user(dataFrameComUsernames, data_frame2=dataFrameComUsernames2)"
   ]
  },
  {
   "cell_type": "code",
   "execution_count": null,
   "metadata": {},
   "outputs": [],
   "source": [
    "_export_dictionary(dictMentions, 'E://', 'dictMentions_locations.json')"
   ]
  },
  {
   "cell_type": "markdown",
   "metadata": {},
   "source": [
    "### Grafo de menções do twitter"
   ]
  },
  {
   "cell_type": "markdown",
   "metadata": {},
   "source": [
    "#### Geração"
   ]
  },
  {
   "cell_type": "code",
   "execution_count": null,
   "metadata": {},
   "outputs": [],
   "source": [
    "grafo_twitter = nx.DiGraph()\n",
    "arestas_fluxo_inexistentes = []\n",
    "\n",
    "for index, row in tqdmBasic(gdf_users.iterrows(), total=gdf_users.shape[0]):\n",
    "    vertex = row['username']\n",
    "    \n",
    "    if vertex not in grafo_twitter.nodes():\n",
    "        grafo_twitter.add_node(vertex)\n",
    "        \n",
    "    nx.set_node_attributes(grafo_twitter, {vertex: {\"median_lat\": row['median_lat'], \"median_lon\": row['median_lon']}})\n",
    "        \n",
    "    try:\n",
    "        for mention in dictMentions[row['username']]:\n",
    "            if mention not in grafo_twitter.nodes():\n",
    "                grafo_twitter.add_node(mention)\n",
    "            grafo_twitter.add_edge(vertex, mention)\n",
    "                \n",
    "            mentioned_person = gdf_users[gdf_users['username'] == mention]\n",
    "    except KeyError:\n",
    "        arestas_fluxo_inexistentes.append((vertex, mention))\n",
    "        continue"
   ]
  },
  {
   "cell_type": "markdown",
   "metadata": {},
   "source": [
    "#### Exportação"
   ]
  },
  {
   "cell_type": "code",
   "execution_count": null,
   "metadata": {},
   "outputs": [],
   "source": [
    "nx.write_graphml_lxml(grafo_twitter, \"D:\\\\Documentos\\\\data_and_code\\\\all_data_lisbon\\\\grafo_twitter.graphml\")"
   ]
  },
  {
   "cell_type": "markdown",
   "metadata": {},
   "source": [
    "### Grafos de fluxo"
   ]
  },
  {
   "cell_type": "markdown",
   "metadata": {},
   "source": [
    "#### Geração"
   ]
  },
  {
   "cell_type": "code",
   "execution_count": null,
   "metadata": {},
   "outputs": [],
   "source": [
    "grafo_fluxo_secao, no_sem_regiao_secao = generate_flow_graph(grafo_twitter, gdf_wgs84_secao, 'DTMNFRSEC2')\n",
    "grafo_fluxo_freguesia, no_sem_regiao_freguesia = generate_flow_graph(grafo_twitter, gdf_wgs84_freguesia, 'DTMNFR21')\n",
    "grafo_fluxo_municipio, no_sem_regiao_municipio = generate_flow_graph(grafo_twitter, gdf_wgs84_municipio, 'DTMN21')"
   ]
  },
  {
   "cell_type": "markdown",
   "metadata": {},
   "source": [
    "#### Exportação"
   ]
  },
  {
   "cell_type": "code",
   "execution_count": null,
   "metadata": {},
   "outputs": [],
   "source": [
    "### Exportando os grafos de fluxo\n",
    "nx.write_graphml_lxml(grafo_fluxo_secao, \"D:\\\\Documentos\\\\data_and_code\\\\all_data_lisbon\\\\grafo_fluxo_secao.graphml\")\n",
    "nx.write_graphml_lxml(grafo_fluxo_freguesia, \"D:\\\\Documentos\\\\data_and_code\\\\all_data_lisbon\\\\grafo_fluxo_freguesia.graphml\")\n",
    "nx.write_graphml_lxml(grafo_fluxo_municipio, \"D:\\\\Documentos\\\\data_and_code\\\\all_data_lisbon\\\\grafo_fluxo_municipio.graphml\")\n",
    "\n",
    "### Exportando as listas de nós sem região\n",
    "_export_list_to_csv(no_sem_regiao_secao, 'E://', 'no_sem_regiao_secao.csv')\n",
    "_export_list_to_csv(no_sem_regiao_freguesia, 'E://', 'no_sem_regiao_freguesia.csv')\n",
    "_export_list_to_csv(no_sem_regiao_municipio, 'E://', 'no_sem_regiao_municipio.csv')"
   ]
  },
  {
   "cell_type": "markdown",
   "metadata": {},
   "source": [
    "### Grafos de regiões adjacentes"
   ]
  },
  {
   "cell_type": "markdown",
   "metadata": {},
   "source": [
    "#### Geração"
   ]
  },
  {
   "cell_type": "code",
   "execution_count": null,
   "metadata": {},
   "outputs": [],
   "source": [
    "grafo_regioes_secao = generate_graph_from_gdf(gdf_wgs84_secao, 'DTMNFRSEC2')\n",
    "grafo_regioes_freguesia = generate_graph_from_gdf(gdf_wgs84_freguesia, 'DTMNFR21')\n",
    "grafo_regioes_municipio = generate_graph_from_gdf(gdf_wgs84_municipio, 'DTMN21')   "
   ]
  },
  {
   "cell_type": "markdown",
   "metadata": {},
   "source": [
    "#### Exportação"
   ]
  },
  {
   "cell_type": "code",
   "execution_count": null,
   "metadata": {},
   "outputs": [],
   "source": [
    "nx.write_graphml_lxml(grafo_regioes_secao, \"D:\\\\Documentos\\\\data_and_code\\\\all_data_lisbon\\\\grafo_regioes_secao.graphml\")\n",
    "nx.write_graphml_lxml(grafo_regioes_freguesia, \"D:\\\\Documentos\\\\data_and_code\\\\all_data_lisbon\\\\grafo_regioes_freguesia.graphml\")\n",
    "nx.write_graphml_lxml(grafo_regioes_municipio, \"D:\\\\Documentos\\\\data_and_code\\\\all_data_lisbon\\\\grafo_regioes_municipio.graphml\")"
   ]
  },
  {
   "cell_type": "markdown",
   "metadata": {},
   "source": [
    "### Métricas básicas dos grafos gerados"
   ]
  },
  {
   "cell_type": "markdown",
   "metadata": {},
   "source": [
    "#### Grafo das menções no twitter"
   ]
  },
  {
   "cell_type": "code",
   "execution_count": null,
   "metadata": {},
   "outputs": [],
   "source": [
    "degrees = []\n",
    "\n",
    "for node in grafo_twitter.nodes():\n",
    "    degrees.append(nx.degree(grafo_twitter, node))\n",
    "\n",
    "print(f\"Nº de nós: {grafo_twitter.number_of_nodes()}\")\n",
    "print(f\"Nº de links: {grafo_twitter.number_of_edges()}\")\n",
    "print(f\"Grau médio: {np.mean(degrees)}\")\n",
    "print(f\"Densidade: {nx.density(grafo_twitter)}\")\n",
    "# print(f\"Distância média: {nx.average_shortest_path_length(grafo_twitter)}\")\n",
    "print(f\"Cluster global: {nx.transitivity(grafo_twitter)}\")\n",
    "print(f\"Cluster médio: {nx.average_clustering(grafo_twitter)}\")"
   ]
  },
  {
   "cell_type": "markdown",
   "metadata": {},
   "source": [
    "#### Grafos dos fluxos"
   ]
  },
  {
   "cell_type": "code",
   "execution_count": null,
   "metadata": {},
   "outputs": [],
   "source": [
    "degrees = []\n",
    "\n",
    "for node in grafo_fluxo_secao.nodes():\n",
    "    degrees.append(nx.degree(grafo_fluxo_secao, node))\n",
    "\n",
    "print(f\"Nº de nós: {grafo_fluxo_secao.number_of_nodes()}\")\n",
    "print(f\"Nº de links: {grafo_fluxo_secao.number_of_edges()}\")\n",
    "print(f\"Grau médio: {np.mean(degrees)}\")\n",
    "print(f\"Densidade: {nx.density(grafo_fluxo_secao)}\")\n",
    "# print(f\"Distância média: {nx.average_shortest_path_length(grafo_fluxo)}\")\n",
    "print(f\"Cluster global: {nx.transitivity(grafo_fluxo_secao)}\")\n",
    "print(f\"Cluster médio: {nx.average_clustering(grafo_fluxo_secao)}\")"
   ]
  },
  {
   "cell_type": "code",
   "execution_count": null,
   "metadata": {},
   "outputs": [],
   "source": [
    "degrees = []\n",
    "\n",
    "for node in grafo_fluxo_freguesia.nodes():\n",
    "    degrees.append(nx.degree(grafo_fluxo_freguesia, node))\n",
    "\n",
    "print(f\"Nº de nós: {grafo_fluxo_freguesia.number_of_nodes()}\")\n",
    "print(f\"Nº de links: {grafo_fluxo_freguesia.number_of_edges()}\")\n",
    "print(f\"Grau médio: {np.mean(degrees)}\")\n",
    "print(f\"Densidade: {nx.density(grafo_fluxo_freguesia)}\")\n",
    "# print(f\"Distância média: {nx.average_shortest_path_length(grafo_fluxo)}\")\n",
    "print(f\"Cluster global: {nx.transitivity(grafo_fluxo_freguesia)}\")\n",
    "print(f\"Cluster médio: {nx.average_clustering(grafo_fluxo_freguesia)}\")"
   ]
  },
  {
   "cell_type": "code",
   "execution_count": null,
   "metadata": {},
   "outputs": [],
   "source": [
    "degrees = []\n",
    "\n",
    "for node in grafo_fluxo_municipio.nodes():\n",
    "    degrees.append(nx.degree(grafo_fluxo_municipio, node))\n",
    "\n",
    "print(f\"Nº de nós: {grafo_fluxo_municipio.number_of_nodes()}\")\n",
    "print(f\"Nº de links: {grafo_fluxo_municipio.number_of_edges()}\")\n",
    "print(f\"Grau médio: {np.mean(degrees)}\")\n",
    "print(f\"Densidade: {nx.density(grafo_fluxo_municipio)}\")\n",
    "# print(f\"Distância média: {nx.average_shortest_path_length(grafo_fluxo)}\")\n",
    "print(f\"Cluster global: {nx.transitivity(grafo_fluxo_municipio)}\")\n",
    "print(f\"Cluster médio: {nx.average_clustering(grafo_fluxo_municipio)}\")"
   ]
  },
  {
   "cell_type": "markdown",
   "metadata": {},
   "source": [
    "#### Grafos das regiões adjacentes"
   ]
  },
  {
   "cell_type": "code",
   "execution_count": null,
   "metadata": {},
   "outputs": [],
   "source": [
    "degrees = []\n",
    "\n",
    "for node in grafo_regioes_secao.nodes():\n",
    "    degrees.append(nx.degree(grafo_regioes_secao, node))\n",
    "    \n",
    "print(f\"Nº de nós: {grafo_regioes_secao.number_of_nodes()}\")\n",
    "print(f\"Nº de links: {grafo_regioes_secao.number_of_edges()}\")\n",
    "print(f\"Grau médio: {np.mean(degrees)}\")\n",
    "print(f\"Densidade: {nx.density(grafo_regioes_secao)}\")\n",
    "print(f\"Cluster global: {nx.transitivity(grafo_regioes_secao)}\")\n",
    "print(f\"Cluster médio: {nx.average_clustering(grafo_regioes_secao)}\")"
   ]
  },
  {
   "cell_type": "code",
   "execution_count": null,
   "metadata": {},
   "outputs": [],
   "source": [
    "degrees = []\n",
    "\n",
    "for node in grafo_regioes_freguesia.nodes():\n",
    "    degrees.append(nx.degree(grafo_regioes_freguesia, node))\n",
    "    \n",
    "print(f\"Nº de nós: {grafo_regioes_freguesia.number_of_nodes()}\")\n",
    "print(f\"Nº de links: {grafo_regioes_freguesia.number_of_edges()}\")\n",
    "print(f\"Grau médio: {np.mean(degrees)}\")\n",
    "print(f\"Densidade: {nx.density(grafo_regioes_freguesia)}\")\n",
    "print(f\"Cluster global: {nx.transitivity(grafo_regioes_freguesia)}\")\n",
    "print(f\"Cluster médio: {nx.average_clustering(grafo_regioes_freguesia)}\")"
   ]
  },
  {
   "cell_type": "code",
   "execution_count": null,
   "metadata": {},
   "outputs": [],
   "source": [
    "degrees = []\n",
    "\n",
    "for node in grafo_regioes_municipio.nodes():\n",
    "    degrees.append(nx.degree(grafo_regioes_municipio, node))\n",
    "    \n",
    "print(f\"Nº de nós: {grafo_regioes_municipio.number_of_nodes()}\")\n",
    "print(f\"Nº de links: {grafo_regioes_municipio.number_of_edges()}\")\n",
    "print(f\"Grau médio: {np.mean(degrees)}\")\n",
    "print(f\"Densidade: {nx.density(grafo_regioes_municipio)}\")\n",
    "print(f\"Cluster global: {nx.transitivity(grafo_regioes_municipio)}\")\n",
    "print(f\"Cluster médio: {nx.average_clustering(grafo_regioes_municipio)}\")"
   ]
  },
  {
   "cell_type": "markdown",
   "metadata": {},
   "source": [
    "## Subgrafos para testes"
   ]
  },
  {
   "cell_type": "code",
   "execution_count": null,
   "metadata": {},
   "outputs": [],
   "source": [
    "df_performance = pd.DataFrame()\n",
    "\n",
    "try:\n",
    "    df_performance = pd.read_csv('E://performance.csv', encoding='utf-8')\n",
    "except:\n",
    "    df_performance = pd.DataFrame(columns=[\"Porcentagem de Arestas\", \"Nós\", \"Links\", \"Grau Médio\", \"Densidade\", \"Cluster Global\", \"Cluster Médio\", \n",
    "                                           \"Tempo Louvain\", \"N° Comunidades Louvain\", \"Tempo Greedy\", \"N° Comunidades Greedy\", \"Tempo Girvan-Newman\", \"N° Comunidades Girvan-Newman\",])\n",
    "    \n",
    "tempo_louvain, comunidades_louvain = return_community_detection_duration(grafo_twitter_1, 'louvain')\n",
    "tempo_greedy, comunidades_greedy = return_community_detection_duration(grafo_twitter_1, 'greedy')\n",
    "# tempo_edge_betweeness = return_community_detection_duration(grafo_twitter_1, 'edge_betweeness')\n",
    "tempo_girvan_newman, comunidades_girvan_newman = return_community_detection_duration(grafo_twitter_1, 'girvan_newman')\n",
    "\n",
    "df_performance = df_performance._append({\n",
    "    \"Porcentagem de Arestas\": 0.01,\n",
    "    \"Nós\": grafo_twitter_1.number_of_nodes(),\n",
    "    \"Links\": grafo_twitter_1.number_of_edges(),\n",
    "    \"Grau Médio\": np.mean([grafo_twitter_1.degree(node) for node in grafo_twitter_1.nodes()]),\n",
    "    \"Densidade\": nx.density(grafo_twitter_1),\n",
    "    \"Cluster Global\": nx.transitivity(grafo_twitter_1),\n",
    "    \"Cluster Médio\": nx.average_clustering(grafo_twitter_1),\n",
    "    \"Tempo Louvain\": tempo_louvain,\n",
    "    \"N° Comunidades Louvain\": len(comunidades_louvain),\n",
    "    \"Tempo Greedy\": tempo_greedy,\n",
    "    \"N° Comunidades Greedy\": len(comunidades_greedy),\n",
    "    # \"Tempo Edge Betweeness\": tempo_edge_betweeness,\n",
    "    \"Tempo Girvan-Newman\": tempo_girvan_newman,\n",
    "    \"Nº Comunidades Girvan-Newman\": len(comunidades_girvan_newman)\n",
    "}, ignore_index=True)\n",
    "\n",
    "df_performance.to_csv('E://performance.csv', index=False, encoding='utf-8')    "
   ]
  },
  {
   "cell_type": "code",
   "execution_count": null,
   "metadata": {},
   "outputs": [],
   "source": [
    "itens = [\"Porcentagem de Arestas\", \"Nós\", \"Links\", \"Grau Médio\", \"Densidade\", \"Cluster Global\", \"Cluster Médio\", \n",
    "        \"Tempo Louvain\", \"N° Comunidades Louvain\", \"Modularidade Louvain\",\n",
    "        \"Tempo Greedy\", \"N° Comunidades Greedy\", \"Modularidade Greedy\",\n",
    "        \"Tempo Girvan-Newman\", \"N° Comunidades Girvan-Newman\", \"Modularidade Girvan-Newman\"]\n",
    "for item in tqdmBasic([0.01, 0.025, 0.05, 0.1], total=4):\n",
    "    grafo = random_subgraph_by_porcentage(grafo_twitter, item, connected_only=True)\n",
    "    compute_and_export_the_data_from_subgraphs(grafo, columns=itens, porcentage=item, output_file_name=\"connected_subgraphs_data.csv\")"
   ]
  },
  {
   "cell_type": "markdown",
   "metadata": {},
   "source": [
    "## Análise das comunidades"
   ]
  },
  {
   "cell_type": "code",
   "execution_count": null,
   "metadata": {},
   "outputs": [],
   "source": [
    "nodes_without_coordinates = [node for node in grafo_twitter.nodes() if 'median_lat' not in grafo_twitter.nodes[node]]"
   ]
  },
  {
   "cell_type": "code",
   "execution_count": null,
   "metadata": {},
   "outputs": [],
   "source": [
    "grafo = random_subgraph_by_porcentage(grafo_twitter_com_coordenadas, 0.03, True)"
   ]
  },
  {
   "cell_type": "code",
   "execution_count": null,
   "metadata": {},
   "outputs": [],
   "source": [
    "show_graph_metrics(grafo_twitter_com_coordenadas)"
   ]
  },
  {
   "cell_type": "code",
   "execution_count": 41,
   "metadata": {},
   "outputs": [],
   "source": [
    "grafo_twitter_com_coordenadas.remove_nodes_from(list(nx.isolates(grafo_twitter_com_coordenadas)))"
   ]
  },
  {
   "cell_type": "code",
   "execution_count": 42,
   "metadata": {},
   "outputs": [],
   "source": [
    "grafo2 = generate_subgraph(grafo_twitter_com_coordenadas)"
   ]
  },
  {
   "cell_type": "code",
   "execution_count": null,
   "metadata": {},
   "outputs": [],
   "source": [
    "giant_component = max(nx.strongly_connected_components(grafo_twitter_com_coordenadas), key=len)\n",
    "giant_connected_component = grafo_twitter_com_coordenadas.subgraph(giant_component)"
   ]
  },
  {
   "cell_type": "code",
   "execution_count": 43,
   "metadata": {},
   "outputs": [],
   "source": [
    "grafo = convert_geo_to_utm(grafo2, 'median_lat', 'median_lon')\n",
    "\n",
    "for node in grafo.nodes():\n",
    "    lat = grafo.nodes[node]['median_Y']\n",
    "    lon = grafo.nodes[node]['median_X']\n",
    "    grafo.nodes[node]['coords'] = (lat, lon)"
   ]
  },
  {
   "cell_type": "code",
   "execution_count": null,
   "metadata": {},
   "outputs": [],
   "source": [
    "raios = [1, 2, 2.5, 3, 4, 5, 10, 50, 100, 500, 1000, 5000, 7500]#\n",
    "# raios = [9000, 9500, 10000, 11000]\n",
    "\n",
    "metricas_grafos = {\"densidade_grafo_social\": [], \"densidade_grafo_geografico\": [], \"grau_medio_grafo_social\": [], \"grau_medio_grafo_geografico\": []}"
   ]
  },
  {
   "cell_type": "code",
   "execution_count": null,
   "metadata": {},
   "outputs": [],
   "source": [
    "metricas_social = return_graph_metrics(grafo)\n",
    "\n",
    "for raio in tqdmBasic(raios, total=len(raios)):\n",
    "    grafo_geo = geosocial.return_geographic_graph_by_radius(raio)\n",
    "    \n",
    "    metricas_geografico = return_graph_metrics(grafo_geo)\n",
    "    \n",
    "    if metricas_geografico[\"densidade\"] >= metricas_social[\"densidade\"]:\n",
    "        print(f\"Raio: {raio}, Grau médio: {metricas_geografico['grau_medio']}, Densidade: {metricas_geografico['densidade']}\")\n",
    "        break\n",
    "    \n",
    "    # metricas_grafos[\"densidade_grafo_social\"].append(metricas_social[\"densidade\"])\n",
    "    # metricas_grafos[\"densidade_grafo_geografico\"].append(metricas_geografico[\"densidade\"])\n",
    "    # metricas_grafos[\"grau_medio_grafo_social\"].append(metricas_social[\"grau_medio\"])\n",
    "    # metricas_grafos[\"grau_medio_grafo_geografico\"].append(metricas_geografico[\"grau_medio\"])\n",
    "    \n",
    "    # degrees = []\n",
    "\n",
    "    # for node in grafo_geo.nodes():\n",
    "    #     degrees.append(nx.degree(grafo_geo, node))\n",
    "        \n",
    "    # if np.mean(degrees) >= 7.07:\n",
    "    #     print(f\"Raio: {raio}, Grau médio: {np.mean(degrees)}, Densidade: {nx.density(grafo_geo)}\")\n",
    "    #     break"
   ]
  },
  {
   "cell_type": "code",
   "execution_count": null,
   "metadata": {},
   "outputs": [],
   "source": [
    "# Extract the data from the metricas_grafos dictionary\n",
    "densidade_grafo_social = metricas_grafos[\"densidade_grafo_social\"]\n",
    "densidade_grafo_geografico = metricas_grafos[\"densidade_grafo_geografico\"]\n",
    "grau_medio_grafo_social = metricas_grafos[\"grau_medio_grafo_social\"]\n",
    "grau_medio_grafo_geografico = metricas_grafos[\"grau_medio_grafo_geografico\"]\n",
    "\n",
    "plt.figure(figsize=(10, 6))\n",
    "\n",
    "# plt.plot(raios, densidade_grafo_social, label='Densidade do grafo social')\n",
    "# plt.plot(raios, densidade_grafo_geografico, label='Densidade do grafo geográfico')\n",
    "plt.plot(raios, grau_medio_grafo_social, label='Grau médio do grafo social')\n",
    "plt.plot(raios, grau_medio_grafo_geografico, label='Grau médio do grafo geográfico')\n",
    "plt.xlabel('Raio (m)')\n",
    "plt.ylabel('Densidade')\n",
    "plt.legend()\n",
    "plt.show()"
   ]
  },
  {
   "cell_type": "code",
   "execution_count": null,
   "metadata": {},
   "outputs": [],
   "source": [
    "plt.plot(raios, densidade_grafo_social, label='Densidade do grafo social')\n",
    "plt.plot(raios, densidade_grafo_geografico, label='Densidade do grafo geográfico')\n",
    "# plt.plot(raios, grau_medio_grafo_social, label='Grau médio do grafo social')\n",
    "# plt.plot(raios, grau_medio_grafo_geografico, label='Grau médio do grafo geográfico')\n",
    "plt.xlabel('Raio (m)')\n",
    "plt.ylabel('Densidade')\n",
    "plt.legend()\n",
    "plt.show()"
   ]
  },
  {
   "cell_type": "code",
   "execution_count": null,
   "metadata": {},
   "outputs": [],
   "source": [
    "# Extract the data from the metricas_grafos dictionary\n",
    "densidade_grafo_social = metricas_grafos[\"densidade_grafo_social\"]\n",
    "densidade_grafo_geografico = metricas_grafos[\"densidade_grafo_geografico\"]\n",
    "grau_medio_grafo_social = metricas_grafos[\"grau_medio_grafo_social\"]\n",
    "grau_medio_grafo_geografico = metricas_grafos[\"grau_medio_grafo_geografico\"]\n",
    "\n",
    "# Create a list of raios for the x-axis\n",
    "raios = [1, 2, 2.5, 3, 4, 5, 10, 50, 100, 500, 1000, 5000, 7500, 9000, 9500, 10000, 11000]\n",
    "\n",
    "# Plot the data\n",
    "plt.plot(raios, densidade_grafo_social, label=\"Densidade Grafo Social\")\n",
    "plt.plot(raios, densidade_grafo_geografico, label=\"Densidade Grafo Geográfico\")\n",
    "plt.plot(raios, grau_medio_grafo_social, label=\"Grau Médio Grafo Social\")\n",
    "plt.plot(raios, grau_medio_grafo_geografico, label=\"Grau Médio Grafo Geográfico\")\n",
    "\n",
    "# Add labels and legend\n",
    "plt.xlabel(\"Raio\")\n",
    "plt.ylabel(\"Valor\")\n",
    "plt.legend()\n",
    "\n",
    "# Show the plot\n",
    "plt.show()"
   ]
  },
  {
   "cell_type": "markdown",
   "metadata": {},
   "source": [
    "### Criando grafo geográfico"
   ]
  },
  {
   "cell_type": "code",
   "execution_count": 44,
   "metadata": {},
   "outputs": [],
   "source": [
    "geosocial = ga.GeoSocial(grafo, lat='median_Y', lon='median_X')"
   ]
  },
  {
   "cell_type": "code",
   "execution_count": 45,
   "metadata": {},
   "outputs": [
    {
     "name": "stdout",
     "output_type": "stream",
     "text": [
      "Nº de nós: 10701\n",
      "Nº de links: 1030221\n",
      "Grau médio: 192.5466778805719\n",
      "Densidade: 0.017995016624352513\n"
     ]
    }
   ],
   "source": [
    "grafo_geo = geosocial.return_geographic_graph_by_radius(1000, coords_str='coords')\n",
    "show_graph_metrics(grafo_geo)"
   ]
  },
  {
   "cell_type": "markdown",
   "metadata": {},
   "source": [
    "### Análise dos componentes conexos"
   ]
  },
  {
   "cell_type": "code",
   "execution_count": null,
   "metadata": {},
   "outputs": [],
   "source": [
    "componentes = nx.weakly_connected_components(grafo2)\n",
    "# type(componentes)\n",
    "print(sum([len(componente) if len(componente) > 1 else 0 for componente in componentes]))\n",
    "componentes = nx.weakly_connected_components(grafo2)\n",
    "print(sorted([len(componente) for componente in componentes], reverse=True))\n"
   ]
  },
  {
   "cell_type": "code",
   "execution_count": null,
   "metadata": {},
   "outputs": [],
   "source": [
    "componentes = nx.connected_components(grafo_geo)\n",
    "print(sum([len(componente) if len(componente) == 1 else 0 for componente in componentes]))"
   ]
  },
  {
   "cell_type": "code",
   "execution_count": null,
   "metadata": {},
   "outputs": [],
   "source": [
    "componentes = nx.weakly_connected_components(grafo2)\n",
    "# type(componentes)\n",
    "print(sum([len(componente) for componente in componentes]))"
   ]
  },
  {
   "cell_type": "code",
   "execution_count": null,
   "metadata": {},
   "outputs": [],
   "source": [
    "componente = max(nx.connected_components(grafo_geo), key=len)\n",
    "grafo_geo_conectado = grafo_geo.subgraph(componente)\n",
    "\n",
    "show_graph_metrics(grafo_geo_conectado)"
   ]
  },
  {
   "cell_type": "code",
   "execution_count": null,
   "metadata": {},
   "outputs": [],
   "source": [
    "for node in grafo_geo.nodes():\n",
    "    if 'coords' in grafo_geo.nodes[node]:\n",
    "        del grafo_geo.nodes[node]['coords']"
   ]
  },
  {
   "cell_type": "code",
   "execution_count": null,
   "metadata": {},
   "outputs": [],
   "source": [
    "nx.write_graphml_lxml(grafo_geo, \"D:\\\\Documentos\\\\data_and_code\\\\all_data_lisbon\\\\grafo_geo.graphml\")"
   ]
  },
  {
   "cell_type": "markdown",
   "metadata": {},
   "source": [
    "### Dividindo em grafos com a mesma quantidade de nós"
   ]
  },
  {
   "cell_type": "code",
   "execution_count": null,
   "metadata": {},
   "outputs": [],
   "source": [
    "# Get the nodes of grafo2\n",
    "nodes = list(grafo.nodes())\n",
    "\n",
    "# Divide the nodes into 10 sets\n",
    "sets_of_nodes = np.array_split(nodes, 10)\n",
    "\n",
    "# Print the sets of nodes\n",
    "for i, nodes_set in enumerate(sets_of_nodes):\n",
    "    print(f\"Set {i+1}: {nodes_set}\")"
   ]
  },
  {
   "cell_type": "markdown",
   "metadata": {},
   "source": [
    "### Dividindo em grafos por proximidades"
   ]
  },
  {
   "cell_type": "code",
   "execution_count": null,
   "metadata": {},
   "outputs": [],
   "source": [
    "grafo2 = grafo.copy()\n",
    "nodes_to_remove = ['afterpurpose', 'BastosDanilsa', 'suxrainstyles', 'encontra_me', 'ohtommogasm', 'soeiro_a_saloia', 'miriaamfdz_']\n",
    "grafo2.remove_nodes_from(nodes_to_remove)"
   ]
  },
  {
   "cell_type": "code",
   "execution_count": null,
   "metadata": {},
   "outputs": [],
   "source": [
    "latitude = 'median_Y'\n",
    "longitude = 'median_X'\n",
    "\n",
    "# Create sets of nodes within a 2km radius\n",
    "sets_of_nodes = []\n",
    "for node in grafo.nodes():\n",
    "    x1, y1 = grafo.nodes[node][latitude], grafo.nodes[node][longitude]\n",
    "    found = False\n",
    "    for s in sets_of_nodes:\n",
    "        x2, y2 = grafo.nodes[s[0]][latitude], grafo.nodes[s[0]][longitude]\n",
    "        distance = calculateDistance(x1, y1, x2, y2)\n",
    "        if distance <= 2000:  # 2km = 2000 meters\n",
    "            s.append(node)\n",
    "            found = True\n",
    "            break\n",
    "    if not found:\n",
    "        sets_of_nodes.append([node])\n",
    "\n",
    "# Print the sets\n",
    "for i, s in enumerate(sets_of_nodes):\n",
    "    print(f\"Set {i+1}: {s}\")"
   ]
  },
  {
   "cell_type": "code",
   "execution_count": null,
   "metadata": {},
   "outputs": [],
   "source": [
    "count = 0\n",
    "for s in sets_of_nodes:\n",
    "    if len(s) == 1:\n",
    "        count += 1\n",
    "\n",
    "print(f\"Total sets with only one color: {count}\")"
   ]
  },
  {
   "cell_type": "code",
   "execution_count": null,
   "metadata": {},
   "outputs": [],
   "source": [
    "# Create a dictionary to store the color for each node\n",
    "node_colors_geo = {}\n",
    "\n",
    "# Assign a unique color to each set with more than one node\n",
    "for i, set_nodes in enumerate(sets_of_nodes):\n",
    "    if len(set_nodes) > 1:\n",
    "        color = plt.cm.tab10(i % 13)  # Use a colormap to generate unique colors\n",
    "        for node in set_nodes:\n",
    "            node_colors_geo[node] = color\n",
    "\n",
    "# Assign the same color to nodes in sets with only one node\n",
    "for set_nodes in sets_of_nodes:\n",
    "    if len(set_nodes) == 1:        \n",
    "        node = set_nodes[0]\n",
    "        if node not in node_colors_geo:\n",
    "            color = plt.cm.tab10((len(sets_of_nodes) - count) * 3)  # Use the first color from the colormap\n",
    "            node_colors_geo[node] = color\n",
    "\n",
    "# Plot the graph with colored nodes\n",
    "pos = {node: (grafo.nodes[node]['median_X'], grafo.nodes[node]['median_Y']) for node in grafo.nodes()}\n",
    "plt.figure(figsize=(10, 10))\n",
    "nx.draw_networkx(grafo, pos=pos, node_color=[node_colors_geo.get(node, 'gray') for node in grafo.nodes()], with_labels=False)\n",
    "plt.axis('off')\n",
    "plt.show()"
   ]
  },
  {
   "cell_type": "code",
   "execution_count": null,
   "metadata": {},
   "outputs": [],
   "source": [
    "dispersao_inversa = 0\n",
    "\n",
    "for i, nodes_set in enumerate(sets_of_nodes):\n",
    "    num_nodes = grafo.number_of_nodes()\n",
    "    \n",
    "    if len(nodes_set) <= 1:\n",
    "        dispersao = 0\n",
    "        print(f\"Set {i+1} inverse Ward dispersion: {dispersao}\")        \n",
    "        continue\n",
    "    \n",
    "    dispersao = calculate_ward_dispersion(grafo, nodes_set, latitude='median_Y', longitude='median_X')\n",
    "    \n",
    "    if dispersao == 0:\n",
    "        print(f\"Set {i+1} inverse Ward dispersion: {dispersao}\")                \n",
    "        continue\n",
    "    \n",
    "    dispersao_inversa += 1 / dispersao\n",
    "    print(f\"Set {i+1} inverse Ward dispersion: {1 / dispersao}\")\n",
    "    \n",
    "print(f\"Total inverse Ward dispersion: {dispersao_inversa}\")"
   ]
  },
  {
   "cell_type": "code",
   "execution_count": null,
   "metadata": {},
   "outputs": [],
   "source": [
    "def geo_social_modularity(D, graph: nx.graph, communities: list, latitude = 'latitude', longitude = 'longitude', d: float = 0.1):\n",
    "            \n",
    "        def calculate_ward_dispersion(grafo: nx.graph, comunidades, latitude, longitude):\n",
    "            if len(comunidades) <= 1:\n",
    "                return 0\n",
    "            \n",
    "            coords = np.array([[float(grafo.nodes[node][longitude]), float(grafo.nodes[node][latitude])] for node in comunidades])\n",
    "            \n",
    "            def community_dispersion(coords: np.array):\n",
    "                centroid = np.mean(coords, axis=0)\n",
    "                \n",
    "                return np.sum((coords - centroid) ** 2)\n",
    "                    \n",
    "            return sum(map(community_dispersion, coords))\n",
    "        \n",
    "        def calculate_transformation(dispersion: float, d: float):            \n",
    "            return (math.log(dispersion) + math.log(D) + math.log(d)) / (math.log(D) - math.log(d))\n",
    "        \n",
    "        \n",
    "        dispersao = 0\n",
    "        for community in communities:\n",
    "            dispersao_comunidade = calculate_ward_dispersion(graph, community, latitude, longitude)\n",
    "            \n",
    "            dispersao += dispersao_comunidade if dispersao_comunidade != 0 else 0\n",
    "        \n",
    "        if dispersao == 0:\n",
    "            return 0\n",
    "            \n",
    "        return math.log(calculate_transformation(dispersao, d))\n",
    "    \n",
    "    \n",
    "geosocial = ga.GeoSocial(grafo, lat=\"median_Y\", lon=\"median_X\")\n",
    "\n",
    "D = geosocial.D\n",
    "d = 0.01\n",
    "centroid = geosocial.centroid\n",
    "\n",
    "print(geo_social_modularity(D, grafo, sets_of_nodes, latitude='median_Y', longitude='median_X', d=0.1))"
   ]
  },
  {
   "cell_type": "code",
   "execution_count": null,
   "metadata": {},
   "outputs": [],
   "source": [
    "geosocial = ga.GeoSocial(grafo, lat=\"median_Y\", lon=\"median_X\")\n",
    "\n",
    "D = geosocial.D\n",
    "d = 0.01\n",
    "centroid = geosocial.centroid\n",
    "\n",
    "modularidade = geosocial.geo_social_modularity(sets_of_nodes, d=d)"
   ]
  },
  {
   "cell_type": "code",
   "execution_count": null,
   "metadata": {},
   "outputs": [],
   "source": [
    "# Cria um grafo vazio\n",
    "grafo = nx.Graph()\n",
    "\n",
    "# Adiciona 5 nós ao grafo com atributos de coordenadas euclidianas\n",
    "for i in range(4):\n",
    "    x = random.uniform(0, 10)  # Coordenada x aleatória entre 0 e 10\n",
    "    y = random.uniform(0, 10)  # Coordenada y aleatória entre 0 e 10\n",
    "    grafo.add_node(i, x=x, y=y)\n",
    "\n",
    "# Exibe os atributos dos nós\n",
    "for node in grafo.nodes():\n",
    "    print(f\"Node {node}: {grafo.nodes[node]}\")"
   ]
  },
  {
   "cell_type": "code",
   "execution_count": null,
   "metadata": {},
   "outputs": [],
   "source": [
    "grafo.add_node(4, x=100, y=100)"
   ]
  },
  {
   "cell_type": "code",
   "execution_count": null,
   "metadata": {},
   "outputs": [],
   "source": [
    "for i in range(4):\n",
    "    grafo.add_edge(i, 4)"
   ]
  },
  {
   "cell_type": "code",
   "execution_count": null,
   "metadata": {},
   "outputs": [],
   "source": [
    "show_graph_metrics(grafo)"
   ]
  },
  {
   "cell_type": "code",
   "execution_count": null,
   "metadata": {},
   "outputs": [],
   "source": [
    "# Get the latitude and longitude attributes from the nodes\n",
    "latitude = nx.get_node_attributes(grafo, 'y')\n",
    "longitude = nx.get_node_attributes(grafo, 'x')\n",
    "\n",
    "# Create a scatter plot of the nodes using latitude and longitude as coordinates\n",
    "plt.figure(figsize=(10, 8))\n",
    "plt.scatter(longitude.values(), latitude.values(), color='blue', alpha=0.7)\n",
    "\n",
    "# Add labels to the nodes\n",
    "for node, pos in zip(grafo.nodes(), zip(longitude.values(), latitude.values())):\n",
    "    plt.annotate(node, pos, fontsize=12, ha='center', textcoords=\"offset points\", xytext=(0, 5))\n",
    "\n",
    "# Set plot title and axis labels\n",
    "plt.title('Posição dos nós no plano cartesiano')\n",
    "plt.xlabel('Coordenada x')\n",
    "plt.ylabel('Coordenada y')\n",
    "\n",
    "# Show the plot\n",
    "plt.show()"
   ]
  },
  {
   "cell_type": "code",
   "execution_count": null,
   "metadata": {},
   "outputs": [],
   "source": [
    "comunidades = [{0, 4}, {1, 2, 3}]\n",
    "\n",
    "geosocial = ga.GeoSocial(grafo, lat=\"y\", lon=\"x\")\n",
    "\n",
    "D = geosocial.D\n",
    "d = 1\n",
    "centroid = geosocial.centroid"
   ]
  },
  {
   "cell_type": "code",
   "execution_count": null,
   "metadata": {},
   "outputs": [],
   "source": [
    "geosocial = ga.GeoSocial(grafo, lat=\"median_Y\", lon=\"meidan_X\")\n",
    "\n",
    "D = geosocial.D\n",
    "d = 1\n",
    "centroid = geosocial.centroid"
   ]
  },
  {
   "cell_type": "code",
   "execution_count": null,
   "metadata": {},
   "outputs": [],
   "source": [
    "print(f\"D: {D}, d: {d}, centroid: {centroid}\")"
   ]
  },
  {
   "cell_type": "code",
   "execution_count": null,
   "metadata": {},
   "outputs": [],
   "source": [
    "comunidades = [[{0, 1, 2, 3, 4}], [{0,4}, {1, 2, 3}], [{0, 1, 2, 3}, {4}], [{0,1}, {2, 3}, {4}]]\n",
    "\n",
    "for i, comunidade in enumerate(comunidades):\n",
    "    print(f\"Modularidade da comunidade {i+1}: {geosocial.geo_social_modularity(comunidade, d=d)}\")"
   ]
  },
  {
   "cell_type": "code",
   "execution_count": null,
   "metadata": {},
   "outputs": [],
   "source": [
    "comunidades_algoritmo = geosocial.custom_greedy_modularity_communities()"
   ]
  },
  {
   "cell_type": "code",
   "execution_count": null,
   "metadata": {},
   "outputs": [],
   "source": []
  },
  {
   "cell_type": "code",
   "execution_count": null,
   "metadata": {},
   "outputs": [],
   "source": [
    "plt.figure(figsize=(25,10))\n",
    "pos = nx.planar_layout(grafo)\n",
    "nx.draw(grafo, pos=pos, with_labels=True)\n",
    "plt.show()"
   ]
  },
  {
   "cell_type": "code",
   "execution_count": null,
   "metadata": {},
   "outputs": [],
   "source": [
    "comunidades = list(nx.community.girvan_newman(grafo))"
   ]
  },
  {
   "cell_type": "code",
   "execution_count": null,
   "metadata": {},
   "outputs": [],
   "source": [
    "for comunidade in comunidades:\n",
    "    modularity_partition = nx.community.modularity(grafo, comunidade)\n",
    "    print(len(comunidade), modularity_partition)"
   ]
  },
  {
   "cell_type": "code",
   "execution_count": null,
   "metadata": {},
   "outputs": [],
   "source": [
    "# Modularity -> measures the strength of division of a network into modules\n",
    "modularity_df = pd.DataFrame(\n",
    "    [\n",
    "        [k + 1, nx.community.modularity(grafo, comunidades[k])]\n",
    "        for k in range(len(comunidades))\n",
    "    ],\n",
    "    columns=[\"k\", \"modularity\"],\n",
    ")"
   ]
  },
  {
   "cell_type": "code",
   "execution_count": null,
   "metadata": {},
   "outputs": [],
   "source": [
    "def create_community_node_colors(graph, communities):\n",
    "    number_of_colors = len(communities[0])\n",
    "    colors = [\"#D4FCB1\", \"#CDC5FC\", \"#FFC2C4\", \"#F2D140\", \"#BCC6C8\"][:number_of_colors]\n",
    "    node_colors = []\n",
    "    for node in graph:\n",
    "        current_community_index = 0\n",
    "        for community in communities:\n",
    "            if node in community:\n",
    "                node_colors.append(colors[current_community_index])\n",
    "                break\n",
    "            current_community_index += 1\n",
    "    return node_colors"
   ]
  },
  {
   "cell_type": "code",
   "execution_count": null,
   "metadata": {},
   "outputs": [],
   "source": [
    "# function to plot graph with node colouring based on communities\n",
    "def visualize_communities(graph, communities, i):\n",
    "    node_colors = create_community_node_colors(graph, communities)\n",
    "    modularity = round(nx.community.modularity(graph, communities), 6)\n",
    "    title = f\"Community Visualization of {len(communities)} communities with modularity of {modularity}\"\n",
    "    pos = nx.spring_layout(graph, k=0.3, iterations=50, seed=2)\n",
    "    plt.subplot(3, 1, i)\n",
    "    plt.title(title)\n",
    "    nx.draw(\n",
    "        graph,\n",
    "        pos=pos,\n",
    "        node_size=1000,\n",
    "        node_color=node_colors,\n",
    "        with_labels=True,\n",
    "        font_size=20,\n",
    "        font_color=\"black\",\n",
    "    )"
   ]
  },
  {
   "cell_type": "code",
   "execution_count": null,
   "metadata": {},
   "outputs": [],
   "source": [
    "fig, ax = plt.subplots(3, figsize=(15, 20))\n",
    "\n",
    "# Plot graph with colouring based on communities\n",
    "visualize_communities(grafo, comunidades[0], 1)\n",
    "visualize_communities(grafo, comunidades[1], 2)\n",
    "\n",
    "# Plot change in modularity as the important edges are removed\n",
    "modularity_df.plot.bar(\n",
    "    x=\"k\",\n",
    "    ax=ax[2],\n",
    "    color=\"#F2D140\",\n",
    "    title=\"Modularity Trend for Girvan-Newman Community Detection\",\n",
    ")\n",
    "plt.show()"
   ]
  },
  {
   "cell_type": "markdown",
   "metadata": {},
   "source": [
    "## Criando as comunidades"
   ]
  },
  {
   "cell_type": "markdown",
   "metadata": {},
   "source": [
    "### Metodologia de Girvan-Newman"
   ]
  },
  {
   "cell_type": "markdown",
   "metadata": {},
   "source": [
    "#### Geração"
   ]
  },
  {
   "cell_type": "code",
   "execution_count": null,
   "metadata": {},
   "outputs": [],
   "source": [
    "# Gerando um subgrafo com o maior componente conexo\n",
    "componentes = nx.weakly_connected_components(grafo_twitter)\n",
    "maior_componente = max(componentes, key=len)\n",
    "grafo_twitter_conexo = grafo_twitter.subgraph(maior_componente)"
   ]
  },
  {
   "cell_type": "code",
   "execution_count": null,
   "metadata": {},
   "outputs": [],
   "source": [
    "grafo_twitter_conexo = nx.read_graphml(\"D:\\\\Documentos\\\\data_and_code\\\\all_data_lisbon\\\\grafo_twitter_conexo.graphml\")"
   ]
  },
  {
   "cell_type": "code",
   "execution_count": null,
   "metadata": {},
   "outputs": [],
   "source": [
    "grafo = grafo_twitter_conexo.copy()\n",
    "\n",
    "for u,v in grafo_twitter_conexo.edges():\n",
    "    if u == v and grafo.has_edge(u,v):\n",
    "        grafo.remove_edge(u,v)\n",
    "        \n",
    "    if u['X_']\n",
    "    "
   ]
  },
  {
   "cell_type": "code",
   "execution_count": null,
   "metadata": {},
   "outputs": [],
   "source": [
    "degrees = []\n",
    "\n",
    "for node in grafo.nodes():\n",
    "    degrees.append(nx.degree(grafo, node))\n",
    "    \n",
    "print(f\"Nº de nós: {grafo.number_of_nodes()}\")\n",
    "print(f\"Nº de links: {grafo.number_of_edges()}\")\n",
    "print(f\"Grau médio: {np.mean(degrees)}\")\n",
    "print(f\"Densidade: {nx.density(grafo)}\")\n",
    "print(f\"Cluster global: {nx.transitivity(grafo)}\")\n",
    "print(f\"Cluster médio: {nx.average_clustering(grafo)}\")"
   ]
  },
  {
   "cell_type": "code",
   "execution_count": null,
   "metadata": {},
   "outputs": [],
   "source": [
    "# atribuir as comunidades aos nós do grafo\n",
    "comunidades = list(nx.community.louvain_communities(grafo))\n",
    "print(f\"Modularidade: {nx.community.modularity(grafo, comunidades)}\")\n",
    "comunidades_dict = {}\n",
    "for i, comunidade in enumerate(comunidades):\n",
    "    for node in comunidade:\n",
    "        comunidades_dict[node] = i\n",
    "        \n",
    "nx.set_node_attributes(grafo, comunidades_dict, 'comunidade_louvain')"
   ]
  },
  {
   "cell_type": "code",
   "execution_count": null,
   "metadata": {},
   "outputs": [],
   "source": [
    "nx.write_graphml_lxml(grafo_twitter_conexo_20, \"D:\\\\Documentos\\\\data_and_code\\\\all_data_lisbon\\\\grafo_twitter_conexo_20.graphml\")"
   ]
  },
  {
   "cell_type": "code",
   "execution_count": null,
   "metadata": {},
   "outputs": [],
   "source": [
    "grafo_twitter_20 = nx.read_graphml(\"D:\\\\Documentos\\\\data_and_code\\\\all_data_lisbon\\\\grafo_twitter_conexo_20.graphml\")"
   ]
  },
  {
   "cell_type": "code",
   "execution_count": null,
   "metadata": {},
   "outputs": [],
   "source": [
    "# Gerando um subgrafo com o maior componente conexo\n",
    "componentes = nx.weakly_connected_components(grafo_twitter_20)\n",
    "maior_componente = max(componentes, key=len)\n",
    "grafo_twitter_20_conexo = grafo_twitter_20.subgraph(maior_componente)"
   ]
  },
  {
   "cell_type": "code",
   "execution_count": null,
   "metadata": {},
   "outputs": [],
   "source": [
    "# copy the graph as undirected\n",
    "\n",
    "grafo_twitter_20_conexo_undirected = grafo_twitter_20_conexo.to_undirected()"
   ]
  },
  {
   "cell_type": "code",
   "execution_count": null,
   "metadata": {},
   "outputs": [],
   "source": [
    "# gerar comunidades Edge Betweeness\n",
    "comunidades = list(nx.community.edge_betweenness_partition(grafo_twitter_20_conexo_undirected, 101))\n",
    "print(f\"Modularidade: {nx.community.modularity(grafo_twitter_20_conexo_undirected, comunidades)}\")\n",
    "comunidades_dict = {}\n",
    "for i, comunidade in enumerate(comunidades):\n",
    "    for node in comunidade:\n",
    "        comunidades_dict[node] = i\n",
    "        \n",
    "nx.set_node_attributes(grafo_twitter_20_conexo_undirected, comunidades_dict, 'comunidade_girvan_newman')"
   ]
  },
  {
   "cell_type": "code",
   "execution_count": null,
   "metadata": {},
   "outputs": [],
   "source": [
    "with open(\"E://comunidades_greedy_sem_autoloop.txt\", \"w\") as f:\n",
    "    for comunidade in comunidades:\n",
    "        f.write(f\"{comunidade}\\n\")"
   ]
  },
  {
   "cell_type": "code",
   "execution_count": null,
   "metadata": {},
   "outputs": [],
   "source": [
    "with open(\"E://comunidades_greedy_sem_autoloop.txt\", \"r\") as f:\n",
    "    comunidades = f.readlines()"
   ]
  },
  {
   "cell_type": "markdown",
   "metadata": {},
   "source": [
    "#### Estatísticas das comunidades"
   ]
  },
  {
   "cell_type": "code",
   "execution_count": null,
   "metadata": {},
   "outputs": [],
   "source": [
    "comunidades = list(nx.community.louvain_communities(grafo_twitter_conexo))\n",
    "print(f\"Modularidade: {nx.community.modularity(grafo_twitter_conexo, comunidades)}\")\n",
    "comunidades_dict = {}\n",
    "for i, comunidade in enumerate(comunidades):\n",
    "    for node in comunidade:\n",
    "        comunidades_dict[node] = i\n",
    "        \n",
    "nx.set_node_attributes(grafo_twitter_conexo, comunidades_dict, 'comunidade_louvain')"
   ]
  },
  {
   "cell_type": "code",
   "execution_count": null,
   "metadata": {},
   "outputs": [],
   "source": [
    "remove = [node for node in grafo_twitter_conexo.nodes() if 'median_lat' not in grafo_twitter_conexo.nodes[node]]"
   ]
  },
  {
   "cell_type": "code",
   "execution_count": null,
   "metadata": {},
   "outputs": [],
   "source": [
    "grafo_twitter_conexo.remove_nodes_from(remove)"
   ]
  },
  {
   "cell_type": "code",
   "execution_count": null,
   "metadata": {},
   "outputs": [],
   "source": [
    "show_graph_metrics(grafo_twitter_conexo)"
   ]
  },
  {
   "cell_type": "code",
   "execution_count": null,
   "metadata": {},
   "outputs": [],
   "source": [
    "nodes = list(grafo_twitter_conexo.nodes())[:10]\n",
    "\n",
    "# Print the nodes and their attributes\n",
    "for node in nodes:\n",
    "    attributes = grafo_twitter_conexo.nodes[node]\n",
    "    print(f\"Node: {node}\")\n",
    "    print(f\"Attributes: {attributes}\")\n",
    "    print(\"--------------------\")"
   ]
  },
  {
   "cell_type": "code",
   "execution_count": null,
   "metadata": {},
   "outputs": [],
   "source": [
    "estatisticas_grafo = calculate_geostatistics(graph=grafo_twitter_conexo, column='comunidade_louvain')"
   ]
  },
  {
   "cell_type": "code",
   "execution_count": null,
   "metadata": {},
   "outputs": [],
   "source": [
    "myKeys = list(estatisticas_grafo.keys())\n",
    "myKeys.sort()\n",
    "sorted_estatisticas_grafo = {i: estatisticas_grafo[i] for i in myKeys}"
   ]
  },
  {
   "cell_type": "code",
   "execution_count": null,
   "metadata": {},
   "outputs": [],
   "source": [
    "text_size_axis = 12\n",
    "text_size_standart = 16\n",
    "\n",
    "# Extract the keys and values from the 'estatisticas' dictionary\n",
    "x = [len(sorted_estatisticas_grafo[key]['x_points']) for key in sorted_estatisticas_grafo.keys()]\n",
    "y = [sorted_estatisticas_grafo[key]['mean_distance_to_center'] for key in sorted_estatisticas_grafo.keys()]\n",
    "\n",
    "# Plot the values in bars, y-axis in log\n",
    "plt.figure(figsize=(10, 5))\n",
    "plt.scatter(x, y)\n",
    "plt.xscale('log')\n",
    "plt.yscale('log')\n",
    "plt.xlabel('Quantidade de nós por comunidade', fontsize=text_size_standart)\n",
    "plt.ylabel('Distância média ao centro em metros', fontsize=text_size_standart)\n",
    "plt.title('Dados por comunidade', fontsize=text_size_standart)\n",
    "plt.xticks(fontsize=text_size_axis)\n",
    "plt.yticks(fontsize=text_size_axis, rotation=90)\n",
    "plt.grid(axis='y', color='black')\n",
    "plt.show()"
   ]
  },
  {
   "cell_type": "code",
   "execution_count": null,
   "metadata": {},
   "outputs": [],
   "source": [
    "text_size_axis = 48\n",
    "text_size_standart = 52\n",
    "\n",
    "# Extract the mean and standard deviation from estatisticas\n",
    "means = [sorted_estatisticas_grafo[key]['mean_distance_to_center'] for key in sorted_estatisticas_grafo.keys()]\n",
    "stds = [sorted_estatisticas_grafo[key]['standard_deviation'] for key in sorted_estatisticas_grafo.keys()]\n",
    "\n",
    "# Create a list of community names\n",
    "community_names = [str(community) for community in sorted_estatisticas_grafo]\n",
    "\n",
    "plt.figure(figsize=(100, 30))\n",
    "# Plot the mean with error bars representing the standard deviation\n",
    "plt.errorbar(community_names, means, yerr=stds, fmt='o', capsize=5, label='Média e Desvio Padrão', ecolor='red', elinewidth=2, capthick=2, markersize=10)\n",
    "\n",
    "# Set the labels and title\n",
    "plt.xlabel('Communidade', fontsize=text_size_standart)\n",
    "plt.ylabel('Distância média ao centro em metros', fontsize=text_size_standart)\n",
    "plt.xticks(fontsize=text_size_axis*.5)\n",
    "plt.yticks(fontsize=text_size_axis, rotation=90)\n",
    "plt.title('Distância média ao centro por comunidade', fontsize=text_size_standart)\n",
    "\n",
    "# Rotate the x-axis labels for better visibility\n",
    "plt.xticks(rotation=45)\n",
    "\n",
    "\n",
    "\n",
    "plt.legend(fontsize=text_size_standart)  # Adiciona a legenda\n",
    "plt.show()\n"
   ]
  },
  {
   "cell_type": "markdown",
   "metadata": {},
   "source": [
    "#### Visualização"
   ]
  },
  {
   "cell_type": "code",
   "execution_count": null,
   "metadata": {},
   "outputs": [],
   "source": [
    "colors = ['#' + ''.join(random.choices('0123456789ABCDEF', k=6)) for _ in range(len(comunidades))]\n",
    "\n",
    "for i, comunidade in enumerate(comunidades):\n",
    "    for node in comunidade:\n",
    "        grafo_twitter_conexo.nodes[node]['comunidade'] = i"
   ]
  },
  {
   "cell_type": "code",
   "execution_count": null,
   "metadata": {},
   "outputs": [],
   "source": [
    "nx.write_graphml_lxml(grafo_twitter_conexo, \"D:\\\\Documentos\\\\data_and_code\\\\all_data_lisbon\\\\grafo_twitter_conexo.graphml\")"
   ]
  },
  {
   "cell_type": "code",
   "execution_count": null,
   "metadata": {},
   "outputs": [],
   "source": [
    "pos = nx.nx_agraph.graphviz_layout(grafo_twitter_conexo, prog=\"dot\")"
   ]
  },
  {
   "cell_type": "markdown",
   "metadata": {},
   "source": [
    "### Metodologia K-Means"
   ]
  },
  {
   "cell_type": "markdown",
   "metadata": {},
   "source": [
    "#### Geração"
   ]
  },
  {
   "cell_type": "code",
   "execution_count": null,
   "metadata": {},
   "outputs": [],
   "source": [
    "# Get the attributes of each node\n",
    "attributes = nx.get_node_attributes(grafo_twitter_conexo, 'median_X')\n",
    "df = pd.DataFrame.from_dict(attributes, orient='index', columns=['median_X'])\n",
    "\n",
    "# Add additional attributes\n",
    "df['median_Y'] = nx.get_node_attributes(grafo_twitter_conexo, 'median_Y').values()\n",
    "df['community_louvain'] = nx.get_node_attributes(grafo_twitter_conexo, 'comunidade_louvain').values()\n",
    "# df['community_greedy'] = nx.get_node_attributes(grafo_twitter_conexo, 'comunidade_girvan_newman').values()\n",
    "\n",
    "# Print the dataframe\n",
    "print(df)\n"
   ]
  },
  {
   "cell_type": "code",
   "execution_count": null,
   "metadata": {},
   "outputs": [],
   "source": [
    "kmeans = KMeans(n_clusters=167, init='k-means++')\n",
    "df['comunidade_kMeans'] = kmeans.fit_predict(df[df.columns[0:2]])"
   ]
  },
  {
   "cell_type": "markdown",
   "metadata": {},
   "source": [
    "#### Visualização"
   ]
  },
  {
   "cell_type": "code",
   "execution_count": null,
   "metadata": {},
   "outputs": [],
   "source": [
    "estatisticas_dataframe = calculate_geostatistics(df=df, column='comunidade_kMeans')"
   ]
  },
  {
   "cell_type": "code",
   "execution_count": null,
   "metadata": {},
   "outputs": [],
   "source": [
    "myKeys = list(estatisticas_dataframe.keys())\n",
    "myKeys.sort()\n",
    "sorted_estatisticas_dataframe = {i: estatisticas_dataframe[i] for i in myKeys}"
   ]
  },
  {
   "cell_type": "code",
   "execution_count": null,
   "metadata": {},
   "outputs": [],
   "source": [
    "text_size_axis = 12\n",
    "text_size_standart = 16\n",
    "\n",
    "# Extract the keys and values from the 'estatisticas' dictionary\n",
    "x = [len(sorted_estatisticas_dataframe[key]['x_points']) for key in sorted_estatisticas_dataframe.keys()]\n",
    "y = [sorted_estatisticas_dataframe[key]['mean_distance_to_center'] for key in sorted_estatisticas_dataframe.keys()]\n",
    "\n",
    "# Plot the values in bars, y-axis in log\n",
    "plt.figure(figsize=(10, 5))\n",
    "plt.scatter(x, y)\n",
    "plt.yscale('log')\n",
    "plt.xlabel('Quantidade de nós por comunidade', fontsize=text_size_standart)\n",
    "plt.ylabel('Distância média ao centro em metros', fontsize=text_size_standart)\n",
    "plt.title('Dados por comunidade', fontsize=text_size_standart)\n",
    "plt.xticks(fontsize=text_size_axis)\n",
    "plt.yticks(fontsize=text_size_axis, rotation=90)\n",
    "plt.grid(axis='y', color='black')\n",
    "plt.show()"
   ]
  },
  {
   "cell_type": "code",
   "execution_count": null,
   "metadata": {},
   "outputs": [],
   "source": [
    "text_size_axis = 48\n",
    "text_size_standart = 52\n",
    "\n",
    "# Extract the mean and standard deviation from estatisticas\n",
    "means = [sorted_estatisticas_dataframe[key]['mean_distance_to_center'] for key in sorted_estatisticas_dataframe.keys()]\n",
    "stds = [sorted_estatisticas_dataframe[key]['standard_deviation'] for key in sorted_estatisticas_dataframe.keys()]\n",
    "\n",
    "# Create a list of community names\n",
    "community_names = [str(community) for community in sorted_estatisticas_dataframe]\n",
    "\n",
    "plt.figure(figsize=(100, 30))\n",
    "# Plot the mean with error bars representing the standard deviation\n",
    "plt.errorbar(community_names, means, yerr=stds, fmt='o', capsize=5, label='Média e Desvio Padrão', ecolor='red', elinewidth=2, capthick=2, markersize=10)\n",
    "\n",
    "# Set the labels and title\n",
    "plt.xlabel('Communidade', fontsize=text_size_standart)\n",
    "plt.ylabel('Distância média ao centro em metros', fontsize=text_size_standart)\n",
    "plt.xticks(fontsize=text_size_axis*.5)\n",
    "plt.yticks(fontsize=text_size_axis, rotation=90)\n",
    "plt.title('Distância média ao centro por comunidade', fontsize=text_size_standart)\n",
    "\n",
    "# Rotate the x-axis labels for better visibility\n",
    "plt.xticks(rotation=45)\n",
    "\n",
    "\n",
    "\n",
    "plt.legend(fontsize=text_size_standart)  # Adiciona a legenda\n",
    "plt.show()"
   ]
  },
  {
   "cell_type": "markdown",
   "metadata": {},
   "source": [
    "### Metodologia Affinity Propagation"
   ]
  },
  {
   "cell_type": "markdown",
   "metadata": {},
   "source": [
    "#### Geração"
   ]
  },
  {
   "cell_type": "code",
   "execution_count": null,
   "metadata": {},
   "outputs": [],
   "source": [
    "affinity = AffinityPropagation(preference=0.5)\n",
    "df['comunidade_affinity'] = affinity.fit_predict(df[df.columns[0:2]])"
   ]
  },
  {
   "cell_type": "code",
   "execution_count": null,
   "metadata": {},
   "outputs": [],
   "source": [
    "estatisticas_affinity = calculate_geostatistics(df=df, column='comunidade_affinity')"
   ]
  },
  {
   "cell_type": "code",
   "execution_count": null,
   "metadata": {},
   "outputs": [],
   "source": [
    "myKeys = list(estatisticas_affinity.keys())\n",
    "myKeys.sort()\n",
    "sorted_estatisticas_affinity = {i: estatisticas_affinity[i] for i in myKeys}"
   ]
  },
  {
   "cell_type": "markdown",
   "metadata": {},
   "source": [
    "#### Visualização"
   ]
  },
  {
   "cell_type": "code",
   "execution_count": null,
   "metadata": {},
   "outputs": [],
   "source": [
    "text_size_axis = 12\n",
    "text_size_standart = 16\n",
    "\n",
    "# Extract the keys and values from the 'estatisticas' dictionary\n",
    "x = [len(sorted_estatisticas_affinity[key]['x_points']) for key in sorted_estatisticas_affinity.keys()]\n",
    "y = [sorted_estatisticas_affinity[key]['mean_distance_to_center'] for key in sorted_estatisticas_affinity.keys()]\n",
    "\n",
    "# Plot the values in bars, y-axis in log\n",
    "plt.figure(figsize=(10, 5))\n",
    "plt.scatter(x, y)\n",
    "plt.yscale('log')\n",
    "plt.xlabel('Quantidade de nós por comunidade', fontsize=text_size_standart)\n",
    "plt.ylabel('Distância média ao centro em metros', fontsize=text_size_standart)\n",
    "plt.title('Dados por comunidade', fontsize=text_size_standart)\n",
    "plt.xticks(fontsize=text_size_axis)\n",
    "plt.yticks(fontsize=text_size_axis, rotation=90)\n",
    "plt.grid(axis='y', color='black')\n",
    "plt.show()"
   ]
  },
  {
   "cell_type": "code",
   "execution_count": null,
   "metadata": {},
   "outputs": [],
   "source": [
    "agglomerative = AgglomerativeClustering(n_clusters=167, linkage='complete')\n",
    "df['comunidade_aglo'] = agglomerative.fit_predict(df[df.columns[0:2]])"
   ]
  },
  {
   "cell_type": "code",
   "execution_count": null,
   "metadata": {},
   "outputs": [],
   "source": [
    "estatisticas_aglomerado = calculate_geostatistics(df=df, column='comunidade_aglo')"
   ]
  },
  {
   "cell_type": "code",
   "execution_count": null,
   "metadata": {},
   "outputs": [],
   "source": [
    "myKeys = list(estatisticas_aglomerado.keys())\n",
    "myKeys.sort()\n",
    "sorted_estatisticas_aglomerado = {i: estatisticas_aglomerado[i] for i in myKeys}"
   ]
  },
  {
   "cell_type": "markdown",
   "metadata": {},
   "source": [
    "### Comunidades geosocial"
   ]
  },
  {
   "cell_type": "code",
   "execution_count": 49,
   "metadata": {},
   "outputs": [],
   "source": [
    "comunidades_social = nx.community.greedy_modularity_communities(grafo)\n",
    "comunidades_geo = nx.community.greedy_modularity_communities(grafo_geo)\n",
    "comunidades_social_05 = nx.community.greedy_modularity_communities(grafo, resolution=0.5)\n",
    "comunidades_social_099 = nx.community.greedy_modularity_communities(grafo, resolution=0.99)"
   ]
  },
  {
   "cell_type": "code",
   "execution_count": 50,
   "metadata": {},
   "outputs": [],
   "source": [
    "node_social_community_map = map_community_nodes(comunidades_social)\n",
    "node_geo_community_map = map_community_nodes(comunidades_geo)"
   ]
  },
  {
   "cell_type": "code",
   "execution_count": 51,
   "metadata": {},
   "outputs": [
    {
     "name": "stderr",
     "output_type": "stream",
     "text": [
      "100%|██████████| 10701/10701 [00:05<00:00, 1841.19it/s]\n"
     ]
    }
   ],
   "source": [
    "for node in tqdmBasic(grafo.nodes(), total=grafo.number_of_nodes()):\n",
    "    if 'coords' in grafo.nodes[node]:\n",
    "        del grafo.nodes[node]['coords']\n",
    "    \n",
    "    grafo.nodes[node]['community_social'] = node_social_community_map[node]\n",
    "    \n",
    "    for node_geo in grafo_geo.nodes(data=True):\n",
    "        if node_geo[1]['username'] == node:\n",
    "            grafo.nodes[node]['community_geographic'] = node_geo_community_map[node_geo[0]]\n",
    "            break\n",
    "    "
   ]
  },
  {
   "cell_type": "markdown",
   "metadata": {},
   "source": [
    "#### Jaccard Similarity"
   ]
  },
  {
   "cell_type": "code",
   "execution_count": 52,
   "metadata": {},
   "outputs": [
    {
     "name": "stderr",
     "output_type": "stream",
     "text": [
      "100%|██████████| 1213/1213 [00:02<00:00, 561.06it/s]\n"
     ]
    }
   ],
   "source": [
    "# Initialize the matrix with zeros\n",
    "jaccard_matrix = np.zeros((len(comunidades_social), len(comunidades_social_099)))\n",
    "\n",
    "# Iterate over each pair of communities\n",
    "for i, com_social in tqdmBasic(enumerate(comunidades_social), total=len(comunidades_social)):\n",
    "    for j, com_geo in enumerate(comunidades_social_099):\n",
    "        jaccard_value = jaccard_similarity(set(com_social), set(com_geo))\n",
    "        \n",
    "        jaccard_matrix[i, j] = jaccard_value"
   ]
  },
  {
   "cell_type": "code",
   "execution_count": 53,
   "metadata": {},
   "outputs": [
    {
     "name": "stderr",
     "output_type": "stream",
     "text": [
      "100%|██████████| 1213/1213 [00:00<00:00, 1268.83it/s]\n"
     ]
    }
   ],
   "source": [
    "# Initialize the matrix with zeros\n",
    "jaccard_matrix = np.zeros((len(comunidades_social), len(comunidades_geo)))\n",
    "\n",
    "# Iterate over each pair of communities\n",
    "for i, com_social in tqdmBasic(enumerate(comunidades_social), total=len(comunidades_social)):\n",
    "    for j, com_geo in enumerate(comunidades_geo):\n",
    "        jaccard_value = jaccard_similarity(set(com_social), set(com_geo))\n",
    "        \n",
    "        jaccard_matrix[i, j] = jaccard_value"
   ]
  },
  {
   "cell_type": "markdown",
   "metadata": {},
   "source": [
    "##### Visualização"
   ]
  },
  {
   "cell_type": "code",
   "execution_count": 54,
   "metadata": {},
   "outputs": [
    {
     "data": {
      "image/png": "[encoded data removed]",
      "text/plain": [
       "<Figure size 1500x600 with 1 Axes>"
      ]
     },
     "metadata": {},
     "output_type": "display_data"
    }
   ],
   "source": [
    "# store the jaccard similarity values different from zero in a list\n",
    "jaccard_values = jaccard_matrix[jaccard_matrix != 0]\n",
    "\n",
    "# Plot the histogram of the Jaccard similarity values in logarithmic scale    \n",
    "plt.figure(figsize=(15, 6))\n",
    "plt.hist(jaccard_values, bins=100, color='lightgreen', edgecolor='black', log=True)\n",
    "plt.xlabel('Similaridade de Jaccard')\n",
    "plt.xticks(np.arange(0, 1.1, 0.05), rotation=90)\n",
    "\n",
    "\n",
    "plt.ylabel('Frequência (log)')\n",
    "plt.title('Distribuição da Similaridade de Jaccard')\n",
    "    \n",
    "plt.show()"
   ]
  },
  {
   "cell_type": "code",
   "execution_count": 58,
   "metadata": {},
   "outputs": [
    {
     "data": {
      "image/png": "[encoded data removed]",
      "text/plain": [
       "<Figure size 3000x1200 with 2 Axes>"
      ]
     },
     "metadata": {},
     "output_type": "display_data"
    }
   ],
   "source": [
    "plt.figure(figsize=(30,12))\n",
    "sns.heatmap(jaccard_matrix, cmap='rainbow', xticklabels=range(len(comunidades_social_099)), yticklabels=range(len(comunidades_social)))\n",
    "plt.xlabel('Comunidades Geográficas')\n",
    "plt.ylabel('Comunidades Sociais')\n",
    "plt.title('Matriz de Similaridade de Jaccard')\n",
    "plt.show()"
   ]
  },
  {
   "cell_type": "code",
   "execution_count": 57,
   "metadata": {},
   "outputs": [
    {
     "data": {
      "image/png": "[encoded data removed]",
      "text/plain": [
       "<Figure size 2000x1200 with 2 Axes>"
      ]
     },
     "metadata": {},
     "output_type": "display_data"
    }
   ],
   "source": [
    "# jaccard matrix heatmap using log scale\n",
    "plt.figure(figsize=(20, 12))\n",
    "sns.heatmap(jaccard_matrix, cmap='coolwarm', norm=LogNorm())\n",
    "plt.xlabel('Comunidades geográficas')\n",
    "plt.ylabel('Comunidades sociais')\n",
    "plt.title('Similaridade de Jaccard entre comunidades sociais e geográficas')\n",
    "plt.show()"
   ]
  },
  {
   "cell_type": "markdown",
   "metadata": {},
   "source": [
    "#### Adjusted Mutual Information"
   ]
  },
  {
   "cell_type": "code",
   "execution_count": 60,
   "metadata": {},
   "outputs": [],
   "source": [
    "all_elements = set().union(*comunidades_social).union(*comunidades_geo)"
   ]
  },
  {
   "cell_type": "code",
   "execution_count": 61,
   "metadata": {},
   "outputs": [
    {
     "name": "stdout",
     "output_type": "stream",
     "text": [
      "Adjusted Mutual Information (AMI) score: 0.07123909893028639\n"
     ]
    }
   ],
   "source": [
    "labels_true = assign_labels(comunidades_social, all_elements)\n",
    "labels_pred = assign_labels(comunidades_geo, all_elements)\n",
    "\n",
    "ami_score = ami(labels_true, labels_pred)\n",
    "\n",
    "print(f\"Adjusted Mutual Information (AMI) score: {ami_score}\")\n"
   ]
  },
  {
   "cell_type": "code",
   "execution_count": 62,
   "metadata": {},
   "outputs": [
    {
     "name": "stdout",
     "output_type": "stream",
     "text": [
      "Adjusted Mutual Information (AMI) score: 0.7368276640090176\n"
     ]
    }
   ],
   "source": [
    "all_elements_1 = set().union(*comunidades_social).union(*comunidades_social_05)\n",
    "\n",
    "labels_true_1 = assign_labels(comunidades_social, all_elements_1)\n",
    "labels_pred_1 = assign_labels(comunidades_social_05, all_elements_1)\n",
    "\n",
    "ami_score = ami(labels_true_1, labels_pred_1)\n",
    "\n",
    "print(f\"Adjusted Mutual Information (AMI) score: {ami_score}\")"
   ]
  },
  {
   "cell_type": "code",
   "execution_count": 63,
   "metadata": {},
   "outputs": [
    {
     "name": "stdout",
     "output_type": "stream",
     "text": [
      "Adjusted Mutual Information (AMI) score: 0.9935116998349767\n"
     ]
    }
   ],
   "source": [
    "all_elements_2 = set().union(*comunidades_social).union(*comunidades_social_099)\n",
    "\n",
    "labels_true_2 = assign_labels(comunidades_social, all_elements_2)\n",
    "labels_pred_2 = assign_labels(comunidades_social_099, all_elements_2)\n",
    "\n",
    "ami_score = ami(labels_true_2, labels_pred_2)\n",
    "\n",
    "print(f\"Adjusted Mutual Information (AMI) score: {ami_score}\")"
   ]
  },
  {
   "cell_type": "markdown",
   "metadata": {},
   "source": [
    "## Teste Clube de Karatê"
   ]
  },
  {
   "cell_type": "code",
   "execution_count": 97,
   "metadata": {},
   "outputs": [
    {
     "name": "stdout",
     "output_type": "stream",
     "text": [
      "Nó 0: Latitude -9.131369417734447, Longitude 38.78403300329338\n",
      "Nó 1: Latitude -9.164278212516594, Longitude 38.778988478750044\n",
      "Nó 2: Latitude -9.217214793911658, Longitude 38.7532168749939\n",
      "Nó 3: Latitude -9.11314561529109, Longitude 38.738387380851826\n",
      "Nó 4: Latitude -9.171846644266644, Longitude 38.69579814399442\n"
     ]
    }
   ],
   "source": [
    "# Criar a rede do clube de karatê\n",
    "G = nx.karate_club_graph()\n",
    "\n",
    "# Gerar coordenadas fictícias\n",
    "num_nodes = G.number_of_nodes()\n",
    "latitudes = np.random.uniform(-9.2298402786254883, -9.0905752182006836, num_nodes)\n",
    "longitudes = np.random.uniform(38.6914024353029617, 38.7958564758300781, num_nodes)\n",
    "\n",
    "# Atribuir coordenadas como atributos dos nós\n",
    "for i, node in enumerate(G.nodes):\n",
    "    G.nodes[node]['latitude'] = latitudes[i]\n",
    "    G.nodes[node]['longitude'] = longitudes[i]\n",
    "    \n",
    "# Exibir algumas coordenadas\n",
    "for node in list(G.nodes)[:5]:\n",
    "    print(f\"Nó {node}: Latitude {G.nodes[node]['latitude']}, Longitude {G.nodes[node]['longitude']}\")"
   ]
  },
  {
   "cell_type": "code",
   "execution_count": 162,
   "metadata": {},
   "outputs": [
    {
     "name": "stdout",
     "output_type": "stream",
     "text": [
      "Nó 0: Coordenadas (8990616.8368451, 476270.77862838446)\n",
      "Nó 1: Coordenadas (8986978.141551873, 475718.7437074103)\n",
      "Nó 2: Coordenadas (8981123.666813813, 472891.3772933278)\n",
      "Nó 3: Coordenadas (8992628.325996974, 471254.0091255672)\n",
      "Nó 4: Coordenadas (8986134.70610473, 466579.74026648153)\n"
     ]
    }
   ],
   "source": [
    "grafo_karate = convert_geo_to_utm(G, 'latitude', 'longitude')\n",
    "\n",
    "for node in grafo_karate.nodes():\n",
    "    lat = grafo_karate.nodes[node]['median_Y']\n",
    "    lon = grafo_karate.nodes[node]['median_X']\n",
    "    grafo_karate.nodes[node]['coords'] = (lat, lon)\n",
    "    \n",
    "for node in list(G.nodes)[:5]:\n",
    "    print(f\"Nó {node}: Coordenadas {grafo_karate.nodes[node]['coords']}\")\n",
    "    \n",
    "geosocial_karate = ga.GeoSocial(grafo_karate, lat='latitude', lon='longitude')\n",
    "\n",
    "grafo_geo_karate = geosocial_karate.return_geographic_graph_by_radius(3500)\n",
    "\n",
    "comunidades_karate = nx.community.greedy_modularity_communities(G)\n",
    "comunidades_geo_karate = nx.community.greedy_modularity_communities(grafo_geo_karate)\n",
    "comunidades_karate_05 = nx.community.greedy_modularity_communities(G, resolution=0.5)\n",
    "comunidades_karate_099 = nx.community.greedy_modularity_communities(G, resolution=0.99)"
   ]
  },
  {
   "cell_type": "code",
   "execution_count": 141,
   "metadata": {},
   "outputs": [
    {
     "name": "stdout",
     "output_type": "stream",
     "text": [
      "Maior distância: 15.095 km.\n"
     ]
    }
   ],
   "source": [
    "max_distance = 0\n",
    "\n",
    "for node in grafo_geo_karate.nodes():\n",
    "    coords = grafo_geo_karate.nodes[node]['coords']\n",
    "    \n",
    "    for other in grafo_geo_karate.nodes():\n",
    "        if node == other:\n",
    "            continue\n",
    "        \n",
    "        other_coords = grafo_geo_karate.nodes[other]['coords']\n",
    "        distance = calculateDistance(coords[0], coords[1], other_coords[0], other_coords[1])\n",
    "        \n",
    "        if distance > max_distance:\n",
    "            max_distance = distance\n",
    "\n",
    "print(f\"Maior distância: {max_distance/1000:,.3f} km.\")"
   ]
  },
  {
   "cell_type": "code",
   "execution_count": 163,
   "metadata": {},
   "outputs": [
    {
     "data": {
      "image/png": "[encoded data removed]",
      "text/plain": [
       "<Figure size 1200x600 with 2 Axes>"
      ]
     },
     "metadata": {},
     "output_type": "display_data"
    }
   ],
   "source": [
    "plot_colored_communities(latitude='latitude', longitude='longitude', grafo=grafo_karate, comunities_original=comunidades_karate, \n",
    "                         grafo_geo=grafo_geo_karate, comunities_geo=comunidades_geo_karate, use_geolocation=False)"
   ]
  },
  {
   "cell_type": "code",
   "execution_count": 164,
   "metadata": {},
   "outputs": [
    {
     "name": "stderr",
     "output_type": "stream",
     "text": [
      "100%|██████████| 3/3 [00:00<?, ?it/s]\n"
     ]
    }
   ],
   "source": [
    "jaccard_matrix = np.zeros((len(comunidades_karate), len(comunidades_geo_karate)))\n",
    "\n",
    "# Iterate over each pair of communities\n",
    "for i, com_social in tqdmBasic(enumerate(comunidades_karate), total=len(comunidades_karate)):\n",
    "    for j, com_geo in enumerate(comunidades_geo_karate):\n",
    "        jaccard_value = jaccard_similarity(set(com_social), set(com_geo))\n",
    "        \n",
    "        jaccard_matrix[i, j] = jaccard_value"
   ]
  },
  {
   "cell_type": "code",
   "execution_count": 165,
   "metadata": {},
   "outputs": [
    {
     "data": {
      "image/png": "[encoded data removed]",
      "text/plain": [
       "<Figure size 1500x600 with 1 Axes>"
      ]
     },
     "metadata": {},
     "output_type": "display_data"
    }
   ],
   "source": [
    "# store the jaccard similarity values different from zero in a list\n",
    "jaccard_values = jaccard_matrix[jaccard_matrix != 0]\n",
    "\n",
    "# Plot the histogram of the Jaccard similarity values in logarithmic scale    \n",
    "plt.figure(figsize=(15, 6))\n",
    "plt.hist(jaccard_values, bins=100, color='lightgreen', edgecolor='black', log=True)\n",
    "plt.xlabel('Similaridade de Jaccard')\n",
    "plt.xticks(np.arange(0, 1.1, 0.05), rotation=90)\n",
    "\n",
    "\n",
    "plt.ylabel('Frequência (log)')\n",
    "plt.title('Distribuição da Similaridade de Jaccard')\n",
    "    \n",
    "plt.show()"
   ]
  },
  {
   "cell_type": "code",
   "execution_count": 166,
   "metadata": {},
   "outputs": [
    {
     "data": {
      "image/png": "[encoded data removed]",
      "text/plain": [
       "<Figure size 3000x1200 with 2 Axes>"
      ]
     },
     "metadata": {},
     "output_type": "display_data"
    }
   ],
   "source": [
    "plt.figure(figsize=(30,12))\n",
    "sns.heatmap(jaccard_matrix, cmap='Greys', xticklabels=range(len(comunidades_geo_karate)), yticklabels=range(len(comunidades_karate)))\n",
    "plt.xlabel('Comunidades Geográficas')\n",
    "plt.ylabel('Comunidades Sociais')\n",
    "plt.title('Matriz de Similaridade de Jaccard')\n",
    "plt.show()"
   ]
  },
  {
   "cell_type": "code",
   "execution_count": 148,
   "metadata": {},
   "outputs": [
    {
     "data": {
      "image/png": "[encoded data removed]",
      "text/plain": [
       "<Figure size 2000x1200 with 2 Axes>"
      ]
     },
     "metadata": {},
     "output_type": "display_data"
    }
   ],
   "source": [
    "# jaccard matrix heatmap using log scale\n",
    "plt.figure(figsize=(20, 12))\n",
    "sns.heatmap(jaccard_matrix, cmap='coolwarm', norm=LogNorm())\n",
    "plt.xlabel('Comunidades geográficas')\n",
    "plt.ylabel('Comunidades sociais')\n",
    "plt.title('Similaridade de Jaccard entre comunidades sociais e geográficas')\n",
    "plt.show()"
   ]
  },
  {
   "cell_type": "code",
   "execution_count": 121,
   "metadata": {},
   "outputs": [],
   "source": [
    "all_elements = set().union(*comunidades_karate).union(*comunidades_geo_karate)"
   ]
  },
  {
   "cell_type": "code",
   "execution_count": 122,
   "metadata": {},
   "outputs": [
    {
     "name": "stdout",
     "output_type": "stream",
     "text": [
      "Adjusted Mutual Information (AMI) score: -0.0051049916298534104\n"
     ]
    }
   ],
   "source": [
    "labels_true = assign_labels(comunidades_karate, all_elements)\n",
    "labels_pred = assign_labels(comunidades_geo_karate, all_elements)\n",
    "\n",
    "ami_score = ami(labels_true, labels_pred)\n",
    "\n",
    "print(f\"Adjusted Mutual Information (AMI) score: {ami_score}\")\n"
   ]
  },
  {
   "cell_type": "markdown",
   "metadata": {},
   "source": [
    "## Visualização Geral"
   ]
  },
  {
   "cell_type": "code",
   "execution_count": null,
   "metadata": {},
   "outputs": [],
   "source": [
    "text_size_axis = 12\n",
    "text_size_standart = 16\n",
    "\n",
    "fig, axs = plt.subplots(2, figsize=(15, 15))\n",
    "\n",
    "fig.suptitle('Comparação de algoritmos de agrupamento', fontsize=text_size_standart)\n",
    "\n",
    "\n",
    "\n",
    "x = [len(sorted_estatisticas_grafo[key]['x_points']) for key in sorted_estatisticas_grafo.keys()]\n",
    "y = [sorted_estatisticas_grafo[key]['mean_distance_to_center'] for key in sorted_estatisticas_grafo.keys()]\n",
    "\n",
    "x2 = [len(sorted_estatisticas_dataframe[key]['x_points']) for key in sorted_estatisticas_dataframe.keys()]\n",
    "y2 = [sorted_estatisticas_dataframe[key]['mean_distance_to_center'] for key in sorted_estatisticas_dataframe.keys()]\n",
    "\n",
    "# x2 = [len(sorted_estatisticas_aglomerado[key]['x_points']) for key in sorted_estatisticas_aglomerado.keys()]\n",
    "# y2 = [sorted_estatisticas_aglomerado[key]['mean_distance_to_center'] for key in sorted_estatisticas_aglomerado.keys()]\n",
    "\n",
    "# Primeiro gráfico\n",
    "axs[0].scatter(x, y)\n",
    "axs[0].set_xscale('log')\n",
    "axs[0].set_yscale('log')\n",
    "axs[0].set_xlabel('Quantidade de nós por comunidade', fontsize=text_size_standart)\n",
    "axs[0].set_ylabel('Distância média ao centro em metros\\nLouvain', fontsize=text_size_standart)\n",
    "axs[0].tick_params(axis='x', labelsize=text_size_axis)\n",
    "axs[0].tick_params(axis='y', labelsize=text_size_axis, rotation=90)\n",
    "axs[0].grid(axis='y', color='black')\n",
    "\n",
    "# Segundo gráfico\n",
    "axs[1].scatter(x2, y2)\n",
    "axs[1].set_xscale('log')\n",
    "axs[1].set_yscale('log')\n",
    "axs[1].set_xlabel('Quantidade de nós por comunidade', fontsize=text_size_standart)\n",
    "axs[1].set_ylabel('Distância média ao centro em metros\\nK Means', fontsize=text_size_standart)\n",
    "# axs[1].set_title('Dados por comunidade', fontsize=text_size_standart)\n",
    "axs[1].tick_params(axis='x', labelsize=text_size_axis)\n",
    "axs[1].tick_params(axis='y', labelsize=text_size_axis, rotation=90)\n",
    "axs[1].grid(axis='y', color='black')\n",
    "axs[1].set_ylim(axs[0].get_ylim())\n",
    "\n",
    "# Terceiro gráfico\n",
    "# axs[2].scatter(x2, y2)\n",
    "# axs[2].set_xscale('log')\n",
    "# axs[2].set_yscale('log')\n",
    "# axs[2].set_xlabel('Quantidade de nós por comunidade', fontsize=text_size_standart)\n",
    "# axs[2].set_ylabel('Distância média ao centro em metros\\nAglomerativo (Completo)', fontsize=text_size_standart)\n",
    "# # axs[2].set_title('Dados por comunidade', fontsize=text_size_standart)\n",
    "# axs[2].tick_params(axis='x', labelsize=text_size_axis)\n",
    "# axs[2].tick_params(axis='y', labelsize=text_size_axis, rotation=90)\n",
    "# axs[2].grid(axis='y', color='black')\n",
    "# axs[2].set_ylim(axs[0].get_ylim())\n",
    "\n",
    "plt.tight_layout()\n",
    "plt.show()"
   ]
  },
  {
   "cell_type": "code",
   "execution_count": null,
   "metadata": {},
   "outputs": [],
   "source": [
    "fig2, axs2 = plt.subplots(2, figsize=(100, 100))\n",
    "\n",
    "text_size_axis = 48\n",
    "text_size_standart = 52\n",
    "\n",
    "# Extract the mean and standard deviation from estatisticas\n",
    "means_louvain = [sorted_estatisticas_grafo[key]['mean_distance_to_center'] for key in sorted_estatisticas_grafo.keys()]\n",
    "stds_louvain = [sorted_estatisticas_grafo[key]['standard_deviation'] for key in sorted_estatisticas_grafo.keys()]\n",
    "\n",
    "# Create a list of community names\n",
    "community_names_louvain = [str(community) for community in sorted_estatisticas_grafo]\n",
    "\n",
    "means_k_means = [sorted_estatisticas_dataframe[key]['mean_distance_to_center'] for key in sorted_estatisticas_dataframe.keys()]\n",
    "stds_k_means = [sorted_estatisticas_dataframe[key]['standard_deviation'] for key in sorted_estatisticas_dataframe.keys()]\n",
    "\n",
    "# Create a list of community names\n",
    "community_names_k_means = [str(community) for community in sorted_estatisticas_dataframe]\n",
    "\n",
    "labels_louvain = [label if i % 5 == 0 else '' for i, label in enumerate(community_names_louvain)]\n",
    "labels_k_means = [label if i % 5 == 0 else '' for i, label in enumerate(community_names_k_means)]\n",
    "\n",
    "\n",
    "axs2[0].errorbar(community_names_louvain, means_louvain, yerr=stds_louvain, fmt='o', capsize=5, label='Média e Desvio Padrão', ecolor='red', elinewidth=2, capthick=2, markersize=15)\n",
    "\n",
    "# Set the labels and title\n",
    "# axs2[0].set_xlabel('Communidade', fontsize=text_size_standart)\n",
    "axs2[0].set_ylabel('Distância média ao centro em metros', fontsize=text_size_standart)\n",
    "axs2[0].tick_params(axis='x', labelsize=text_size_axis, rotation=45)\n",
    "axs2[0].tick_params(axis='y', labelsize=text_size_axis, rotation=90)\n",
    "axs2[0].set_title('Distância média ao centro por comunidade', fontsize=text_size_standart)\n",
    "axs2[0].set_xticks(range(len(community_names_louvain)))\n",
    "axs2[0].set_xticklabels(labels_louvain, rotation=90)\n",
    "axs2[0].grid(axis='y', color='black')\n",
    "axs2[0].legend(fontsize=text_size_standart)\n",
    "\n",
    "# Plot the mean with error bars representing the standard deviation\n",
    "axs2[1].errorbar(community_names_k_means, means_k_means, yerr=stds_k_means, fmt='o', capsize=5, label='Média e Desvio Padrão', ecolor='red', elinewidth=2, capthick=2, markersize=15)\n",
    "\n",
    "axs2[1].set_xlabel('Communidade', fontsize=text_size_standart)\n",
    "axs2[1].set_ylabel('Distância média ao centro em metros', fontsize=text_size_standart)\n",
    "axs2[1].tick_params(axis='x', labelsize=text_size_axis, rotation=45)\n",
    "axs2[1].tick_params(axis='y', labelsize=text_size_axis, rotation=90)\n",
    "axs2[1].set_xticks(range(len(community_names_k_means)))\n",
    "axs2[1].set_xticklabels(labels_k_means, rotation=90)\n",
    "# axs2[1].set_title('Distância média ao centro por comunidade', fontsize=text_size_standart)\n",
    "axs2[1].grid(axis='y', color='black')\n",
    "axs2[1].legend(fontsize=text_size_standart)\n",
    "axs2[1].legend(fontsize=text_size_standart)  # Adiciona a legenda\n",
    "\n",
    "plt.tight_layout()\n",
    "plt.show()"
   ]
  },
  {
   "cell_type": "code",
   "execution_count": null,
   "metadata": {},
   "outputs": [],
   "source": [
    "df.to_csv('E://df.csv')"
   ]
  },
  {
   "cell_type": "code",
   "execution_count": null,
   "metadata": {},
   "outputs": [],
   "source": [
    "text_size_axis = 12\n",
    "text_size_standart = 16\n",
    "\n",
    "# Extract the keys and values from the 'estatisticas' dictionary\n",
    "x = [len(estatisticas_aglomerado[key]['x_points']) for key in estatisticas_aglomerado.keys()]\n",
    "y = [estatisticas_aglomerado[key]['mean_distance_to_center'] for key in estatisticas_aglomerado.keys()]\n",
    "\n",
    "# Plot the values in bars, y-axis in log\n",
    "plt.figure(figsize=(10, 5))\n",
    "plt.scatter(x, y)\n",
    "plt.yscale('log')\n",
    "plt.xlabel('Quantidade de nós por comunidade', fontsize=text_size_standart)\n",
    "plt.ylabel('Distância média ao centro em metros', fontsize=text_size_standart)\n",
    "plt.title('Dados por comunidade', fontsize=text_size_standart)\n",
    "plt.xticks(fontsize=text_size_axis)\n",
    "plt.yticks(fontsize=text_size_axis, rotation=90)\n",
    "plt.grid(axis='y', color='black')\n",
    "plt.show()"
   ]
  },
  {
   "cell_type": "markdown",
   "metadata": {},
   "source": [
    "# Fim"
   ]
  },
  {
   "cell_type": "code",
   "execution_count": null,
   "metadata": {},
   "outputs": [],
   "source": [
    "max_edge_secao = max(grafo_fluxo_secao.edges(data=True), key=lambda x: x[2].get('weight', 0))\n",
    "max_edge_freguesia = max(grafo_fluxo_freguesia.edges(data=True), key=lambda x: x[2].get('weight', 0))\n",
    "max_edge_municipio = max(grafo_fluxo_municipio.edges(data=True), key=lambda x: x[2].get('weight', 0))\n",
    "\n",
    "print(f\"Fluxo máximo entre seções: {max_edge_secao[0]} -> {max_edge_secao[1]} com {max_edge_secao[2]['weight']} tweets\")\n",
    "print(f\"Fluxo máximo entre freguesias: {max_edge_freguesia[0]} -> {max_edge_freguesia[1]} com {max_edge_freguesia[2]['weight']} tweets\")\n",
    "print(f\"Fluxo máximo entre municípios: {max_edge_municipio[0]} -> {max_edge_municipio[1]} com {max_edge_municipio[2]['weight']} tweets\")\n",
    "\n"
   ]
  },
  {
   "cell_type": "code",
   "execution_count": null,
   "metadata": {},
   "outputs": [],
   "source": [
    "nx.write_graphml_lxml(giant_connected_component, \"D:\\\\Documentos\\\\data_and_code\\\\all_data_lisbon\\\\grafo_twitter_giant_connected_component.graphml\")"
   ]
  },
  {
   "cell_type": "code",
   "execution_count": null,
   "metadata": {},
   "outputs": [],
   "source": [
    "# Criar a rede do clube de karatê\n",
    "G = nx.karate_club_graph()\n",
    "\n",
    "# Gerar coordenadas fictícias\n",
    "num_nodes = G.number_of_nodes()\n",
    "latitudes = np.random.uniform(-90, 90, num_nodes)\n",
    "longitudes = np.random.uniform(-180, 180, num_nodes)\n",
    "\n",
    "# Atribuir coordenadas como atributos dos nós\n",
    "for i, node in enumerate(G.nodes):\n",
    "    G.nodes[node]['latitude'] = latitudes[i]\n",
    "    G.nodes[node]['longitude'] = longitudes[i]\n",
    "\n",
    "# Exibir algumas coordenadas\n",
    "for node in list(G.nodes):\n",
    "    print(f\"Nó {node}: Latitude {G.nodes[node]['latitude']}, Longitude {G.nodes[node]['longitude']}\")\n"
   ]
  }
 ],
 "metadata": {
  "kernelspec": {
   "display_name": "Python 3",
   "language": "python",
   "name": "python3"
  },
  "language_info": {
   "codemirror_mode": {
    "name": "ipython",
    "version": 3
   },
   "file_extension": ".py",
   "mimetype": "text/x-python",
   "name": "python",
   "nbconvert_exporter": "python",
   "pygments_lexer": "ipython3",
   "version": "3.12.0"
  }
 },
 "nbformat": 4,
 "nbformat_minor": 2
}
